{
  "nbformat": 4,
  "nbformat_minor": 0,
  "metadata": {
    "colab": {
      "provenance": [],
      "collapsed_sections": []
    },
    "kernelspec": {
      "name": "python3",
      "display_name": "Python 3"
    },
    "language_info": {
      "name": "python"
    }
  },
  "cells": [
    {
      "cell_type": "markdown",
      "source": [
        "# Model and Data Analysis for One Crops (Banana) Data"
      ],
      "metadata": {
        "id": "zvOAmfoX2mcC"
      }
    },
    {
      "cell_type": "code",
      "execution_count": 1,
      "metadata": {
        "id": "q-IKWBcfLXTl"
      },
      "outputs": [],
      "source": [
        "import pandas as pd\n",
        "from sklearn.preprocessing import MinMaxScaler,StandardScaler\n",
        "import matplotlib.pyplot as plt"
      ]
    },
    {
      "cell_type": "code",
      "source": [
        "from google.colab import drive\n",
        "drive.mount('/content/drive')"
      ],
      "metadata": {
        "colab": {
          "base_uri": "https://localhost:8080/"
        },
        "id": "aNGyQlnvhTJX",
        "outputId": "3f128a68-e65d-4cd5-cd74-264dfac74eb4"
      },
      "execution_count": 2,
      "outputs": [
        {
          "output_type": "stream",
          "name": "stdout",
          "text": [
            "Mounted at /content/drive\n"
          ]
        }
      ]
    },
    {
      "cell_type": "markdown",
      "source": [
        "# Read Dataset"
      ],
      "metadata": {
        "id": "HDYwKjBBCspK"
      }
    },
    {
      "cell_type": "markdown",
      "source": [
        "# Read the Processed data"
      ],
      "metadata": {
        "id": "OLiyqz0-AKAy"
      }
    },
    {
      "cell_type": "code",
      "source": [
        "df=pd.read_csv('/content/drive/MyDrive/TDS_HW6/Data_ft_banana_1961_2020.csv',index_col=0)\n",
        "df.head()"
      ],
      "metadata": {
        "colab": {
          "base_uri": "https://localhost:8080/",
          "height": 206
        },
        "id": "2PA8n2DUAJh7",
        "outputId": "8cac1cf5-0214-4704-b270-92559d610a29"
      },
      "execution_count": 3,
      "outputs": [
        {
          "output_type": "execute_result",
          "data": {
            "text/plain": [
              "   Item Code (CPC)  Year  Area harvested  Production   Yield  Precipitation  \\\n",
              "0             1312  1961          165000     2257000  136788        1286.98   \n",
              "1             1312  1962          181000     2425000  133978        1169.53   \n",
              "2             1312  1963          193000     2601000  134767        1149.64   \n",
              "3             1312  1964          198000     2684000  135556        1189.87   \n",
              "4             1312  1965          211000     3271000  155024         953.51   \n",
              "\n",
              "   Minimum Temperature  \n",
              "0                18.14  \n",
              "1                18.03  \n",
              "2                18.16  \n",
              "3                18.14  \n",
              "4                18.23  "
            ],
            "text/html": [
              "\n",
              "  <div id=\"df-fea8c23f-c9e7-40a1-8cbd-8f192e6bc1ee\">\n",
              "    <div class=\"colab-df-container\">\n",
              "      <div>\n",
              "<style scoped>\n",
              "    .dataframe tbody tr th:only-of-type {\n",
              "        vertical-align: middle;\n",
              "    }\n",
              "\n",
              "    .dataframe tbody tr th {\n",
              "        vertical-align: top;\n",
              "    }\n",
              "\n",
              "    .dataframe thead th {\n",
              "        text-align: right;\n",
              "    }\n",
              "</style>\n",
              "<table border=\"1\" class=\"dataframe\">\n",
              "  <thead>\n",
              "    <tr style=\"text-align: right;\">\n",
              "      <th></th>\n",
              "      <th>Item Code (CPC)</th>\n",
              "      <th>Year</th>\n",
              "      <th>Area harvested</th>\n",
              "      <th>Production</th>\n",
              "      <th>Yield</th>\n",
              "      <th>Precipitation</th>\n",
              "      <th>Minimum Temperature</th>\n",
              "    </tr>\n",
              "  </thead>\n",
              "  <tbody>\n",
              "    <tr>\n",
              "      <th>0</th>\n",
              "      <td>1312</td>\n",
              "      <td>1961</td>\n",
              "      <td>165000</td>\n",
              "      <td>2257000</td>\n",
              "      <td>136788</td>\n",
              "      <td>1286.98</td>\n",
              "      <td>18.14</td>\n",
              "    </tr>\n",
              "    <tr>\n",
              "      <th>1</th>\n",
              "      <td>1312</td>\n",
              "      <td>1962</td>\n",
              "      <td>181000</td>\n",
              "      <td>2425000</td>\n",
              "      <td>133978</td>\n",
              "      <td>1169.53</td>\n",
              "      <td>18.03</td>\n",
              "    </tr>\n",
              "    <tr>\n",
              "      <th>2</th>\n",
              "      <td>1312</td>\n",
              "      <td>1963</td>\n",
              "      <td>193000</td>\n",
              "      <td>2601000</td>\n",
              "      <td>134767</td>\n",
              "      <td>1149.64</td>\n",
              "      <td>18.16</td>\n",
              "    </tr>\n",
              "    <tr>\n",
              "      <th>3</th>\n",
              "      <td>1312</td>\n",
              "      <td>1964</td>\n",
              "      <td>198000</td>\n",
              "      <td>2684000</td>\n",
              "      <td>135556</td>\n",
              "      <td>1189.87</td>\n",
              "      <td>18.14</td>\n",
              "    </tr>\n",
              "    <tr>\n",
              "      <th>4</th>\n",
              "      <td>1312</td>\n",
              "      <td>1965</td>\n",
              "      <td>211000</td>\n",
              "      <td>3271000</td>\n",
              "      <td>155024</td>\n",
              "      <td>953.51</td>\n",
              "      <td>18.23</td>\n",
              "    </tr>\n",
              "  </tbody>\n",
              "</table>\n",
              "</div>\n",
              "      <button class=\"colab-df-convert\" onclick=\"convertToInteractive('df-fea8c23f-c9e7-40a1-8cbd-8f192e6bc1ee')\"\n",
              "              title=\"Convert this dataframe to an interactive table.\"\n",
              "              style=\"display:none;\">\n",
              "        \n",
              "  <svg xmlns=\"http://www.w3.org/2000/svg\" height=\"24px\"viewBox=\"0 0 24 24\"\n",
              "       width=\"24px\">\n",
              "    <path d=\"M0 0h24v24H0V0z\" fill=\"none\"/>\n",
              "    <path d=\"M18.56 5.44l.94 2.06.94-2.06 2.06-.94-2.06-.94-.94-2.06-.94 2.06-2.06.94zm-11 1L8.5 8.5l.94-2.06 2.06-.94-2.06-.94L8.5 2.5l-.94 2.06-2.06.94zm10 10l.94 2.06.94-2.06 2.06-.94-2.06-.94-.94-2.06-.94 2.06-2.06.94z\"/><path d=\"M17.41 7.96l-1.37-1.37c-.4-.4-.92-.59-1.43-.59-.52 0-1.04.2-1.43.59L10.3 9.45l-7.72 7.72c-.78.78-.78 2.05 0 2.83L4 21.41c.39.39.9.59 1.41.59.51 0 1.02-.2 1.41-.59l7.78-7.78 2.81-2.81c.8-.78.8-2.07 0-2.86zM5.41 20L4 18.59l7.72-7.72 1.47 1.35L5.41 20z\"/>\n",
              "  </svg>\n",
              "      </button>\n",
              "      \n",
              "  <style>\n",
              "    .colab-df-container {\n",
              "      display:flex;\n",
              "      flex-wrap:wrap;\n",
              "      gap: 12px;\n",
              "    }\n",
              "\n",
              "    .colab-df-convert {\n",
              "      background-color: #E8F0FE;\n",
              "      border: none;\n",
              "      border-radius: 50%;\n",
              "      cursor: pointer;\n",
              "      display: none;\n",
              "      fill: #1967D2;\n",
              "      height: 32px;\n",
              "      padding: 0 0 0 0;\n",
              "      width: 32px;\n",
              "    }\n",
              "\n",
              "    .colab-df-convert:hover {\n",
              "      background-color: #E2EBFA;\n",
              "      box-shadow: 0px 1px 2px rgba(60, 64, 67, 0.3), 0px 1px 3px 1px rgba(60, 64, 67, 0.15);\n",
              "      fill: #174EA6;\n",
              "    }\n",
              "\n",
              "    [theme=dark] .colab-df-convert {\n",
              "      background-color: #3B4455;\n",
              "      fill: #D2E3FC;\n",
              "    }\n",
              "\n",
              "    [theme=dark] .colab-df-convert:hover {\n",
              "      background-color: #434B5C;\n",
              "      box-shadow: 0px 1px 3px 1px rgba(0, 0, 0, 0.15);\n",
              "      filter: drop-shadow(0px 1px 2px rgba(0, 0, 0, 0.3));\n",
              "      fill: #FFFFFF;\n",
              "    }\n",
              "  </style>\n",
              "\n",
              "      <script>\n",
              "        const buttonEl =\n",
              "          document.querySelector('#df-fea8c23f-c9e7-40a1-8cbd-8f192e6bc1ee button.colab-df-convert');\n",
              "        buttonEl.style.display =\n",
              "          google.colab.kernel.accessAllowed ? 'block' : 'none';\n",
              "\n",
              "        async function convertToInteractive(key) {\n",
              "          const element = document.querySelector('#df-fea8c23f-c9e7-40a1-8cbd-8f192e6bc1ee');\n",
              "          const dataTable =\n",
              "            await google.colab.kernel.invokeFunction('convertToInteractive',\n",
              "                                                     [key], {});\n",
              "          if (!dataTable) return;\n",
              "\n",
              "          const docLinkHtml = 'Like what you see? Visit the ' +\n",
              "            '<a target=\"_blank\" href=https://colab.research.google.com/notebooks/data_table.ipynb>data table notebook</a>'\n",
              "            + ' to learn more about interactive tables.';\n",
              "          element.innerHTML = '';\n",
              "          dataTable['output_type'] = 'display_data';\n",
              "          await google.colab.output.renderOutput(dataTable, element);\n",
              "          const docLink = document.createElement('div');\n",
              "          docLink.innerHTML = docLinkHtml;\n",
              "          element.appendChild(docLink);\n",
              "        }\n",
              "      </script>\n",
              "    </div>\n",
              "  </div>\n",
              "  "
            ]
          },
          "metadata": {},
          "execution_count": 3
        }
      ]
    },
    {
      "cell_type": "code",
      "source": [
        "df['Item Code (CPC)'].unique()"
      ],
      "metadata": {
        "colab": {
          "base_uri": "https://localhost:8080/"
        },
        "id": "3JMuuYROxj6U",
        "outputId": "54970ba0-593a-4102-e434-43cd117d5d78"
      },
      "execution_count": 4,
      "outputs": [
        {
          "output_type": "execute_result",
          "data": {
            "text/plain": [
              "array([1312])"
            ]
          },
          "metadata": {},
          "execution_count": 4
        }
      ]
    },
    {
      "cell_type": "code",
      "source": [
        "df.drop('Item Code (CPC)', axis=1,inplace=True)\n",
        "#df3.drop('Item Code (CPC)', axis=1, inplace=True)"
      ],
      "metadata": {
        "id": "XuKZ_GnLAtBZ"
      },
      "execution_count": 5,
      "outputs": []
    },
    {
      "cell_type": "code",
      "source": [
        "df.head()"
      ],
      "metadata": {
        "colab": {
          "base_uri": "https://localhost:8080/",
          "height": 206
        },
        "id": "ZT7aCJaUAu1K",
        "outputId": "766b46e1-902e-4e25-f937-615afbdc1454"
      },
      "execution_count": 6,
      "outputs": [
        {
          "output_type": "execute_result",
          "data": {
            "text/plain": [
              "   Year  Area harvested  Production   Yield  Precipitation  \\\n",
              "0  1961          165000     2257000  136788        1286.98   \n",
              "1  1962          181000     2425000  133978        1169.53   \n",
              "2  1963          193000     2601000  134767        1149.64   \n",
              "3  1964          198000     2684000  135556        1189.87   \n",
              "4  1965          211000     3271000  155024         953.51   \n",
              "\n",
              "   Minimum Temperature  \n",
              "0                18.14  \n",
              "1                18.03  \n",
              "2                18.16  \n",
              "3                18.14  \n",
              "4                18.23  "
            ],
            "text/html": [
              "\n",
              "  <div id=\"df-1f7d9b8c-697a-4d39-b63c-7d1e0e7dcf96\">\n",
              "    <div class=\"colab-df-container\">\n",
              "      <div>\n",
              "<style scoped>\n",
              "    .dataframe tbody tr th:only-of-type {\n",
              "        vertical-align: middle;\n",
              "    }\n",
              "\n",
              "    .dataframe tbody tr th {\n",
              "        vertical-align: top;\n",
              "    }\n",
              "\n",
              "    .dataframe thead th {\n",
              "        text-align: right;\n",
              "    }\n",
              "</style>\n",
              "<table border=\"1\" class=\"dataframe\">\n",
              "  <thead>\n",
              "    <tr style=\"text-align: right;\">\n",
              "      <th></th>\n",
              "      <th>Year</th>\n",
              "      <th>Area harvested</th>\n",
              "      <th>Production</th>\n",
              "      <th>Yield</th>\n",
              "      <th>Precipitation</th>\n",
              "      <th>Minimum Temperature</th>\n",
              "    </tr>\n",
              "  </thead>\n",
              "  <tbody>\n",
              "    <tr>\n",
              "      <th>0</th>\n",
              "      <td>1961</td>\n",
              "      <td>165000</td>\n",
              "      <td>2257000</td>\n",
              "      <td>136788</td>\n",
              "      <td>1286.98</td>\n",
              "      <td>18.14</td>\n",
              "    </tr>\n",
              "    <tr>\n",
              "      <th>1</th>\n",
              "      <td>1962</td>\n",
              "      <td>181000</td>\n",
              "      <td>2425000</td>\n",
              "      <td>133978</td>\n",
              "      <td>1169.53</td>\n",
              "      <td>18.03</td>\n",
              "    </tr>\n",
              "    <tr>\n",
              "      <th>2</th>\n",
              "      <td>1963</td>\n",
              "      <td>193000</td>\n",
              "      <td>2601000</td>\n",
              "      <td>134767</td>\n",
              "      <td>1149.64</td>\n",
              "      <td>18.16</td>\n",
              "    </tr>\n",
              "    <tr>\n",
              "      <th>3</th>\n",
              "      <td>1964</td>\n",
              "      <td>198000</td>\n",
              "      <td>2684000</td>\n",
              "      <td>135556</td>\n",
              "      <td>1189.87</td>\n",
              "      <td>18.14</td>\n",
              "    </tr>\n",
              "    <tr>\n",
              "      <th>4</th>\n",
              "      <td>1965</td>\n",
              "      <td>211000</td>\n",
              "      <td>3271000</td>\n",
              "      <td>155024</td>\n",
              "      <td>953.51</td>\n",
              "      <td>18.23</td>\n",
              "    </tr>\n",
              "  </tbody>\n",
              "</table>\n",
              "</div>\n",
              "      <button class=\"colab-df-convert\" onclick=\"convertToInteractive('df-1f7d9b8c-697a-4d39-b63c-7d1e0e7dcf96')\"\n",
              "              title=\"Convert this dataframe to an interactive table.\"\n",
              "              style=\"display:none;\">\n",
              "        \n",
              "  <svg xmlns=\"http://www.w3.org/2000/svg\" height=\"24px\"viewBox=\"0 0 24 24\"\n",
              "       width=\"24px\">\n",
              "    <path d=\"M0 0h24v24H0V0z\" fill=\"none\"/>\n",
              "    <path d=\"M18.56 5.44l.94 2.06.94-2.06 2.06-.94-2.06-.94-.94-2.06-.94 2.06-2.06.94zm-11 1L8.5 8.5l.94-2.06 2.06-.94-2.06-.94L8.5 2.5l-.94 2.06-2.06.94zm10 10l.94 2.06.94-2.06 2.06-.94-2.06-.94-.94-2.06-.94 2.06-2.06.94z\"/><path d=\"M17.41 7.96l-1.37-1.37c-.4-.4-.92-.59-1.43-.59-.52 0-1.04.2-1.43.59L10.3 9.45l-7.72 7.72c-.78.78-.78 2.05 0 2.83L4 21.41c.39.39.9.59 1.41.59.51 0 1.02-.2 1.41-.59l7.78-7.78 2.81-2.81c.8-.78.8-2.07 0-2.86zM5.41 20L4 18.59l7.72-7.72 1.47 1.35L5.41 20z\"/>\n",
              "  </svg>\n",
              "      </button>\n",
              "      \n",
              "  <style>\n",
              "    .colab-df-container {\n",
              "      display:flex;\n",
              "      flex-wrap:wrap;\n",
              "      gap: 12px;\n",
              "    }\n",
              "\n",
              "    .colab-df-convert {\n",
              "      background-color: #E8F0FE;\n",
              "      border: none;\n",
              "      border-radius: 50%;\n",
              "      cursor: pointer;\n",
              "      display: none;\n",
              "      fill: #1967D2;\n",
              "      height: 32px;\n",
              "      padding: 0 0 0 0;\n",
              "      width: 32px;\n",
              "    }\n",
              "\n",
              "    .colab-df-convert:hover {\n",
              "      background-color: #E2EBFA;\n",
              "      box-shadow: 0px 1px 2px rgba(60, 64, 67, 0.3), 0px 1px 3px 1px rgba(60, 64, 67, 0.15);\n",
              "      fill: #174EA6;\n",
              "    }\n",
              "\n",
              "    [theme=dark] .colab-df-convert {\n",
              "      background-color: #3B4455;\n",
              "      fill: #D2E3FC;\n",
              "    }\n",
              "\n",
              "    [theme=dark] .colab-df-convert:hover {\n",
              "      background-color: #434B5C;\n",
              "      box-shadow: 0px 1px 3px 1px rgba(0, 0, 0, 0.15);\n",
              "      filter: drop-shadow(0px 1px 2px rgba(0, 0, 0, 0.3));\n",
              "      fill: #FFFFFF;\n",
              "    }\n",
              "  </style>\n",
              "\n",
              "      <script>\n",
              "        const buttonEl =\n",
              "          document.querySelector('#df-1f7d9b8c-697a-4d39-b63c-7d1e0e7dcf96 button.colab-df-convert');\n",
              "        buttonEl.style.display =\n",
              "          google.colab.kernel.accessAllowed ? 'block' : 'none';\n",
              "\n",
              "        async function convertToInteractive(key) {\n",
              "          const element = document.querySelector('#df-1f7d9b8c-697a-4d39-b63c-7d1e0e7dcf96');\n",
              "          const dataTable =\n",
              "            await google.colab.kernel.invokeFunction('convertToInteractive',\n",
              "                                                     [key], {});\n",
              "          if (!dataTable) return;\n",
              "\n",
              "          const docLinkHtml = 'Like what you see? Visit the ' +\n",
              "            '<a target=\"_blank\" href=https://colab.research.google.com/notebooks/data_table.ipynb>data table notebook</a>'\n",
              "            + ' to learn more about interactive tables.';\n",
              "          element.innerHTML = '';\n",
              "          dataTable['output_type'] = 'display_data';\n",
              "          await google.colab.output.renderOutput(dataTable, element);\n",
              "          const docLink = document.createElement('div');\n",
              "          docLink.innerHTML = docLinkHtml;\n",
              "          element.appendChild(docLink);\n",
              "        }\n",
              "      </script>\n",
              "    </div>\n",
              "  </div>\n",
              "  "
            ]
          },
          "metadata": {},
          "execution_count": 6
        }
      ]
    },
    {
      "cell_type": "markdown",
      "source": [
        "# Data Analysis"
      ],
      "metadata": {
        "id": "qkN_Ap1RJy1e"
      }
    },
    {
      "cell_type": "code",
      "source": [
        "df.info()"
      ],
      "metadata": {
        "colab": {
          "base_uri": "https://localhost:8080/"
        },
        "id": "Z90ZdfAyJ1-z",
        "outputId": "4a6d0ae5-b9f2-48e7-a8e3-47d730d6156b"
      },
      "execution_count": 7,
      "outputs": [
        {
          "output_type": "stream",
          "name": "stdout",
          "text": [
            "<class 'pandas.core.frame.DataFrame'>\n",
            "Int64Index: 60 entries, 0 to 59\n",
            "Data columns (total 6 columns):\n",
            " #   Column               Non-Null Count  Dtype  \n",
            "---  ------               --------------  -----  \n",
            " 0   Year                 60 non-null     int64  \n",
            " 1   Area harvested       60 non-null     int64  \n",
            " 2   Production           60 non-null     int64  \n",
            " 3   Yield                60 non-null     int64  \n",
            " 4   Precipitation        60 non-null     float64\n",
            " 5   Minimum Temperature  60 non-null     float64\n",
            "dtypes: float64(2), int64(4)\n",
            "memory usage: 3.3 KB\n"
          ]
        }
      ]
    },
    {
      "cell_type": "markdown",
      "source": [
        "Null Values in Columns"
      ],
      "metadata": {
        "id": "xS0A4sLiKcBv"
      }
    },
    {
      "cell_type": "code",
      "source": [
        "print(df.isnull().sum())"
      ],
      "metadata": {
        "colab": {
          "base_uri": "https://localhost:8080/"
        },
        "id": "osQcOYfaJ86j",
        "outputId": "34797505-6d23-4045-e8b7-50ff1ccdf861"
      },
      "execution_count": 8,
      "outputs": [
        {
          "output_type": "stream",
          "name": "stdout",
          "text": [
            "Year                   0\n",
            "Area harvested         0\n",
            "Production             0\n",
            "Yield                  0\n",
            "Precipitation          0\n",
            "Minimum Temperature    0\n",
            "dtype: int64\n"
          ]
        }
      ]
    },
    {
      "cell_type": "code",
      "source": [
        "df.describe()"
      ],
      "metadata": {
        "colab": {
          "base_uri": "https://localhost:8080/",
          "height": 300
        },
        "id": "sGW3CtlcKMfL",
        "outputId": "c9d2bde1-328a-421c-8254-f85583870bb0"
      },
      "execution_count": 9,
      "outputs": [
        {
          "output_type": "execute_result",
          "data": {
            "text/plain": [
              "              Year  Area harvested    Production          Yield  \\\n",
              "count    60.000000       60.000000  6.000000e+01      60.000000   \n",
              "mean   1990.500000   444906.166667  1.228265e+07  234331.333333   \n",
              "std      17.464249   229661.478829  1.015563e+07   89234.582414   \n",
              "min    1961.000000   165000.000000  2.257000e+06  119798.000000   \n",
              "25%    1975.750000   243150.000000  3.671650e+06  152212.750000   \n",
              "50%    1990.500000   401800.000000  7.503050e+06  198257.000000   \n",
              "75%    2005.250000   593250.000000  1.941530e+07  341973.500000   \n",
              "max    2020.000000   884000.000000  3.150400e+07  370367.000000   \n",
              "\n",
              "       Precipitation  Minimum Temperature  \n",
              "count      60.000000            60.000000  \n",
              "mean     1112.802333            18.624333  \n",
              "std        98.926156             0.389795  \n",
              "min       874.320000            17.800000  \n",
              "25%      1033.825000            18.292500  \n",
              "50%      1114.425000            18.650000  \n",
              "75%      1187.720000            18.890000  \n",
              "max      1320.910000            19.490000  "
            ],
            "text/html": [
              "\n",
              "  <div id=\"df-a5bc0eb0-5ef9-414f-b797-e6179f612ee1\">\n",
              "    <div class=\"colab-df-container\">\n",
              "      <div>\n",
              "<style scoped>\n",
              "    .dataframe tbody tr th:only-of-type {\n",
              "        vertical-align: middle;\n",
              "    }\n",
              "\n",
              "    .dataframe tbody tr th {\n",
              "        vertical-align: top;\n",
              "    }\n",
              "\n",
              "    .dataframe thead th {\n",
              "        text-align: right;\n",
              "    }\n",
              "</style>\n",
              "<table border=\"1\" class=\"dataframe\">\n",
              "  <thead>\n",
              "    <tr style=\"text-align: right;\">\n",
              "      <th></th>\n",
              "      <th>Year</th>\n",
              "      <th>Area harvested</th>\n",
              "      <th>Production</th>\n",
              "      <th>Yield</th>\n",
              "      <th>Precipitation</th>\n",
              "      <th>Minimum Temperature</th>\n",
              "    </tr>\n",
              "  </thead>\n",
              "  <tbody>\n",
              "    <tr>\n",
              "      <th>count</th>\n",
              "      <td>60.000000</td>\n",
              "      <td>60.000000</td>\n",
              "      <td>6.000000e+01</td>\n",
              "      <td>60.000000</td>\n",
              "      <td>60.000000</td>\n",
              "      <td>60.000000</td>\n",
              "    </tr>\n",
              "    <tr>\n",
              "      <th>mean</th>\n",
              "      <td>1990.500000</td>\n",
              "      <td>444906.166667</td>\n",
              "      <td>1.228265e+07</td>\n",
              "      <td>234331.333333</td>\n",
              "      <td>1112.802333</td>\n",
              "      <td>18.624333</td>\n",
              "    </tr>\n",
              "    <tr>\n",
              "      <th>std</th>\n",
              "      <td>17.464249</td>\n",
              "      <td>229661.478829</td>\n",
              "      <td>1.015563e+07</td>\n",
              "      <td>89234.582414</td>\n",
              "      <td>98.926156</td>\n",
              "      <td>0.389795</td>\n",
              "    </tr>\n",
              "    <tr>\n",
              "      <th>min</th>\n",
              "      <td>1961.000000</td>\n",
              "      <td>165000.000000</td>\n",
              "      <td>2.257000e+06</td>\n",
              "      <td>119798.000000</td>\n",
              "      <td>874.320000</td>\n",
              "      <td>17.800000</td>\n",
              "    </tr>\n",
              "    <tr>\n",
              "      <th>25%</th>\n",
              "      <td>1975.750000</td>\n",
              "      <td>243150.000000</td>\n",
              "      <td>3.671650e+06</td>\n",
              "      <td>152212.750000</td>\n",
              "      <td>1033.825000</td>\n",
              "      <td>18.292500</td>\n",
              "    </tr>\n",
              "    <tr>\n",
              "      <th>50%</th>\n",
              "      <td>1990.500000</td>\n",
              "      <td>401800.000000</td>\n",
              "      <td>7.503050e+06</td>\n",
              "      <td>198257.000000</td>\n",
              "      <td>1114.425000</td>\n",
              "      <td>18.650000</td>\n",
              "    </tr>\n",
              "    <tr>\n",
              "      <th>75%</th>\n",
              "      <td>2005.250000</td>\n",
              "      <td>593250.000000</td>\n",
              "      <td>1.941530e+07</td>\n",
              "      <td>341973.500000</td>\n",
              "      <td>1187.720000</td>\n",
              "      <td>18.890000</td>\n",
              "    </tr>\n",
              "    <tr>\n",
              "      <th>max</th>\n",
              "      <td>2020.000000</td>\n",
              "      <td>884000.000000</td>\n",
              "      <td>3.150400e+07</td>\n",
              "      <td>370367.000000</td>\n",
              "      <td>1320.910000</td>\n",
              "      <td>19.490000</td>\n",
              "    </tr>\n",
              "  </tbody>\n",
              "</table>\n",
              "</div>\n",
              "      <button class=\"colab-df-convert\" onclick=\"convertToInteractive('df-a5bc0eb0-5ef9-414f-b797-e6179f612ee1')\"\n",
              "              title=\"Convert this dataframe to an interactive table.\"\n",
              "              style=\"display:none;\">\n",
              "        \n",
              "  <svg xmlns=\"http://www.w3.org/2000/svg\" height=\"24px\"viewBox=\"0 0 24 24\"\n",
              "       width=\"24px\">\n",
              "    <path d=\"M0 0h24v24H0V0z\" fill=\"none\"/>\n",
              "    <path d=\"M18.56 5.44l.94 2.06.94-2.06 2.06-.94-2.06-.94-.94-2.06-.94 2.06-2.06.94zm-11 1L8.5 8.5l.94-2.06 2.06-.94-2.06-.94L8.5 2.5l-.94 2.06-2.06.94zm10 10l.94 2.06.94-2.06 2.06-.94-2.06-.94-.94-2.06-.94 2.06-2.06.94z\"/><path d=\"M17.41 7.96l-1.37-1.37c-.4-.4-.92-.59-1.43-.59-.52 0-1.04.2-1.43.59L10.3 9.45l-7.72 7.72c-.78.78-.78 2.05 0 2.83L4 21.41c.39.39.9.59 1.41.59.51 0 1.02-.2 1.41-.59l7.78-7.78 2.81-2.81c.8-.78.8-2.07 0-2.86zM5.41 20L4 18.59l7.72-7.72 1.47 1.35L5.41 20z\"/>\n",
              "  </svg>\n",
              "      </button>\n",
              "      \n",
              "  <style>\n",
              "    .colab-df-container {\n",
              "      display:flex;\n",
              "      flex-wrap:wrap;\n",
              "      gap: 12px;\n",
              "    }\n",
              "\n",
              "    .colab-df-convert {\n",
              "      background-color: #E8F0FE;\n",
              "      border: none;\n",
              "      border-radius: 50%;\n",
              "      cursor: pointer;\n",
              "      display: none;\n",
              "      fill: #1967D2;\n",
              "      height: 32px;\n",
              "      padding: 0 0 0 0;\n",
              "      width: 32px;\n",
              "    }\n",
              "\n",
              "    .colab-df-convert:hover {\n",
              "      background-color: #E2EBFA;\n",
              "      box-shadow: 0px 1px 2px rgba(60, 64, 67, 0.3), 0px 1px 3px 1px rgba(60, 64, 67, 0.15);\n",
              "      fill: #174EA6;\n",
              "    }\n",
              "\n",
              "    [theme=dark] .colab-df-convert {\n",
              "      background-color: #3B4455;\n",
              "      fill: #D2E3FC;\n",
              "    }\n",
              "\n",
              "    [theme=dark] .colab-df-convert:hover {\n",
              "      background-color: #434B5C;\n",
              "      box-shadow: 0px 1px 3px 1px rgba(0, 0, 0, 0.15);\n",
              "      filter: drop-shadow(0px 1px 2px rgba(0, 0, 0, 0.3));\n",
              "      fill: #FFFFFF;\n",
              "    }\n",
              "  </style>\n",
              "\n",
              "      <script>\n",
              "        const buttonEl =\n",
              "          document.querySelector('#df-a5bc0eb0-5ef9-414f-b797-e6179f612ee1 button.colab-df-convert');\n",
              "        buttonEl.style.display =\n",
              "          google.colab.kernel.accessAllowed ? 'block' : 'none';\n",
              "\n",
              "        async function convertToInteractive(key) {\n",
              "          const element = document.querySelector('#df-a5bc0eb0-5ef9-414f-b797-e6179f612ee1');\n",
              "          const dataTable =\n",
              "            await google.colab.kernel.invokeFunction('convertToInteractive',\n",
              "                                                     [key], {});\n",
              "          if (!dataTable) return;\n",
              "\n",
              "          const docLinkHtml = 'Like what you see? Visit the ' +\n",
              "            '<a target=\"_blank\" href=https://colab.research.google.com/notebooks/data_table.ipynb>data table notebook</a>'\n",
              "            + ' to learn more about interactive tables.';\n",
              "          element.innerHTML = '';\n",
              "          dataTable['output_type'] = 'display_data';\n",
              "          await google.colab.output.renderOutput(dataTable, element);\n",
              "          const docLink = document.createElement('div');\n",
              "          docLink.innerHTML = docLinkHtml;\n",
              "          element.appendChild(docLink);\n",
              "        }\n",
              "      </script>\n",
              "    </div>\n",
              "  </div>\n",
              "  "
            ]
          },
          "metadata": {},
          "execution_count": 9
        }
      ]
    },
    {
      "cell_type": "markdown",
      "source": [
        "# Feature and Label"
      ],
      "metadata": {
        "id": "d4d9IRFSVL0x"
      }
    },
    {
      "cell_type": "code",
      "source": [
        "X=df.loc[:,['Area harvested','Production','Precipitation','Minimum Temperature']]\n",
        "Y=df.loc[:,['Yield']]"
      ],
      "metadata": {
        "id": "ij2SVrJDT_QF"
      },
      "execution_count": 10,
      "outputs": []
    },
    {
      "cell_type": "markdown",
      "source": [
        "# Feature Importance"
      ],
      "metadata": {
        "id": "XushWUHATvgf"
      }
    },
    {
      "cell_type": "code",
      "source": [
        "from sklearn.feature_selection import SelectKBest,chi2\n",
        "bestfeatures = SelectKBest(score_func=chi2, k=4)\n",
        "fit = bestfeatures.fit(X,Y)"
      ],
      "metadata": {
        "id": "d36SHKv_Kgig"
      },
      "execution_count": 11,
      "outputs": []
    },
    {
      "cell_type": "code",
      "source": [
        "dfscores = pd.DataFrame(fit.scores_)\n",
        "dfcolumns = pd.DataFrame(X.columns)"
      ],
      "metadata": {
        "id": "vKxhimmjT1XY"
      },
      "execution_count": 12,
      "outputs": []
    },
    {
      "cell_type": "code",
      "source": [
        "featureScores = pd.concat([dfcolumns,dfscores],axis=1)\n",
        "featureScores.columns = ['Specs','Score']  \n",
        "print(featureScores.nlargest(5,'Score'))"
      ],
      "metadata": {
        "colab": {
          "base_uri": "https://localhost:8080/"
        },
        "id": "BUy1-R2hURwu",
        "outputId": "6c2a2b0f-e4ff-4da0-de89-9c418acfc91a"
      },
      "execution_count": 13,
      "outputs": [
        {
          "output_type": "stream",
          "name": "stdout",
          "text": [
            "                 Specs         Score\n",
            "1           Production  4.954196e+08\n",
            "0       Area harvested  6.994552e+06\n",
            "2        Precipitation  5.188672e+02\n",
            "3  Minimum Temperature  4.813312e-01\n"
          ]
        }
      ]
    },
    {
      "cell_type": "markdown",
      "source": [
        "# Normalize/Standardize the Dataset"
      ],
      "metadata": {
        "id": "IzrJcWpwJNEt"
      }
    },
    {
      "cell_type": "code",
      "source": [
        "#norm = MinMaxScaler()\n",
        "norm =StandardScaler()\n",
        "\n",
        "# transform data\n",
        "df.iloc[:,1:] = norm.fit_transform(df.iloc[:,1:])"
      ],
      "metadata": {
        "id": "i5GMaj7qJM3P"
      },
      "execution_count": 16,
      "outputs": []
    },
    {
      "cell_type": "code",
      "source": [
        "df.head()"
      ],
      "metadata": {
        "colab": {
          "base_uri": "https://localhost:8080/",
          "height": 206
        },
        "id": "ET-bf3yPK4eY",
        "outputId": "19356c97-1b57-49a3-90bd-4ba7765f46dc"
      },
      "execution_count": 17,
      "outputs": [
        {
          "output_type": "execute_result",
          "data": {
            "text/plain": [
              "   Year  Area harvested  Production     Yield  Precipitation  \\\n",
              "0  1961       -1.229062   -0.995533 -1.102336       1.775542   \n",
              "1  1962       -1.158807   -0.978851 -1.134092       0.578274   \n",
              "2  1963       -1.106115   -0.961374 -1.125175       0.375518   \n",
              "3  1964       -1.084160   -0.953132 -1.116259       0.785617   \n",
              "4  1965       -1.027077   -0.894844 -0.896251      -1.623803   \n",
              "\n",
              "   Minimum Temperature  \n",
              "0            -1.253019  \n",
              "1            -1.537600  \n",
              "2            -1.201277  \n",
              "3            -1.253019  \n",
              "4            -1.020180  "
            ],
            "text/html": [
              "\n",
              "  <div id=\"df-3d9bd26a-6fa2-45b1-b790-9ad44ebfcbc4\">\n",
              "    <div class=\"colab-df-container\">\n",
              "      <div>\n",
              "<style scoped>\n",
              "    .dataframe tbody tr th:only-of-type {\n",
              "        vertical-align: middle;\n",
              "    }\n",
              "\n",
              "    .dataframe tbody tr th {\n",
              "        vertical-align: top;\n",
              "    }\n",
              "\n",
              "    .dataframe thead th {\n",
              "        text-align: right;\n",
              "    }\n",
              "</style>\n",
              "<table border=\"1\" class=\"dataframe\">\n",
              "  <thead>\n",
              "    <tr style=\"text-align: right;\">\n",
              "      <th></th>\n",
              "      <th>Year</th>\n",
              "      <th>Area harvested</th>\n",
              "      <th>Production</th>\n",
              "      <th>Yield</th>\n",
              "      <th>Precipitation</th>\n",
              "      <th>Minimum Temperature</th>\n",
              "    </tr>\n",
              "  </thead>\n",
              "  <tbody>\n",
              "    <tr>\n",
              "      <th>0</th>\n",
              "      <td>1961</td>\n",
              "      <td>-1.229062</td>\n",
              "      <td>-0.995533</td>\n",
              "      <td>-1.102336</td>\n",
              "      <td>1.775542</td>\n",
              "      <td>-1.253019</td>\n",
              "    </tr>\n",
              "    <tr>\n",
              "      <th>1</th>\n",
              "      <td>1962</td>\n",
              "      <td>-1.158807</td>\n",
              "      <td>-0.978851</td>\n",
              "      <td>-1.134092</td>\n",
              "      <td>0.578274</td>\n",
              "      <td>-1.537600</td>\n",
              "    </tr>\n",
              "    <tr>\n",
              "      <th>2</th>\n",
              "      <td>1963</td>\n",
              "      <td>-1.106115</td>\n",
              "      <td>-0.961374</td>\n",
              "      <td>-1.125175</td>\n",
              "      <td>0.375518</td>\n",
              "      <td>-1.201277</td>\n",
              "    </tr>\n",
              "    <tr>\n",
              "      <th>3</th>\n",
              "      <td>1964</td>\n",
              "      <td>-1.084160</td>\n",
              "      <td>-0.953132</td>\n",
              "      <td>-1.116259</td>\n",
              "      <td>0.785617</td>\n",
              "      <td>-1.253019</td>\n",
              "    </tr>\n",
              "    <tr>\n",
              "      <th>4</th>\n",
              "      <td>1965</td>\n",
              "      <td>-1.027077</td>\n",
              "      <td>-0.894844</td>\n",
              "      <td>-0.896251</td>\n",
              "      <td>-1.623803</td>\n",
              "      <td>-1.020180</td>\n",
              "    </tr>\n",
              "  </tbody>\n",
              "</table>\n",
              "</div>\n",
              "      <button class=\"colab-df-convert\" onclick=\"convertToInteractive('df-3d9bd26a-6fa2-45b1-b790-9ad44ebfcbc4')\"\n",
              "              title=\"Convert this dataframe to an interactive table.\"\n",
              "              style=\"display:none;\">\n",
              "        \n",
              "  <svg xmlns=\"http://www.w3.org/2000/svg\" height=\"24px\"viewBox=\"0 0 24 24\"\n",
              "       width=\"24px\">\n",
              "    <path d=\"M0 0h24v24H0V0z\" fill=\"none\"/>\n",
              "    <path d=\"M18.56 5.44l.94 2.06.94-2.06 2.06-.94-2.06-.94-.94-2.06-.94 2.06-2.06.94zm-11 1L8.5 8.5l.94-2.06 2.06-.94-2.06-.94L8.5 2.5l-.94 2.06-2.06.94zm10 10l.94 2.06.94-2.06 2.06-.94-2.06-.94-.94-2.06-.94 2.06-2.06.94z\"/><path d=\"M17.41 7.96l-1.37-1.37c-.4-.4-.92-.59-1.43-.59-.52 0-1.04.2-1.43.59L10.3 9.45l-7.72 7.72c-.78.78-.78 2.05 0 2.83L4 21.41c.39.39.9.59 1.41.59.51 0 1.02-.2 1.41-.59l7.78-7.78 2.81-2.81c.8-.78.8-2.07 0-2.86zM5.41 20L4 18.59l7.72-7.72 1.47 1.35L5.41 20z\"/>\n",
              "  </svg>\n",
              "      </button>\n",
              "      \n",
              "  <style>\n",
              "    .colab-df-container {\n",
              "      display:flex;\n",
              "      flex-wrap:wrap;\n",
              "      gap: 12px;\n",
              "    }\n",
              "\n",
              "    .colab-df-convert {\n",
              "      background-color: #E8F0FE;\n",
              "      border: none;\n",
              "      border-radius: 50%;\n",
              "      cursor: pointer;\n",
              "      display: none;\n",
              "      fill: #1967D2;\n",
              "      height: 32px;\n",
              "      padding: 0 0 0 0;\n",
              "      width: 32px;\n",
              "    }\n",
              "\n",
              "    .colab-df-convert:hover {\n",
              "      background-color: #E2EBFA;\n",
              "      box-shadow: 0px 1px 2px rgba(60, 64, 67, 0.3), 0px 1px 3px 1px rgba(60, 64, 67, 0.15);\n",
              "      fill: #174EA6;\n",
              "    }\n",
              "\n",
              "    [theme=dark] .colab-df-convert {\n",
              "      background-color: #3B4455;\n",
              "      fill: #D2E3FC;\n",
              "    }\n",
              "\n",
              "    [theme=dark] .colab-df-convert:hover {\n",
              "      background-color: #434B5C;\n",
              "      box-shadow: 0px 1px 3px 1px rgba(0, 0, 0, 0.15);\n",
              "      filter: drop-shadow(0px 1px 2px rgba(0, 0, 0, 0.3));\n",
              "      fill: #FFFFFF;\n",
              "    }\n",
              "  </style>\n",
              "\n",
              "      <script>\n",
              "        const buttonEl =\n",
              "          document.querySelector('#df-3d9bd26a-6fa2-45b1-b790-9ad44ebfcbc4 button.colab-df-convert');\n",
              "        buttonEl.style.display =\n",
              "          google.colab.kernel.accessAllowed ? 'block' : 'none';\n",
              "\n",
              "        async function convertToInteractive(key) {\n",
              "          const element = document.querySelector('#df-3d9bd26a-6fa2-45b1-b790-9ad44ebfcbc4');\n",
              "          const dataTable =\n",
              "            await google.colab.kernel.invokeFunction('convertToInteractive',\n",
              "                                                     [key], {});\n",
              "          if (!dataTable) return;\n",
              "\n",
              "          const docLinkHtml = 'Like what you see? Visit the ' +\n",
              "            '<a target=\"_blank\" href=https://colab.research.google.com/notebooks/data_table.ipynb>data table notebook</a>'\n",
              "            + ' to learn more about interactive tables.';\n",
              "          element.innerHTML = '';\n",
              "          dataTable['output_type'] = 'display_data';\n",
              "          await google.colab.output.renderOutput(dataTable, element);\n",
              "          const docLink = document.createElement('div');\n",
              "          docLink.innerHTML = docLinkHtml;\n",
              "          element.appendChild(docLink);\n",
              "        }\n",
              "      </script>\n",
              "    </div>\n",
              "  </div>\n",
              "  "
            ]
          },
          "metadata": {},
          "execution_count": 17
        }
      ]
    },
    {
      "cell_type": "markdown",
      "source": [
        "# Correlation Matrix (Heatmap)"
      ],
      "metadata": {
        "id": "fk_u4YxiEwA4"
      }
    },
    {
      "cell_type": "code",
      "source": [
        "import seaborn as sb\n",
        "\n",
        "corr = df.corr()\n",
        "\n",
        "sb.heatmap(corr, cmap=\"BrBG\",annot=True)"
      ],
      "metadata": {
        "colab": {
          "base_uri": "https://localhost:8080/",
          "height": 389
        },
        "id": "2og6suuqEsHn",
        "outputId": "1c2eb944-26a1-42b7-870e-db961d44b9b0"
      },
      "execution_count": 18,
      "outputs": [
        {
          "output_type": "execute_result",
          "data": {
            "text/plain": [
              "<matplotlib.axes._subplots.AxesSubplot at 0x7f89cdce9890>"
            ]
          },
          "metadata": {},
          "execution_count": 18
        },
        {
          "output_type": "display_data",
          "data": {
            "text/plain": [
              "<Figure size 432x288 with 2 Axes>"
            ],
            "image/png": "[encoded data removed]"
          },
          "metadata": {
            "needs_background": "light"
          }
        }
      ]
    },
    {
      "cell_type": "markdown",
      "source": [
        "# Train test split"
      ],
      "metadata": {
        "id": "xVQdO40VB00q"
      }
    },
    {
      "cell_type": "code",
      "source": [
        "from sklearn.model_selection import train_test_split\n",
        "\n",
        "X_train, X_test, y_train, y_test = train_test_split(X, Y, test_size=0.33, random_state=42)"
      ],
      "metadata": {
        "id": "16yCpbG784fo"
      },
      "execution_count": 19,
      "outputs": []
    },
    {
      "cell_type": "markdown",
      "source": [
        "We use Mean Squared Error and R2 score to compare and evaluate our models.\n",
        "\n",
        "**R2 Score:**\n",
        "The r2 score varies between 0 and 100%. It is closely related to the MSE.\n",
        "\n",
        "It is  (total variance explained by model) / total variance. So if it is 100%, the two variables are perfectly correlated, i.e., with no variance at all. A low value would show a low level of correlation, meaning a regression model that is not valid, but not in all cases.\n",
        "\n",
        "**Mean Squared Error:**\n",
        "Mean square error (MSE) is the average of the square of the errors. The larger the number the larger the error. Error in this case means the difference between the observed values y1, y2, y3, … and the predicted ones pred(y1), pred(y2), pred(y3), … We square each difference (pred(yn) – yn)) ** 2."
      ],
      "metadata": {
        "id": "bEfMIneYHdJX"
      }
    },
    {
      "cell_type": "markdown",
      "source": [
        "# Linear Regression"
      ],
      "metadata": {
        "id": "9QNdgzy3B6Iw"
      }
    },
    {
      "cell_type": "code",
      "source": [
        "from sklearn.linear_model import LinearRegression\n",
        "\n",
        "regr1 = LinearRegression()\n",
        "\n",
        "regr1.fit(X_train, y_train)\n",
        "\n",
        "print(regr1.score(X_test, y_test))"
      ],
      "metadata": {
        "colab": {
          "base_uri": "https://localhost:8080/"
        },
        "id": "xkyqVmNG-Ckz",
        "outputId": "cefd19e9-3041-46d2-8d92-a4f2c016ce95"
      },
      "execution_count": 20,
      "outputs": [
        {
          "output_type": "stream",
          "name": "stdout",
          "text": [
            "0.9232273623720604\n"
          ]
        }
      ]
    },
    {
      "cell_type": "code",
      "source": [
        "y_pred1=regr1.predict(X_test)"
      ],
      "metadata": {
        "id": "P9PMdpRLFMXw"
      },
      "execution_count": 21,
      "outputs": []
    },
    {
      "cell_type": "code",
      "source": [
        "from sklearn.metrics import r2_score, mean_squared_error,accuracy_score\n",
        "\n",
        "print('Coefficient of Determination (R2 Score) =',r2_score(y_test, y_pred1))\n",
        "\n",
        "print('Mean Squared Error = ',mean_squared_error(y_test, y_pred1))"
      ],
      "metadata": {
        "colab": {
          "base_uri": "https://localhost:8080/"
        },
        "id": "CIyQFv_5FBJw",
        "outputId": "112dd0f5-6826-4a8e-ba35-eca7c475f597"
      },
      "execution_count": 22,
      "outputs": [
        {
          "output_type": "stream",
          "name": "stdout",
          "text": [
            "Coefficient of Determination (R2 Score) = 0.9232273623720604\n",
            "Mean Squared Error =  666316133.6264765\n"
          ]
        }
      ]
    },
    {
      "cell_type": "markdown",
      "source": [
        "# Bayesian Ridge regressor"
      ],
      "metadata": {
        "id": "UWmIO9TXCCma"
      }
    },
    {
      "cell_type": "code",
      "source": [
        "from sklearn.linear_model import BayesianRidge\n",
        "\n",
        "regr2 = BayesianRidge().fit(X_train, y_train)\n",
        "\n",
        "regr2.score(X_test, y_test)"
      ],
      "metadata": {
        "colab": {
          "base_uri": "https://localhost:8080/"
        },
        "id": "RIohf-gWA1OB",
        "outputId": "250ffbdb-48d8-40e1-8f66-25acc95447b3"
      },
      "execution_count": 23,
      "outputs": [
        {
          "output_type": "stream",
          "name": "stderr",
          "text": [
            "/usr/local/lib/python3.7/dist-packages/sklearn/utils/validation.py:993: DataConversionWarning: A column-vector y was passed when a 1d array was expected. Please change the shape of y to (n_samples, ), for example using ravel().\n",
            "  y = column_or_1d(y, warn=True)\n"
          ]
        },
        {
          "output_type": "execute_result",
          "data": {
            "text/plain": [
              "0.9266503602402453"
            ]
          },
          "metadata": {},
          "execution_count": 23
        }
      ]
    },
    {
      "cell_type": "code",
      "source": [
        "y_pred2=regr2.predict(X_test)\n",
        "\n",
        "print('Coefficient of Determination (R2 Score)=',r2_score(y_test, y_pred2))\n",
        "\n",
        "print('Mean Squared Error= ',mean_squared_error(y_test, y_pred2))"
      ],
      "metadata": {
        "colab": {
          "base_uri": "https://localhost:8080/"
        },
        "id": "X7GYwNkpFber",
        "outputId": "28c2262f-3293-4d1a-a2c3-0179d43db514"
      },
      "execution_count": 24,
      "outputs": [
        {
          "output_type": "stream",
          "name": "stdout",
          "text": [
            "Coefficient of Determination (R2 Score)= 0.9266503602402453\n",
            "Mean Squared Error=  636607649.2574232\n"
          ]
        }
      ]
    },
    {
      "cell_type": "markdown",
      "source": [
        "# Decision Tree Regressor"
      ],
      "metadata": {
        "id": "hkUiND2LOM-D"
      }
    },
    {
      "cell_type": "code",
      "source": [
        "from sklearn.tree import DecisionTreeRegressor\n",
        "\n",
        "regr3 = DecisionTreeRegressor(max_depth=2).fit(X_train, y_train)\n",
        "\n",
        "regr3.score(X_test, y_test)"
      ],
      "metadata": {
        "colab": {
          "base_uri": "https://localhost:8080/"
        },
        "id": "9wt8vHkMOPlY",
        "outputId": "c5d648ec-4729-4137-b455-753999a2867a"
      },
      "execution_count": 25,
      "outputs": [
        {
          "output_type": "execute_result",
          "data": {
            "text/plain": [
              "0.9245624646638303"
            ]
          },
          "metadata": {},
          "execution_count": 25
        }
      ]
    },
    {
      "cell_type": "code",
      "source": [
        "y_pred3=regr3.predict(X_test)\n",
        "\n",
        "print('Coefficient of Determination (R2 Score)=',r2_score(y_test, y_pred3))\n",
        "\n",
        "print('Mean Squared Error= ',mean_squared_error(y_test, y_pred3))"
      ],
      "metadata": {
        "colab": {
          "base_uri": "https://localhost:8080/"
        },
        "id": "sAGqu102OzDY",
        "outputId": "2f2a2f37-1925-4790-b6c8-294bf3c9fe16"
      },
      "execution_count": 26,
      "outputs": [
        {
          "output_type": "stream",
          "name": "stdout",
          "text": [
            "Coefficient of Determination (R2 Score)= 0.9245624646638303\n",
            "Mean Squared Error=  654728669.3353678\n"
          ]
        }
      ]
    },
    {
      "cell_type": "markdown",
      "source": [
        "# Lasso Regression"
      ],
      "metadata": {
        "id": "b7B11iS8O4ga"
      }
    },
    {
      "cell_type": "code",
      "source": [
        "from sklearn import linear_model\n",
        "\n",
        "regr4 = linear_model.Lasso(alpha=0.1).fit(X_train, y_train)\n",
        "\n",
        "regr4.score(X_test, y_test)"
      ],
      "metadata": {
        "colab": {
          "base_uri": "https://localhost:8080/"
        },
        "id": "T8V-_n03O86v",
        "outputId": "07279072-4172-4689-a884-6a39c4c52d76"
      },
      "execution_count": 27,
      "outputs": [
        {
          "output_type": "execute_result",
          "data": {
            "text/plain": [
              "0.9232278419484261"
            ]
          },
          "metadata": {},
          "execution_count": 27
        }
      ]
    },
    {
      "cell_type": "code",
      "source": [
        "y_pred4=regr4.predict(X_test)\n",
        "\n",
        "print('Coefficient of Determination (R2 Score)=',r2_score(y_test, y_pred4))\n",
        "\n",
        "print('Mean Squared Error= ',mean_squared_error(y_test, y_pred4))"
      ],
      "metadata": {
        "colab": {
          "base_uri": "https://localhost:8080/"
        },
        "id": "a4rDmczSPKUm",
        "outputId": "2ddeff04-90cb-4b4d-cb90-27335df4ee0d"
      },
      "execution_count": 28,
      "outputs": [
        {
          "output_type": "stream",
          "name": "stdout",
          "text": [
            "Coefficient of Determination (R2 Score)= 0.9232278419484261\n",
            "Mean Squared Error=  666311971.3431461\n"
          ]
        }
      ]
    },
    {
      "cell_type": "markdown",
      "source": [
        "# Random Forest Regressor"
      ],
      "metadata": {
        "id": "rAGqx8l4PT2C"
      }
    },
    {
      "cell_type": "code",
      "source": [
        "from sklearn.ensemble import RandomForestRegressor\n",
        "\n",
        "regr5 = RandomForestRegressor(max_depth=3).fit(X_train, y_train)\n",
        "\n",
        "regr5.score(X_test, y_test)"
      ],
      "metadata": {
        "colab": {
          "base_uri": "https://localhost:8080/"
        },
        "id": "0i2qs2gkPQWj",
        "outputId": "1d8ff000-a2a7-4db3-a6fc-d4e3acdae28b"
      },
      "execution_count": 29,
      "outputs": [
        {
          "output_type": "stream",
          "name": "stderr",
          "text": [
            "/usr/local/lib/python3.7/dist-packages/ipykernel_launcher.py:2: DataConversionWarning: A column-vector y was passed when a 1d array was expected. Please change the shape of y to (n_samples,), for example using ravel().\n",
            "  \n"
          ]
        },
        {
          "output_type": "execute_result",
          "data": {
            "text/plain": [
              "0.9776163148581787"
            ]
          },
          "metadata": {},
          "execution_count": 29
        }
      ]
    },
    {
      "cell_type": "code",
      "source": [
        "y_pred5=regr5.predict(X_test)\n",
        "\n",
        "print('Coefficient of Determination (R2 Score)=',r2_score(y_test, y_pred5))\n",
        "\n",
        "print('Mean Squared Error= ',mean_squared_error(y_test, y_pred5))"
      ],
      "metadata": {
        "colab": {
          "base_uri": "https://localhost:8080/"
        },
        "id": "dpEvIt-NPgoG",
        "outputId": "ed6c8f65-14c4-4de2-aced-8d826a993058"
      },
      "execution_count": 30,
      "outputs": [
        {
          "output_type": "stream",
          "name": "stdout",
          "text": [
            "Coefficient of Determination (R2 Score)= 0.9776163148581787\n",
            "Mean Squared Error=  194269872.71547073\n"
          ]
        }
      ]
    },
    {
      "cell_type": "markdown",
      "source": [
        "# Polynomial Regression"
      ],
      "metadata": {
        "id": "vchPNK4BTIHF"
      }
    },
    {
      "cell_type": "code",
      "source": [
        "from sklearn.preprocessing import PolynomialFeatures\n",
        "\n",
        "poly_reg=PolynomialFeatures(degree=2)\n",
        "\n",
        "X_poly=poly_reg.fit_transform(X_train)\n",
        "\n",
        "regr6=LinearRegression().fit(X_poly,y_train)\n"
      ],
      "metadata": {
        "id": "FNdAHJXtTLiV"
      },
      "execution_count": 31,
      "outputs": []
    },
    {
      "cell_type": "code",
      "source": [
        "X_test_poly=poly_reg.fit_transform(X_test)\n",
        "\n",
        "regr6.score(X_test_poly, y_test)"
      ],
      "metadata": {
        "colab": {
          "base_uri": "https://localhost:8080/"
        },
        "id": "EbKhrS1KVpPv",
        "outputId": "ee542618-d793-4531-fec0-9a52d92c94dd"
      },
      "execution_count": 32,
      "outputs": [
        {
          "output_type": "execute_result",
          "data": {
            "text/plain": [
              "0.9892205568906225"
            ]
          },
          "metadata": {},
          "execution_count": 32
        }
      ]
    },
    {
      "cell_type": "code",
      "source": [
        "y_pred6=regr6.predict(X_test_poly)\n",
        "\n",
        "print('Coefficient of Determination (R2 Score)=',r2_score(y_test, y_pred6))\n",
        "\n",
        "print('Mean Squared Error= ',mean_squared_error(y_test, y_pred6))"
      ],
      "metadata": {
        "colab": {
          "base_uri": "https://localhost:8080/"
        },
        "id": "U3tMFCK8TZxm",
        "outputId": "3dfc5d37-a1d9-4e85-fa02-eb778ace1532"
      },
      "execution_count": 33,
      "outputs": [
        {
          "output_type": "stream",
          "name": "stdout",
          "text": [
            "Coefficient of Determination (R2 Score)= 0.9892205568906225\n",
            "Mean Squared Error=  93555686.98961958\n"
          ]
        }
      ]
    },
    {
      "cell_type": "markdown",
      "source": [
        "# K nearest neighbors"
      ],
      "metadata": {
        "id": "llyNTqalFubj"
      }
    },
    {
      "cell_type": "code",
      "source": [
        "from sklearn import neighbors\n",
        "from math import sqrt\n",
        "\n",
        "mse_val = [] \n",
        "r2_val=[]\n",
        "\n",
        "# To find the Optimum K value for KNN Algorithm we use different K values on the model and obsereve the errors to find the best\n",
        "for K in range(20):\n",
        "    K = K+1\n",
        "    regr7 = neighbors.KNeighborsRegressor(n_neighbors = K)\n",
        "\n",
        "    regr7.fit(X_train, y_train)  #fit the model\n",
        "    y_pred7=regr7.predict(X_test) #make prediction on test set\n",
        "    #error = mean_squared_error(y_test,y_pred9) #calculate rmse\n",
        "    mse_val.append(mean_squared_error(y_test,y_pred7)) #store mse values\n",
        "    r2_val.append(r2_score(y_test, y_pred7))\n",
        "    print('MSE value for k= ' , K , 'is:', mean_squared_error(y_test,y_pred7))\n",
        "    print('R2 score value for k= ' , K , 'is:', r2_score(y_test, y_pred7))\n",
        "    print('\\n')"
      ],
      "metadata": {
        "colab": {
          "base_uri": "https://localhost:8080/"
        },
        "id": "wQy---QxFrs-",
        "outputId": "4525b079-a88d-468f-b1b1-28a1f3d7d387"
      },
      "execution_count": 34,
      "outputs": [
        {
          "output_type": "stream",
          "name": "stdout",
          "text": [
            "MSE value for k=  1 is: 85818928.0\n",
            "R2 score value for k=  1 is: 0.9901119826934047\n",
            "\n",
            "\n",
            "MSE value for k=  2 is: 81791134.0\n",
            "R2 score value for k=  2 is: 0.9905760632605659\n",
            "\n",
            "\n",
            "MSE value for k=  3 is: 109570828.42777772\n",
            "R2 score value for k=  3 is: 0.9873752996799046\n",
            "\n",
            "\n",
            "MSE value for k=  4 is: 96205026.921875\n",
            "R2 score value for k=  4 is: 0.9889153011654379\n",
            "\n",
            "\n",
            "MSE value for k=  5 is: 109719796.44399992\n",
            "R2 score value for k=  5 is: 0.9873581356537758\n",
            "\n",
            "\n",
            "MSE value for k=  6 is: 109736277.19583333\n",
            "R2 score value for k=  6 is: 0.9873562367491501\n",
            "\n",
            "\n",
            "MSE value for k=  7 is: 134497133.66326544\n",
            "R2 score value for k=  7 is: 0.9845033022860665\n",
            "\n",
            "\n",
            "MSE value for k=  8 is: 154071964.29765624\n",
            "R2 score value for k=  8 is: 0.9822478993277992\n",
            "\n",
            "\n",
            "MSE value for k=  9 is: 151178971.36049363\n",
            "R2 score value for k=  9 is: 0.9825812286398423\n",
            "\n",
            "\n",
            "MSE value for k=  10 is: 156897580.90750006\n",
            "R2 score value for k=  10 is: 0.9819223330851174\n",
            "\n",
            "\n",
            "MSE value for k=  11 is: 147990639.23429757\n",
            "R2 score value for k=  11 is: 0.9829485867970428\n",
            "\n",
            "\n",
            "MSE value for k=  12 is: 192617777.56284708\n",
            "R2 score value for k=  12 is: 0.9778066684997586\n",
            "\n",
            "\n",
            "MSE value for k=  13 is: 252261654.12366852\n",
            "R2 score value for k=  13 is: 0.9709345285486999\n",
            "\n",
            "\n",
            "MSE value for k=  14 is: 382774710.05127555\n",
            "R2 score value for k=  14 is: 0.9558968744341109\n",
            "\n",
            "\n",
            "MSE value for k=  15 is: 474298728.63377774\n",
            "R2 score value for k=  15 is: 0.9453515192216462\n",
            "\n",
            "\n",
            "MSE value for k=  16 is: 626148728.2328125\n",
            "R2 score value for k=  16 is: 0.9278554322973055\n",
            "\n",
            "\n",
            "MSE value for k=  17 is: 782802080.0576127\n",
            "R2 score value for k=  17 is: 0.9098059053446992\n",
            "\n",
            "\n",
            "MSE value for k=  18 is: 969283784.0070992\n",
            "R2 score value for k=  18 is: 0.8883195694163839\n",
            "\n",
            "\n",
            "MSE value for k=  19 is: 1137117706.3313026\n",
            "R2 score value for k=  19 is: 0.8689818222870387\n",
            "\n",
            "\n",
            "MSE value for k=  20 is: 1391389164.9571242\n",
            "R2 score value for k=  20 is: 0.8396847820878724\n",
            "\n",
            "\n"
          ]
        }
      ]
    },
    {
      "cell_type": "code",
      "source": [
        "max(r2_val),min(mse_val)"
      ],
      "metadata": {
        "colab": {
          "base_uri": "https://localhost:8080/"
        },
        "id": "TuvTg113GX_R",
        "outputId": "bec5727a-7b8c-4042-b7d5-1ff5a1f56f20"
      },
      "execution_count": 35,
      "outputs": [
        {
          "output_type": "execute_result",
          "data": {
            "text/plain": [
              "(0.9905760632605659, 81791134.0)"
            ]
          },
          "metadata": {},
          "execution_count": 35
        }
      ]
    },
    {
      "cell_type": "markdown",
      "source": [
        "# ANN"
      ],
      "metadata": {
        "id": "nN5kk1Y31jx6"
      }
    },
    {
      "cell_type": "code",
      "source": [
        "import tensorflow as tf\n",
        "import keras"
      ],
      "metadata": {
        "id": "5svq72M_3UWJ"
      },
      "execution_count": 36,
      "outputs": []
    },
    {
      "cell_type": "code",
      "source": [
        "from keras.losses import MeanSquaredError\n",
        "from keras.optimizers import Adam\n",
        "\n",
        "learning_rate = 0.01\n",
        "\n",
        "ann = tf.keras.models.Sequential()\n",
        "\n",
        "ann.add(tf.keras.layers.Dense(units=16,activation=\"relu\"))\n",
        "\n",
        "#Adding Second Hidden Layer\n",
        "ann.add(tf.keras.layers.Dense(units=8,activation=\"relu\"))\n",
        "\n",
        "#Adding third Hidden Layer\n",
        "ann.add(tf.keras.layers.Dense(units=2,activation=\"relu\"))  #kernel_initializer='normal', activation='linear'\n",
        "\n",
        "#Adding Output Layer\n",
        "ann.add(tf.keras.layers.Dense(units=1,kernel_initializer='normal', activation='linear'))\n",
        "\n",
        "msle =  MeanSquaredError()\n",
        "\n",
        "ann.compile(\n",
        "    loss=msle, \n",
        "    optimizer=Adam(learning_rate=learning_rate), \n",
        "    metrics=[msle]\n",
        ")"
      ],
      "metadata": {
        "id": "E_kLz29fjvEz"
      },
      "execution_count": 37,
      "outputs": []
    },
    {
      "cell_type": "code",
      "source": [
        "history = ann.fit(\n",
        "    X_train, y_train, \n",
        "    epochs=100, \n",
        "    batch_size=64,\n",
        "    validation_split=0.2\n",
        ")"
      ],
      "metadata": {
        "colab": {
          "base_uri": "https://localhost:8080/"
        },
        "id": "rt3QwSFj3q0h",
        "outputId": "b0a12b39-f40f-48f7-cd9e-d7467b9b0379"
      },
      "execution_count": 38,
      "outputs": [
        {
          "output_type": "stream",
          "name": "stdout",
          "text": [
            "Epoch 1/100\n",
            "1/1 [==============================] - 1s 1s/step - loss: 337494867968.0000 - mean_squared_error: 337494867968.0000 - val_loss: 119358439424.0000 - val_mean_squared_error: 119358439424.0000\n",
            "Epoch 2/100\n",
            "1/1 [==============================] - 0s 33ms/step - loss: 91232796672.0000 - mean_squared_error: 91232796672.0000 - val_loss: 12183066624.0000 - val_mean_squared_error: 12183066624.0000\n",
            "Epoch 3/100\n",
            "1/1 [==============================] - 0s 31ms/step - loss: 10077478912.0000 - mean_squared_error: 10077478912.0000 - val_loss: 22307315712.0000 - val_mean_squared_error: 22307315712.0000\n",
            "Epoch 4/100\n",
            "1/1 [==============================] - 0s 33ms/step - loss: 20650436608.0000 - mean_squared_error: 20650436608.0000 - val_loss: 60867334144.0000 - val_mean_squared_error: 60867334144.0000\n",
            "Epoch 5/100\n",
            "1/1 [==============================] - 0s 43ms/step - loss: 52764594176.0000 - mean_squared_error: 52764594176.0000 - val_loss: 83954581504.0000 - val_mean_squared_error: 83954581504.0000\n",
            "Epoch 6/100\n",
            "1/1 [==============================] - 0s 33ms/step - loss: 71705772032.0000 - mean_squared_error: 71705772032.0000 - val_loss: 84444774400.0000 - val_mean_squared_error: 84444774400.0000\n",
            "Epoch 7/100\n",
            "1/1 [==============================] - 0s 36ms/step - loss: 72104419328.0000 - mean_squared_error: 72104419328.0000 - val_loss: 70664011776.0000 - val_mean_squared_error: 70664011776.0000\n",
            "Epoch 8/100\n",
            "1/1 [==============================] - 0s 39ms/step - loss: 60810526720.0000 - mean_squared_error: 60810526720.0000 - val_loss: 52008304640.0000 - val_mean_squared_error: 52008304640.0000\n",
            "Epoch 9/100\n",
            "1/1 [==============================] - 0s 29ms/step - loss: 45451042816.0000 - mean_squared_error: 45451042816.0000 - val_loss: 34640662528.0000 - val_mean_squared_error: 34640662528.0000\n",
            "Epoch 10/100\n",
            "1/1 [==============================] - 0s 35ms/step - loss: 31029323776.0000 - mean_squared_error: 31029323776.0000 - val_loss: 21427421184.0000 - val_mean_squared_error: 21427421184.0000\n",
            "Epoch 11/100\n",
            "1/1 [==============================] - 0s 36ms/step - loss: 19891224576.0000 - mean_squared_error: 19891224576.0000 - val_loss: 13015166976.0000 - val_mean_squared_error: 13015166976.0000\n",
            "Epoch 12/100\n",
            "1/1 [==============================] - 0s 35ms/step - loss: 12592622592.0000 - mean_squared_error: 12592622592.0000 - val_loss: 8874919936.0000 - val_mean_squared_error: 8874919936.0000\n",
            "Epoch 13/100\n",
            "1/1 [==============================] - 0s 51ms/step - loss: 8738520064.0000 - mean_squared_error: 8738520064.0000 - val_loss: 7990628352.0000 - val_mean_squared_error: 7990628352.0000\n",
            "Epoch 14/100\n",
            "1/1 [==============================] - 0s 31ms/step - loss: 7537294848.0000 - mean_squared_error: 7537294848.0000 - val_loss: 9223084032.0000 - val_mean_squared_error: 9223084032.0000\n",
            "Epoch 15/100\n",
            "1/1 [==============================] - 0s 46ms/step - loss: 8094527488.0000 - mean_squared_error: 8094527488.0000 - val_loss: 11486617600.0000 - val_mean_squared_error: 11486617600.0000\n",
            "Epoch 16/100\n",
            "1/1 [==============================] - 0s 35ms/step - loss: 9555625984.0000 - mean_squared_error: 9555625984.0000 - val_loss: 13854912512.0000 - val_mean_squared_error: 13854912512.0000\n",
            "Epoch 17/100\n",
            "1/1 [==============================] - 0s 30ms/step - loss: 11189950464.0000 - mean_squared_error: 11189950464.0000 - val_loss: 15645869056.0000 - val_mean_squared_error: 15645869056.0000\n",
            "Epoch 18/100\n",
            "1/1 [==============================] - 0s 32ms/step - loss: 12457348096.0000 - mean_squared_error: 12457348096.0000 - val_loss: 16479926272.0000 - val_mean_squared_error: 16479926272.0000\n",
            "Epoch 19/100\n",
            "1/1 [==============================] - 0s 32ms/step - loss: 13053356032.0000 - mean_squared_error: 13053356032.0000 - val_loss: 16285344768.0000 - val_mean_squared_error: 16285344768.0000\n",
            "Epoch 20/100\n",
            "1/1 [==============================] - 0s 34ms/step - loss: 12913189888.0000 - mean_squared_error: 12913189888.0000 - val_loss: 15240791040.0000 - val_mean_squared_error: 15240791040.0000\n",
            "Epoch 21/100\n",
            "1/1 [==============================] - 0s 41ms/step - loss: 12166746112.0000 - mean_squared_error: 12166746112.0000 - val_loss: 13672796160.0000 - val_mean_squared_error: 13672796160.0000\n",
            "Epoch 22/100\n",
            "1/1 [==============================] - 0s 38ms/step - loss: 11058532352.0000 - mean_squared_error: 11058532352.0000 - val_loss: 11943657472.0000 - val_mean_squared_error: 11943657472.0000\n",
            "Epoch 23/100\n",
            "1/1 [==============================] - 0s 34ms/step - loss: 9860216832.0000 - mean_squared_error: 9860216832.0000 - val_loss: 10361686016.0000 - val_mean_squared_error: 10361686016.0000\n",
            "Epoch 24/100\n",
            "1/1 [==============================] - 0s 31ms/step - loss: 8800975872.0000 - mean_squared_error: 8800975872.0000 - val_loss: 9130706944.0000 - val_mean_squared_error: 9130706944.0000\n",
            "Epoch 25/100\n",
            "1/1 [==============================] - 0s 35ms/step - loss: 8028542976.0000 - mean_squared_error: 8028542976.0000 - val_loss: 8338808832.0000 - val_mean_squared_error: 8338808832.0000\n",
            "Epoch 26/100\n",
            "1/1 [==============================] - 0s 32ms/step - loss: 7601084416.0000 - mean_squared_error: 7601084416.0000 - val_loss: 7975090176.0000 - val_mean_squared_error: 7975090176.0000\n",
            "Epoch 27/100\n",
            "1/1 [==============================] - 0s 33ms/step - loss: 7500536832.0000 - mean_squared_error: 7500536832.0000 - val_loss: 7954109440.0000 - val_mean_squared_error: 7954109440.0000\n",
            "Epoch 28/100\n",
            "1/1 [==============================] - 0s 39ms/step - loss: 7652842496.0000 - mean_squared_error: 7652842496.0000 - val_loss: 8394082304.0000 - val_mean_squared_error: 8394082304.0000\n",
            "Epoch 29/100\n",
            "1/1 [==============================] - 0s 38ms/step - loss: 8206563328.0000 - mean_squared_error: 8206563328.0000 - val_loss: 8653320192.0000 - val_mean_squared_error: 8653320192.0000\n",
            "Epoch 30/100\n",
            "1/1 [==============================] - 0s 40ms/step - loss: 8481996288.0000 - mean_squared_error: 8481996288.0000 - val_loss: 8655919104.0000 - val_mean_squared_error: 8655919104.0000\n",
            "Epoch 31/100\n",
            "1/1 [==============================] - 0s 33ms/step - loss: 8506371072.0000 - mean_squared_error: 8506371072.0000 - val_loss: 8787365888.0000 - val_mean_squared_error: 8787365888.0000\n",
            "Epoch 32/100\n",
            "1/1 [==============================] - 0s 33ms/step - loss: 8642906112.0000 - mean_squared_error: 8642906112.0000 - val_loss: 8830068736.0000 - val_mean_squared_error: 8830068736.0000\n",
            "Epoch 33/100\n",
            "1/1 [==============================] - 0s 53ms/step - loss: 8686532608.0000 - mean_squared_error: 8686532608.0000 - val_loss: 8783203328.0000 - val_mean_squared_error: 8783203328.0000\n",
            "Epoch 34/100\n",
            "1/1 [==============================] - 0s 33ms/step - loss: 8638130176.0000 - mean_squared_error: 8638130176.0000 - val_loss: 8661090304.0000 - val_mean_squared_error: 8661090304.0000\n",
            "Epoch 35/100\n",
            "1/1 [==============================] - 0s 36ms/step - loss: 8510949376.0000 - mean_squared_error: 8510949376.0000 - val_loss: 8489028096.0000 - val_mean_squared_error: 8489028096.0000\n",
            "Epoch 36/100\n",
            "1/1 [==============================] - 0s 31ms/step - loss: 8327308288.0000 - mean_squared_error: 8327308288.0000 - val_loss: 8310107136.0000 - val_mean_squared_error: 8310107136.0000\n",
            "Epoch 37/100\n",
            "1/1 [==============================] - 0s 37ms/step - loss: 8128018944.0000 - mean_squared_error: 8128018944.0000 - val_loss: 8142810112.0000 - val_mean_squared_error: 8142810112.0000\n",
            "Epoch 38/100\n",
            "1/1 [==============================] - 0s 40ms/step - loss: 7928751104.0000 - mean_squared_error: 7928751104.0000 - val_loss: 8008369664.0000 - val_mean_squared_error: 8008369664.0000\n",
            "Epoch 39/100\n",
            "1/1 [==============================] - 0s 35ms/step - loss: 7746874368.0000 - mean_squared_error: 7746874368.0000 - val_loss: 7928876032.0000 - val_mean_squared_error: 7928876032.0000\n",
            "Epoch 40/100\n",
            "1/1 [==============================] - 0s 32ms/step - loss: 7603488768.0000 - mean_squared_error: 7603488768.0000 - val_loss: 7916324352.0000 - val_mean_squared_error: 7916324352.0000\n",
            "Epoch 41/100\n",
            "1/1 [==============================] - 0s 36ms/step - loss: 7511988224.0000 - mean_squared_error: 7511988224.0000 - val_loss: 7970934784.0000 - val_mean_squared_error: 7970934784.0000\n",
            "Epoch 42/100\n",
            "1/1 [==============================] - 0s 35ms/step - loss: 7475574784.0000 - mean_squared_error: 7475574784.0000 - val_loss: 8081078784.0000 - val_mean_squared_error: 8081078784.0000\n",
            "Epoch 43/100\n",
            "1/1 [==============================] - 0s 35ms/step - loss: 7488363520.0000 - mean_squared_error: 7488363520.0000 - val_loss: 8225027072.0000 - val_mean_squared_error: 8225027072.0000\n",
            "Epoch 44/100\n",
            "1/1 [==============================] - 0s 35ms/step - loss: 7536809984.0000 - mean_squared_error: 7536809984.0000 - val_loss: 8374315520.0000 - val_mean_squared_error: 8374315520.0000\n",
            "Epoch 45/100\n",
            "1/1 [==============================] - 0s 30ms/step - loss: 7601890816.0000 - mean_squared_error: 7601890816.0000 - val_loss: 8501903360.0000 - val_mean_squared_error: 8501903360.0000\n",
            "Epoch 46/100\n",
            "1/1 [==============================] - 0s 41ms/step - loss: 7663908864.0000 - mean_squared_error: 7663908864.0000 - val_loss: 8586528768.0000 - val_mean_squared_error: 8586528768.0000\n",
            "Epoch 47/100\n",
            "1/1 [==============================] - 0s 33ms/step - loss: 7706876416.0000 - mean_squared_error: 7706876416.0000 - val_loss: 8615788544.0000 - val_mean_squared_error: 8615788544.0000\n",
            "Epoch 48/100\n",
            "1/1 [==============================] - 0s 37ms/step - loss: 7721370112.0000 - mean_squared_error: 7721370112.0000 - val_loss: 8588533760.0000 - val_mean_squared_error: 8588533760.0000\n",
            "Epoch 49/100\n",
            "1/1 [==============================] - 0s 32ms/step - loss: 7705771008.0000 - mean_squared_error: 7705771008.0000 - val_loss: 8514010112.0000 - val_mean_squared_error: 8514010112.0000\n",
            "Epoch 50/100\n",
            "1/1 [==============================] - 0s 30ms/step - loss: 7665624064.0000 - mean_squared_error: 7665624064.0000 - val_loss: 8407783936.0000 - val_mean_squared_error: 8407783936.0000\n",
            "Epoch 51/100\n",
            "1/1 [==============================] - 0s 34ms/step - loss: 7610977280.0000 - mean_squared_error: 7610977280.0000 - val_loss: 8287873024.0000 - val_mean_squared_error: 8287873024.0000\n",
            "Epoch 52/100\n",
            "1/1 [==============================] - 0s 41ms/step - loss: 7553517056.0000 - mean_squared_error: 7553517056.0000 - val_loss: 8171020800.0000 - val_mean_squared_error: 8171020800.0000\n",
            "Epoch 53/100\n",
            "1/1 [==============================] - 0s 31ms/step - loss: 7503644672.0000 - mean_squared_error: 7503644672.0000 - val_loss: 8070088704.0000 - val_mean_squared_error: 8070088704.0000\n",
            "Epoch 54/100\n",
            "1/1 [==============================] - 0s 36ms/step - loss: 7468535296.0000 - mean_squared_error: 7468535296.0000 - val_loss: 7992105984.0000 - val_mean_squared_error: 7992105984.0000\n",
            "Epoch 55/100\n",
            "1/1 [==============================] - 0s 49ms/step - loss: 7450649600.0000 - mean_squared_error: 7450649600.0000 - val_loss: 7938271232.0000 - val_mean_squared_error: 7938271232.0000\n",
            "Epoch 56/100\n",
            "1/1 [==============================] - 0s 35ms/step - loss: 7448547328.0000 - mean_squared_error: 7448547328.0000 - val_loss: 7905849344.0000 - val_mean_squared_error: 7905849344.0000\n",
            "Epoch 57/100\n",
            "1/1 [==============================] - 0s 31ms/step - loss: 7457951744.0000 - mean_squared_error: 7457951744.0000 - val_loss: 7889112064.0000 - val_mean_squared_error: 7889112064.0000\n",
            "Epoch 58/100\n",
            "1/1 [==============================] - 0s 44ms/step - loss: 7473175040.0000 - mean_squared_error: 7473175040.0000 - val_loss: 7882052608.0000 - val_mean_squared_error: 7882052608.0000\n",
            "Epoch 59/100\n",
            "1/1 [==============================] - 0s 37ms/step - loss: 7488501248.0000 - mean_squared_error: 7488501248.0000 - val_loss: 7879458816.0000 - val_mean_squared_error: 7879458816.0000\n",
            "Epoch 60/100\n",
            "1/1 [==============================] - 0s 53ms/step - loss: 7499319296.0000 - mean_squared_error: 7499319296.0000 - val_loss: 7877842944.0000 - val_mean_squared_error: 7877842944.0000\n",
            "Epoch 61/100\n",
            "1/1 [==============================] - 0s 42ms/step - loss: 7502895104.0000 - mean_squared_error: 7502895104.0000 - val_loss: 7875782656.0000 - val_mean_squared_error: 7875782656.0000\n",
            "Epoch 62/100\n",
            "1/1 [==============================] - 0s 36ms/step - loss: 7498445312.0000 - mean_squared_error: 7498445312.0000 - val_loss: 7873734656.0000 - val_mean_squared_error: 7873734656.0000\n",
            "Epoch 63/100\n",
            "1/1 [==============================] - 0s 34ms/step - loss: 7487046656.0000 - mean_squared_error: 7487046656.0000 - val_loss: 7873458688.0000 - val_mean_squared_error: 7873458688.0000\n",
            "Epoch 64/100\n",
            "1/1 [==============================] - 0s 31ms/step - loss: 7471154176.0000 - mean_squared_error: 7471154176.0000 - val_loss: 7877182464.0000 - val_mean_squared_error: 7877182464.0000\n",
            "Epoch 65/100\n",
            "1/1 [==============================] - 0s 38ms/step - loss: 7453850112.0000 - mean_squared_error: 7453850112.0000 - val_loss: 7886763008.0000 - val_mean_squared_error: 7886763008.0000\n",
            "Epoch 66/100\n",
            "1/1 [==============================] - 0s 35ms/step - loss: 7438110208.0000 - mean_squared_error: 7438110208.0000 - val_loss: 7903008768.0000 - val_mean_squared_error: 7903008768.0000\n",
            "Epoch 67/100\n",
            "1/1 [==============================] - 0s 33ms/step - loss: 7426135552.0000 - mean_squared_error: 7426135552.0000 - val_loss: 7925313536.0000 - val_mean_squared_error: 7925313536.0000\n",
            "Epoch 68/100\n",
            "1/1 [==============================] - 0s 39ms/step - loss: 7418986496.0000 - mean_squared_error: 7418986496.0000 - val_loss: 7951648768.0000 - val_mean_squared_error: 7951648768.0000\n",
            "Epoch 69/100\n",
            "1/1 [==============================] - 0s 33ms/step - loss: 7416497152.0000 - mean_squared_error: 7416497152.0000 - val_loss: 7978943488.0000 - val_mean_squared_error: 7978943488.0000\n",
            "Epoch 70/100\n",
            "1/1 [==============================] - 0s 35ms/step - loss: 7417500672.0000 - mean_squared_error: 7417500672.0000 - val_loss: 8003661824.0000 - val_mean_squared_error: 8003661824.0000\n",
            "Epoch 71/100\n",
            "1/1 [==============================] - 0s 34ms/step - loss: 7420226048.0000 - mean_squared_error: 7420226048.0000 - val_loss: 8022546944.0000 - val_mean_squared_error: 8022546944.0000\n",
            "Epoch 72/100\n",
            "1/1 [==============================] - 0s 30ms/step - loss: 7422800896.0000 - mean_squared_error: 7422800896.0000 - val_loss: 8033230336.0000 - val_mean_squared_error: 8033230336.0000\n",
            "Epoch 73/100\n",
            "1/1 [==============================] - 0s 36ms/step - loss: 7423718400.0000 - mean_squared_error: 7423718400.0000 - val_loss: 8034618368.0000 - val_mean_squared_error: 8034618368.0000\n",
            "Epoch 74/100\n",
            "1/1 [==============================] - 0s 31ms/step - loss: 7422142464.0000 - mean_squared_error: 7422142464.0000 - val_loss: 8027022336.0000 - val_mean_squared_error: 8027022336.0000\n",
            "Epoch 75/100\n",
            "1/1 [==============================] - 0s 32ms/step - loss: 7418015232.0000 - mean_squared_error: 7418015232.0000 - val_loss: 8011941376.0000 - val_mean_squared_error: 8011941376.0000\n",
            "Epoch 76/100\n",
            "1/1 [==============================] - 0s 36ms/step - loss: 7411937280.0000 - mean_squared_error: 7411937280.0000 - val_loss: 7991656960.0000 - val_mean_squared_error: 7991656960.0000\n",
            "Epoch 77/100\n",
            "1/1 [==============================] - 0s 32ms/step - loss: 7404914688.0000 - mean_squared_error: 7404914688.0000 - val_loss: 7968761344.0000 - val_mean_squared_error: 7968761344.0000\n",
            "Epoch 78/100\n",
            "1/1 [==============================] - 0s 34ms/step - loss: 7398074368.0000 - mean_squared_error: 7398074368.0000 - val_loss: 7945639936.0000 - val_mean_squared_error: 7945639936.0000\n",
            "Epoch 79/100\n",
            "1/1 [==============================] - 0s 35ms/step - loss: 7392269312.0000 - mean_squared_error: 7392269312.0000 - val_loss: 7924145152.0000 - val_mean_squared_error: 7924145152.0000\n",
            "Epoch 80/100\n",
            "1/1 [==============================] - 0s 40ms/step - loss: 7387922432.0000 - mean_squared_error: 7387922432.0000 - val_loss: 7905464320.0000 - val_mean_squared_error: 7905464320.0000\n",
            "Epoch 81/100\n",
            "1/1 [==============================] - 0s 33ms/step - loss: 7385055744.0000 - mean_squared_error: 7385055744.0000 - val_loss: 7890161664.0000 - val_mean_squared_error: 7890161664.0000\n",
            "Epoch 82/100\n",
            "1/1 [==============================] - 0s 36ms/step - loss: 7383322112.0000 - mean_squared_error: 7383322112.0000 - val_loss: 7878295552.0000 - val_mean_squared_error: 7878295552.0000\n",
            "Epoch 83/100\n",
            "1/1 [==============================] - 0s 31ms/step - loss: 7382160384.0000 - mean_squared_error: 7382160384.0000 - val_loss: 7869640192.0000 - val_mean_squared_error: 7869640192.0000\n",
            "Epoch 84/100\n",
            "1/1 [==============================] - 0s 37ms/step - loss: 7380970496.0000 - mean_squared_error: 7380970496.0000 - val_loss: 7863841792.0000 - val_mean_squared_error: 7863841792.0000\n",
            "Epoch 85/100\n",
            "1/1 [==============================] - 0s 35ms/step - loss: 7379273216.0000 - mean_squared_error: 7379273216.0000 - val_loss: 7860573696.0000 - val_mean_squared_error: 7860573696.0000\n",
            "Epoch 86/100\n",
            "1/1 [==============================] - 0s 32ms/step - loss: 7376801792.0000 - mean_squared_error: 7376801792.0000 - val_loss: 7859589120.0000 - val_mean_squared_error: 7859589120.0000\n",
            "Epoch 87/100\n",
            "1/1 [==============================] - 0s 31ms/step - loss: 7373540352.0000 - mean_squared_error: 7373540352.0000 - val_loss: 7860701696.0000 - val_mean_squared_error: 7860701696.0000\n",
            "Epoch 88/100\n",
            "1/1 [==============================] - 0s 34ms/step - loss: 7369678336.0000 - mean_squared_error: 7369678336.0000 - val_loss: 7863724032.0000 - val_mean_squared_error: 7863724032.0000\n",
            "Epoch 89/100\n",
            "1/1 [==============================] - 0s 35ms/step - loss: 7365529600.0000 - mean_squared_error: 7365529600.0000 - val_loss: 7868379136.0000 - val_mean_squared_error: 7868379136.0000\n",
            "Epoch 90/100\n",
            "1/1 [==============================] - 0s 35ms/step - loss: 7361431552.0000 - mean_squared_error: 7361431552.0000 - val_loss: 7874263040.0000 - val_mean_squared_error: 7874263040.0000\n",
            "Epoch 91/100\n",
            "1/1 [==============================] - 0s 35ms/step - loss: 7357650944.0000 - mean_squared_error: 7357650944.0000 - val_loss: 7880801792.0000 - val_mean_squared_error: 7880801792.0000\n",
            "Epoch 92/100\n",
            "1/1 [==============================] - 0s 40ms/step - loss: 7354323968.0000 - mean_squared_error: 7354323968.0000 - val_loss: 7887297536.0000 - val_mean_squared_error: 7887297536.0000\n",
            "Epoch 93/100\n",
            "1/1 [==============================] - 0s 34ms/step - loss: 7351446016.0000 - mean_squared_error: 7351446016.0000 - val_loss: 7892989952.0000 - val_mean_squared_error: 7892989952.0000\n",
            "Epoch 94/100\n",
            "1/1 [==============================] - 0s 38ms/step - loss: 7348886528.0000 - mean_squared_error: 7348886528.0000 - val_loss: 7897177088.0000 - val_mean_squared_error: 7897177088.0000\n",
            "Epoch 95/100\n",
            "1/1 [==============================] - 0s 35ms/step - loss: 7346452480.0000 - mean_squared_error: 7346452480.0000 - val_loss: 7899313152.0000 - val_mean_squared_error: 7899313152.0000\n",
            "Epoch 96/100\n",
            "1/1 [==============================] - 0s 35ms/step - loss: 7343946752.0000 - mean_squared_error: 7343946752.0000 - val_loss: 7899075584.0000 - val_mean_squared_error: 7899075584.0000\n",
            "Epoch 97/100\n",
            "1/1 [==============================] - 0s 31ms/step - loss: 7341222912.0000 - mean_squared_error: 7341222912.0000 - val_loss: 7896435712.0000 - val_mean_squared_error: 7896435712.0000\n",
            "Epoch 98/100\n",
            "1/1 [==============================] - 0s 36ms/step - loss: 7338221568.0000 - mean_squared_error: 7338221568.0000 - val_loss: 7891610112.0000 - val_mean_squared_error: 7891610112.0000\n",
            "Epoch 99/100\n",
            "1/1 [==============================] - 0s 30ms/step - loss: 7334963200.0000 - mean_squared_error: 7334963200.0000 - val_loss: 7885012992.0000 - val_mean_squared_error: 7885012992.0000\n",
            "Epoch 100/100\n",
            "1/1 [==============================] - 0s 33ms/step - loss: 7331536896.0000 - mean_squared_error: 7331536896.0000 - val_loss: 7877216256.0000 - val_mean_squared_error: 7877216256.0000\n"
          ]
        }
      ]
    },
    {
      "cell_type": "code",
      "source": [
        "y_pred8=ann.predict(X_test)\n",
        "\n",
        "print('Coefficient of Determination (R2 Score)=',r2_score(y_test, y_pred8))\n",
        "print('Mean Squared Error= ',mean_squared_error(y_test, y_pred8))"
      ],
      "metadata": {
        "colab": {
          "base_uri": "https://localhost:8080/"
        },
        "id": "-IQS-1iQ37l9",
        "outputId": "7ac6f93a-049f-4e3e-915e-bf1cc50ca5f4"
      },
      "execution_count": 40,
      "outputs": [
        {
          "output_type": "stream",
          "name": "stdout",
          "text": [
            "1/1 [==============================] - 0s 96ms/step\n",
            "Coefficient of Determination (R2 Score)= 0.1371630224531376\n",
            "Mean Squared Error=  7488634187.810559\n"
          ]
        }
      ]
    },
    {
      "cell_type": "markdown",
      "source": [
        "# Model Comparison"
      ],
      "metadata": {
        "id": "9jrNmNl2G5m_"
      }
    },
    {
      "cell_type": "code",
      "source": [
        "comp=pd.DataFrame({'Models':['Linear Regression', 'Bayesian Ridge regressor', \n",
        "                             'Decision Tree Regressor','Lasso Regression',\n",
        "                             'Random Forest Regressor','Polynomial Regression', \n",
        "                             'K Nearest Neighbor', 'Artificial Neural Network'],\n",
        "                   'Coefficient of Determination (R2 Score) ':[r2_score(y_test, y_pred1)*100,\n",
        "                                                               r2_score(y_test, y_pred2)*100,\n",
        "                                                               r2_score(y_test, y_pred3)*100,\n",
        "                                                               r2_score(y_test, y_pred4)*100,\n",
        "                                                               r2_score(y_test, y_pred5)*100,\n",
        "                                                               r2_score(y_test, y_pred6)*100,\n",
        "                                                               #r2_score(y_test, y_pred7)*100,\n",
        "                                                               max(r2_val)*100,\n",
        "                                                               r2_score(y_test, y_pred8)*100,\n",
        "                                                               ],\n",
        "                   'Mean Squared Error':[mean_squared_error(y_test, y_pred1),\n",
        "                                         mean_squared_error(y_test, y_pred2),\n",
        "                                         mean_squared_error(y_test, y_pred3),\n",
        "                                         mean_squared_error(y_test, y_pred4),\n",
        "                                         mean_squared_error(y_test, y_pred5),\n",
        "                                         mean_squared_error(y_test, y_pred6),\n",
        "                                         #mean_squared_error(y_test, y_pred7),\n",
        "                                         min(mse_val),\n",
        "                                         mean_squared_error(y_test, y_pred8)\n",
        "                                          ] } )"
      ],
      "metadata": {
        "id": "QExVhLjWG5S1"
      },
      "execution_count": 41,
      "outputs": []
    },
    {
      "cell_type": "code",
      "source": [
        "comp\n",
        "comp.style.format(\"{:.1f}\")\n",
        "pd.set_option('display.float_format', str)"
      ],
      "metadata": {
        "id": "-24IX3QtHj6B"
      },
      "execution_count": 42,
      "outputs": []
    },
    {
      "cell_type": "code",
      "source": [
        "comp"
      ],
      "metadata": {
        "colab": {
          "base_uri": "https://localhost:8080/",
          "height": 300
        },
        "id": "mTlDladBlR_N",
        "outputId": "5c16a4a8-960e-4f95-82b3-78159a1e18c3"
      },
      "execution_count": 43,
      "outputs": [
        {
          "output_type": "execute_result",
          "data": {
            "text/plain": [
              "                      Models  Coefficient of Determination (R2 Score)   \\\n",
              "0          Linear Regression                         92.32273623720604   \n",
              "1   Bayesian Ridge regressor                         92.66503602402453   \n",
              "2    Decision Tree Regressor                         92.45624646638304   \n",
              "3           Lasso Regression                         92.32278419484261   \n",
              "4    Random Forest Regressor                         97.76163148581787   \n",
              "5      Polynomial Regression                         98.92205568906225   \n",
              "6         K Nearest Neighbor                         99.05760632605659   \n",
              "7  Artificial Neural Network                        13.716302245313761   \n",
              "\n",
              "   Mean Squared Error  \n",
              "0   666316133.6264765  \n",
              "1   636607649.2574232  \n",
              "2   654728669.3353678  \n",
              "3   666311971.3431461  \n",
              "4  194269872.71547073  \n",
              "5   93555686.98961958  \n",
              "6          81791134.0  \n",
              "7   7488634187.810559  "
            ],
            "text/html": [
              "\n",
              "  <div id=\"df-6c0304f3-3327-4047-9284-4dee944fd4c6\">\n",
              "    <div class=\"colab-df-container\">\n",
              "      <div>\n",
              "<style scoped>\n",
              "    .dataframe tbody tr th:only-of-type {\n",
              "        vertical-align: middle;\n",
              "    }\n",
              "\n",
              "    .dataframe tbody tr th {\n",
              "        vertical-align: top;\n",
              "    }\n",
              "\n",
              "    .dataframe thead th {\n",
              "        text-align: right;\n",
              "    }\n",
              "</style>\n",
              "<table border=\"1\" class=\"dataframe\">\n",
              "  <thead>\n",
              "    <tr style=\"text-align: right;\">\n",
              "      <th></th>\n",
              "      <th>Models</th>\n",
              "      <th>Coefficient of Determination (R2 Score)</th>\n",
              "      <th>Mean Squared Error</th>\n",
              "    </tr>\n",
              "  </thead>\n",
              "  <tbody>\n",
              "    <tr>\n",
              "      <th>0</th>\n",
              "      <td>Linear Regression</td>\n",
              "      <td>92.32273623720604</td>\n",
              "      <td>666316133.6264765</td>\n",
              "    </tr>\n",
              "    <tr>\n",
              "      <th>1</th>\n",
              "      <td>Bayesian Ridge regressor</td>\n",
              "      <td>92.66503602402453</td>\n",
              "      <td>636607649.2574232</td>\n",
              "    </tr>\n",
              "    <tr>\n",
              "      <th>2</th>\n",
              "      <td>Decision Tree Regressor</td>\n",
              "      <td>92.45624646638304</td>\n",
              "      <td>654728669.3353678</td>\n",
              "    </tr>\n",
              "    <tr>\n",
              "      <th>3</th>\n",
              "      <td>Lasso Regression</td>\n",
              "      <td>92.32278419484261</td>\n",
              "      <td>666311971.3431461</td>\n",
              "    </tr>\n",
              "    <tr>\n",
              "      <th>4</th>\n",
              "      <td>Random Forest Regressor</td>\n",
              "      <td>97.76163148581787</td>\n",
              "      <td>194269872.71547073</td>\n",
              "    </tr>\n",
              "    <tr>\n",
              "      <th>5</th>\n",
              "      <td>Polynomial Regression</td>\n",
              "      <td>98.92205568906225</td>\n",
              "      <td>93555686.98961958</td>\n",
              "    </tr>\n",
              "    <tr>\n",
              "      <th>6</th>\n",
              "      <td>K Nearest Neighbor</td>\n",
              "      <td>99.05760632605659</td>\n",
              "      <td>81791134.0</td>\n",
              "    </tr>\n",
              "    <tr>\n",
              "      <th>7</th>\n",
              "      <td>Artificial Neural Network</td>\n",
              "      <td>13.716302245313761</td>\n",
              "      <td>7488634187.810559</td>\n",
              "    </tr>\n",
              "  </tbody>\n",
              "</table>\n",
              "</div>\n",
              "      <button class=\"colab-df-convert\" onclick=\"convertToInteractive('df-6c0304f3-3327-4047-9284-4dee944fd4c6')\"\n",
              "              title=\"Convert this dataframe to an interactive table.\"\n",
              "              style=\"display:none;\">\n",
              "        \n",
              "  <svg xmlns=\"http://www.w3.org/2000/svg\" height=\"24px\"viewBox=\"0 0 24 24\"\n",
              "       width=\"24px\">\n",
              "    <path d=\"M0 0h24v24H0V0z\" fill=\"none\"/>\n",
              "    <path d=\"M18.56 5.44l.94 2.06.94-2.06 2.06-.94-2.06-.94-.94-2.06-.94 2.06-2.06.94zm-11 1L8.5 8.5l.94-2.06 2.06-.94-2.06-.94L8.5 2.5l-.94 2.06-2.06.94zm10 10l.94 2.06.94-2.06 2.06-.94-2.06-.94-.94-2.06-.94 2.06-2.06.94z\"/><path d=\"M17.41 7.96l-1.37-1.37c-.4-.4-.92-.59-1.43-.59-.52 0-1.04.2-1.43.59L10.3 9.45l-7.72 7.72c-.78.78-.78 2.05 0 2.83L4 21.41c.39.39.9.59 1.41.59.51 0 1.02-.2 1.41-.59l7.78-7.78 2.81-2.81c.8-.78.8-2.07 0-2.86zM5.41 20L4 18.59l7.72-7.72 1.47 1.35L5.41 20z\"/>\n",
              "  </svg>\n",
              "      </button>\n",
              "      \n",
              "  <style>\n",
              "    .colab-df-container {\n",
              "      display:flex;\n",
              "      flex-wrap:wrap;\n",
              "      gap: 12px;\n",
              "    }\n",
              "\n",
              "    .colab-df-convert {\n",
              "      background-color: #E8F0FE;\n",
              "      border: none;\n",
              "      border-radius: 50%;\n",
              "      cursor: pointer;\n",
              "      display: none;\n",
              "      fill: #1967D2;\n",
              "      height: 32px;\n",
              "      padding: 0 0 0 0;\n",
              "      width: 32px;\n",
              "    }\n",
              "\n",
              "    .colab-df-convert:hover {\n",
              "      background-color: #E2EBFA;\n",
              "      box-shadow: 0px 1px 2px rgba(60, 64, 67, 0.3), 0px 1px 3px 1px rgba(60, 64, 67, 0.15);\n",
              "      fill: #174EA6;\n",
              "    }\n",
              "\n",
              "    [theme=dark] .colab-df-convert {\n",
              "      background-color: #3B4455;\n",
              "      fill: #D2E3FC;\n",
              "    }\n",
              "\n",
              "    [theme=dark] .colab-df-convert:hover {\n",
              "      background-color: #434B5C;\n",
              "      box-shadow: 0px 1px 3px 1px rgba(0, 0, 0, 0.15);\n",
              "      filter: drop-shadow(0px 1px 2px rgba(0, 0, 0, 0.3));\n",
              "      fill: #FFFFFF;\n",
              "    }\n",
              "  </style>\n",
              "\n",
              "      <script>\n",
              "        const buttonEl =\n",
              "          document.querySelector('#df-6c0304f3-3327-4047-9284-4dee944fd4c6 button.colab-df-convert');\n",
              "        buttonEl.style.display =\n",
              "          google.colab.kernel.accessAllowed ? 'block' : 'none';\n",
              "\n",
              "        async function convertToInteractive(key) {\n",
              "          const element = document.querySelector('#df-6c0304f3-3327-4047-9284-4dee944fd4c6');\n",
              "          const dataTable =\n",
              "            await google.colab.kernel.invokeFunction('convertToInteractive',\n",
              "                                                     [key], {});\n",
              "          if (!dataTable) return;\n",
              "\n",
              "          const docLinkHtml = 'Like what you see? Visit the ' +\n",
              "            '<a target=\"_blank\" href=https://colab.research.google.com/notebooks/data_table.ipynb>data table notebook</a>'\n",
              "            + ' to learn more about interactive tables.';\n",
              "          element.innerHTML = '';\n",
              "          dataTable['output_type'] = 'display_data';\n",
              "          await google.colab.output.renderOutput(dataTable, element);\n",
              "          const docLink = document.createElement('div');\n",
              "          docLink.innerHTML = docLinkHtml;\n",
              "          element.appendChild(docLink);\n",
              "        }\n",
              "      </script>\n",
              "    </div>\n",
              "  </div>\n",
              "  "
            ]
          },
          "metadata": {},
          "execution_count": 43
        }
      ]
    },
    {
      "cell_type": "markdown",
      "source": [
        "# Best Model "
      ],
      "metadata": {
        "id": "TAO12cCVjLB9"
      }
    },
    {
      "cell_type": "code",
      "source": [
        "r2_df =comp.loc[comp.iloc[:,1] == comp.iloc[:,1].max()]"
      ],
      "metadata": {
        "id": "4NwnhTdhgv3x"
      },
      "execution_count": 44,
      "outputs": []
    },
    {
      "cell_type": "code",
      "source": [
        "r2_df"
      ],
      "metadata": {
        "colab": {
          "base_uri": "https://localhost:8080/",
          "height": 81
        },
        "id": "cnAcpk5ahapX",
        "outputId": "3540ec84-2714-4e45-8d2e-3ebe2ed68bf5"
      },
      "execution_count": 45,
      "outputs": [
        {
          "output_type": "execute_result",
          "data": {
            "text/plain": [
              "               Models  Coefficient of Determination (R2 Score)   \\\n",
              "6  K Nearest Neighbor                         99.05760632605659   \n",
              "\n",
              "   Mean Squared Error  \n",
              "6          81791134.0  "
            ],
            "text/html": [
              "\n",
              "  <div id=\"df-3bee85f5-0751-4dfc-9c0b-51419ca672d0\">\n",
              "    <div class=\"colab-df-container\">\n",
              "      <div>\n",
              "<style scoped>\n",
              "    .dataframe tbody tr th:only-of-type {\n",
              "        vertical-align: middle;\n",
              "    }\n",
              "\n",
              "    .dataframe tbody tr th {\n",
              "        vertical-align: top;\n",
              "    }\n",
              "\n",
              "    .dataframe thead th {\n",
              "        text-align: right;\n",
              "    }\n",
              "</style>\n",
              "<table border=\"1\" class=\"dataframe\">\n",
              "  <thead>\n",
              "    <tr style=\"text-align: right;\">\n",
              "      <th></th>\n",
              "      <th>Models</th>\n",
              "      <th>Coefficient of Determination (R2 Score)</th>\n",
              "      <th>Mean Squared Error</th>\n",
              "    </tr>\n",
              "  </thead>\n",
              "  <tbody>\n",
              "    <tr>\n",
              "      <th>6</th>\n",
              "      <td>K Nearest Neighbor</td>\n",
              "      <td>99.05760632605659</td>\n",
              "      <td>81791134.0</td>\n",
              "    </tr>\n",
              "  </tbody>\n",
              "</table>\n",
              "</div>\n",
              "      <button class=\"colab-df-convert\" onclick=\"convertToInteractive('df-3bee85f5-0751-4dfc-9c0b-51419ca672d0')\"\n",
              "              title=\"Convert this dataframe to an interactive table.\"\n",
              "              style=\"display:none;\">\n",
              "        \n",
              "  <svg xmlns=\"http://www.w3.org/2000/svg\" height=\"24px\"viewBox=\"0 0 24 24\"\n",
              "       width=\"24px\">\n",
              "    <path d=\"M0 0h24v24H0V0z\" fill=\"none\"/>\n",
              "    <path d=\"M18.56 5.44l.94 2.06.94-2.06 2.06-.94-2.06-.94-.94-2.06-.94 2.06-2.06.94zm-11 1L8.5 8.5l.94-2.06 2.06-.94-2.06-.94L8.5 2.5l-.94 2.06-2.06.94zm10 10l.94 2.06.94-2.06 2.06-.94-2.06-.94-.94-2.06-.94 2.06-2.06.94z\"/><path d=\"M17.41 7.96l-1.37-1.37c-.4-.4-.92-.59-1.43-.59-.52 0-1.04.2-1.43.59L10.3 9.45l-7.72 7.72c-.78.78-.78 2.05 0 2.83L4 21.41c.39.39.9.59 1.41.59.51 0 1.02-.2 1.41-.59l7.78-7.78 2.81-2.81c.8-.78.8-2.07 0-2.86zM5.41 20L4 18.59l7.72-7.72 1.47 1.35L5.41 20z\"/>\n",
              "  </svg>\n",
              "      </button>\n",
              "      \n",
              "  <style>\n",
              "    .colab-df-container {\n",
              "      display:flex;\n",
              "      flex-wrap:wrap;\n",
              "      gap: 12px;\n",
              "    }\n",
              "\n",
              "    .colab-df-convert {\n",
              "      background-color: #E8F0FE;\n",
              "      border: none;\n",
              "      border-radius: 50%;\n",
              "      cursor: pointer;\n",
              "      display: none;\n",
              "      fill: #1967D2;\n",
              "      height: 32px;\n",
              "      padding: 0 0 0 0;\n",
              "      width: 32px;\n",
              "    }\n",
              "\n",
              "    .colab-df-convert:hover {\n",
              "      background-color: #E2EBFA;\n",
              "      box-shadow: 0px 1px 2px rgba(60, 64, 67, 0.3), 0px 1px 3px 1px rgba(60, 64, 67, 0.15);\n",
              "      fill: #174EA6;\n",
              "    }\n",
              "\n",
              "    [theme=dark] .colab-df-convert {\n",
              "      background-color: #3B4455;\n",
              "      fill: #D2E3FC;\n",
              "    }\n",
              "\n",
              "    [theme=dark] .colab-df-convert:hover {\n",
              "      background-color: #434B5C;\n",
              "      box-shadow: 0px 1px 3px 1px rgba(0, 0, 0, 0.15);\n",
              "      filter: drop-shadow(0px 1px 2px rgba(0, 0, 0, 0.3));\n",
              "      fill: #FFFFFF;\n",
              "    }\n",
              "  </style>\n",
              "\n",
              "      <script>\n",
              "        const buttonEl =\n",
              "          document.querySelector('#df-3bee85f5-0751-4dfc-9c0b-51419ca672d0 button.colab-df-convert');\n",
              "        buttonEl.style.display =\n",
              "          google.colab.kernel.accessAllowed ? 'block' : 'none';\n",
              "\n",
              "        async function convertToInteractive(key) {\n",
              "          const element = document.querySelector('#df-3bee85f5-0751-4dfc-9c0b-51419ca672d0');\n",
              "          const dataTable =\n",
              "            await google.colab.kernel.invokeFunction('convertToInteractive',\n",
              "                                                     [key], {});\n",
              "          if (!dataTable) return;\n",
              "\n",
              "          const docLinkHtml = 'Like what you see? Visit the ' +\n",
              "            '<a target=\"_blank\" href=https://colab.research.google.com/notebooks/data_table.ipynb>data table notebook</a>'\n",
              "            + ' to learn more about interactive tables.';\n",
              "          element.innerHTML = '';\n",
              "          dataTable['output_type'] = 'display_data';\n",
              "          await google.colab.output.renderOutput(dataTable, element);\n",
              "          const docLink = document.createElement('div');\n",
              "          docLink.innerHTML = docLinkHtml;\n",
              "          element.appendChild(docLink);\n",
              "        }\n",
              "      </script>\n",
              "    </div>\n",
              "  </div>\n",
              "  "
            ]
          },
          "metadata": {},
          "execution_count": 45
        }
      ]
    },
    {
      "cell_type": "code",
      "source": [
        "mse_df=comp.loc[comp.iloc[:,2] == comp.iloc[:,2].min()]"
      ],
      "metadata": {
        "id": "F67F3qgiis8V"
      },
      "execution_count": 46,
      "outputs": []
    },
    {
      "cell_type": "code",
      "source": [
        "mse_df"
      ],
      "metadata": {
        "colab": {
          "base_uri": "https://localhost:8080/",
          "height": 81
        },
        "id": "iEd6iLvpjB6U",
        "outputId": "64d9d75a-5b0b-492c-f661-83d9d6601d8c"
      },
      "execution_count": 47,
      "outputs": [
        {
          "output_type": "execute_result",
          "data": {
            "text/plain": [
              "               Models  Coefficient of Determination (R2 Score)   \\\n",
              "6  K Nearest Neighbor                         99.05760632605659   \n",
              "\n",
              "   Mean Squared Error  \n",
              "6          81791134.0  "
            ],
            "text/html": [
              "\n",
              "  <div id=\"df-ef8ce162-6f22-4afd-91a6-60ce8e6a6db0\">\n",
              "    <div class=\"colab-df-container\">\n",
              "      <div>\n",
              "<style scoped>\n",
              "    .dataframe tbody tr th:only-of-type {\n",
              "        vertical-align: middle;\n",
              "    }\n",
              "\n",
              "    .dataframe tbody tr th {\n",
              "        vertical-align: top;\n",
              "    }\n",
              "\n",
              "    .dataframe thead th {\n",
              "        text-align: right;\n",
              "    }\n",
              "</style>\n",
              "<table border=\"1\" class=\"dataframe\">\n",
              "  <thead>\n",
              "    <tr style=\"text-align: right;\">\n",
              "      <th></th>\n",
              "      <th>Models</th>\n",
              "      <th>Coefficient of Determination (R2 Score)</th>\n",
              "      <th>Mean Squared Error</th>\n",
              "    </tr>\n",
              "  </thead>\n",
              "  <tbody>\n",
              "    <tr>\n",
              "      <th>6</th>\n",
              "      <td>K Nearest Neighbor</td>\n",
              "      <td>99.05760632605659</td>\n",
              "      <td>81791134.0</td>\n",
              "    </tr>\n",
              "  </tbody>\n",
              "</table>\n",
              "</div>\n",
              "      <button class=\"colab-df-convert\" onclick=\"convertToInteractive('df-ef8ce162-6f22-4afd-91a6-60ce8e6a6db0')\"\n",
              "              title=\"Convert this dataframe to an interactive table.\"\n",
              "              style=\"display:none;\">\n",
              "        \n",
              "  <svg xmlns=\"http://www.w3.org/2000/svg\" height=\"24px\"viewBox=\"0 0 24 24\"\n",
              "       width=\"24px\">\n",
              "    <path d=\"M0 0h24v24H0V0z\" fill=\"none\"/>\n",
              "    <path d=\"M18.56 5.44l.94 2.06.94-2.06 2.06-.94-2.06-.94-.94-2.06-.94 2.06-2.06.94zm-11 1L8.5 8.5l.94-2.06 2.06-.94-2.06-.94L8.5 2.5l-.94 2.06-2.06.94zm10 10l.94 2.06.94-2.06 2.06-.94-2.06-.94-.94-2.06-.94 2.06-2.06.94z\"/><path d=\"M17.41 7.96l-1.37-1.37c-.4-.4-.92-.59-1.43-.59-.52 0-1.04.2-1.43.59L10.3 9.45l-7.72 7.72c-.78.78-.78 2.05 0 2.83L4 21.41c.39.39.9.59 1.41.59.51 0 1.02-.2 1.41-.59l7.78-7.78 2.81-2.81c.8-.78.8-2.07 0-2.86zM5.41 20L4 18.59l7.72-7.72 1.47 1.35L5.41 20z\"/>\n",
              "  </svg>\n",
              "      </button>\n",
              "      \n",
              "  <style>\n",
              "    .colab-df-container {\n",
              "      display:flex;\n",
              "      flex-wrap:wrap;\n",
              "      gap: 12px;\n",
              "    }\n",
              "\n",
              "    .colab-df-convert {\n",
              "      background-color: #E8F0FE;\n",
              "      border: none;\n",
              "      border-radius: 50%;\n",
              "      cursor: pointer;\n",
              "      display: none;\n",
              "      fill: #1967D2;\n",
              "      height: 32px;\n",
              "      padding: 0 0 0 0;\n",
              "      width: 32px;\n",
              "    }\n",
              "\n",
              "    .colab-df-convert:hover {\n",
              "      background-color: #E2EBFA;\n",
              "      box-shadow: 0px 1px 2px rgba(60, 64, 67, 0.3), 0px 1px 3px 1px rgba(60, 64, 67, 0.15);\n",
              "      fill: #174EA6;\n",
              "    }\n",
              "\n",
              "    [theme=dark] .colab-df-convert {\n",
              "      background-color: #3B4455;\n",
              "      fill: #D2E3FC;\n",
              "    }\n",
              "\n",
              "    [theme=dark] .colab-df-convert:hover {\n",
              "      background-color: #434B5C;\n",
              "      box-shadow: 0px 1px 3px 1px rgba(0, 0, 0, 0.15);\n",
              "      filter: drop-shadow(0px 1px 2px rgba(0, 0, 0, 0.3));\n",
              "      fill: #FFFFFF;\n",
              "    }\n",
              "  </style>\n",
              "\n",
              "      <script>\n",
              "        const buttonEl =\n",
              "          document.querySelector('#df-ef8ce162-6f22-4afd-91a6-60ce8e6a6db0 button.colab-df-convert');\n",
              "        buttonEl.style.display =\n",
              "          google.colab.kernel.accessAllowed ? 'block' : 'none';\n",
              "\n",
              "        async function convertToInteractive(key) {\n",
              "          const element = document.querySelector('#df-ef8ce162-6f22-4afd-91a6-60ce8e6a6db0');\n",
              "          const dataTable =\n",
              "            await google.colab.kernel.invokeFunction('convertToInteractive',\n",
              "                                                     [key], {});\n",
              "          if (!dataTable) return;\n",
              "\n",
              "          const docLinkHtml = 'Like what you see? Visit the ' +\n",
              "            '<a target=\"_blank\" href=https://colab.research.google.com/notebooks/data_table.ipynb>data table notebook</a>'\n",
              "            + ' to learn more about interactive tables.';\n",
              "          element.innerHTML = '';\n",
              "          dataTable['output_type'] = 'display_data';\n",
              "          await google.colab.output.renderOutput(dataTable, element);\n",
              "          const docLink = document.createElement('div');\n",
              "          docLink.innerHTML = docLinkHtml;\n",
              "          element.appendChild(docLink);\n",
              "        }\n",
              "      </script>\n",
              "    </div>\n",
              "  </div>\n",
              "  "
            ]
          },
          "metadata": {},
          "execution_count": 47
        }
      ]
    },
    {
      "cell_type": "markdown",
      "source": [
        "KNN is the best model with least error and maximum r2 score"
      ],
      "metadata": {
        "id": "DZQxa9hSjvaY"
      }
    }
  ]
}