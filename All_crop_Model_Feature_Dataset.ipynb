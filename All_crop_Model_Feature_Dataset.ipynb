{
  "nbformat": 4,
  "nbformat_minor": 0,
  "metadata": {
    "colab": {
      "provenance": [],
      "collapsed_sections": []
    },
    "kernelspec": {
      "name": "python3",
      "display_name": "Python 3"
    },
    "language_info": {
      "name": "python"
    }
  },
  "cells": [
    {
      "cell_type": "markdown",
      "source": [
        "# Model and Data Analysis for All Crops Data"
      ],
      "metadata": {
        "id": "PePXrpUH2jZ3"
      }
    },
    {
      "cell_type": "code",
      "execution_count": 100,
      "metadata": {
        "id": "q-IKWBcfLXTl"
      },
      "outputs": [],
      "source": [
        "import pandas as pd\n",
        "from sklearn.preprocessing import MinMaxScaler,StandardScaler\n",
        "import matplotlib.pyplot as plt\n",
        "import tensorflow as tf"
      ]
    },
    {
      "cell_type": "code",
      "source": [
        "from google.colab import drive\n",
        "drive.mount('/content/drive')"
      ],
      "metadata": {
        "colab": {
          "base_uri": "https://localhost:8080/"
        },
        "id": "aNGyQlnvhTJX",
        "outputId": "4b027e78-4b06-4b69-ad3f-a520c3eaf623"
      },
      "execution_count": 101,
      "outputs": [
        {
          "output_type": "stream",
          "name": "stdout",
          "text": [
            "Drive already mounted at /content/drive; to attempt to forcibly remount, call drive.mount(\"/content/drive\", force_remount=True).\n"
          ]
        }
      ]
    },
    {
      "cell_type": "markdown",
      "source": [
        "# Read Dataset"
      ],
      "metadata": {
        "id": "HDYwKjBBCspK"
      }
    },
    {
      "cell_type": "markdown",
      "source": [
        "# Read the Processed data"
      ],
      "metadata": {
        "id": "OLiyqz0-AKAy"
      }
    },
    {
      "cell_type": "code",
      "source": [
        "df=pd.read_csv('/content/drive/MyDrive/TDS_HW6/Data_ft_1961_2020.csv',index_col=0)\n",
        "df.head()"
      ],
      "metadata": {
        "colab": {
          "base_uri": "https://localhost:8080/",
          "height": 267
        },
        "id": "2PA8n2DUAJh7",
        "outputId": "07b65f43-fc5c-4f76-e0c8-9c7203e194f4"
      },
      "execution_count": 102,
      "outputs": [
        {
          "output_type": "execute_result",
          "data": {
            "text/plain": [
              "   Item Code (CPC)  Year  Area harvested  Production  Yield  Precipitation  \\\n",
              "0            111.0  1961      12927000.0  10997000.0 8507.0        1286.98   \n",
              "1            111.0  1962      13570000.0  12072000.0 8896.0        1169.53   \n",
              "2            111.0  1963      13590000.0  10776000.0 7929.0        1149.64   \n",
              "3            111.0  1964      13499000.0   9853000.0 7299.0        1189.87   \n",
              "4            111.0  1965      13422000.0  12257000.0 9132.0         953.51   \n",
              "\n",
              "   Mean Temperature  Minimum Temperature  Maximum Temperature  \n",
              "0             24.05                18.14                30.01  \n",
              "1              24.1                18.03                30.22  \n",
              "2             24.25                18.16                30.38  \n",
              "3             24.25                18.14                 30.4  \n",
              "4             24.34                18.23                 30.5  "
            ],
            "text/html": [
              "\n",
              "  <div id=\"df-6c0bc555-aa3f-4279-9b31-8bb067fde28d\">\n",
              "    <div class=\"colab-df-container\">\n",
              "      <div>\n",
              "<style scoped>\n",
              "    .dataframe tbody tr th:only-of-type {\n",
              "        vertical-align: middle;\n",
              "    }\n",
              "\n",
              "    .dataframe tbody tr th {\n",
              "        vertical-align: top;\n",
              "    }\n",
              "\n",
              "    .dataframe thead th {\n",
              "        text-align: right;\n",
              "    }\n",
              "</style>\n",
              "<table border=\"1\" class=\"dataframe\">\n",
              "  <thead>\n",
              "    <tr style=\"text-align: right;\">\n",
              "      <th></th>\n",
              "      <th>Item Code (CPC)</th>\n",
              "      <th>Year</th>\n",
              "      <th>Area harvested</th>\n",
              "      <th>Production</th>\n",
              "      <th>Yield</th>\n",
              "      <th>Precipitation</th>\n",
              "      <th>Mean Temperature</th>\n",
              "      <th>Minimum Temperature</th>\n",
              "      <th>Maximum Temperature</th>\n",
              "    </tr>\n",
              "  </thead>\n",
              "  <tbody>\n",
              "    <tr>\n",
              "      <th>0</th>\n",
              "      <td>111.0</td>\n",
              "      <td>1961</td>\n",
              "      <td>12927000.0</td>\n",
              "      <td>10997000.0</td>\n",
              "      <td>8507.0</td>\n",
              "      <td>1286.98</td>\n",
              "      <td>24.05</td>\n",
              "      <td>18.14</td>\n",
              "      <td>30.01</td>\n",
              "    </tr>\n",
              "    <tr>\n",
              "      <th>1</th>\n",
              "      <td>111.0</td>\n",
              "      <td>1962</td>\n",
              "      <td>13570000.0</td>\n",
              "      <td>12072000.0</td>\n",
              "      <td>8896.0</td>\n",
              "      <td>1169.53</td>\n",
              "      <td>24.1</td>\n",
              "      <td>18.03</td>\n",
              "      <td>30.22</td>\n",
              "    </tr>\n",
              "    <tr>\n",
              "      <th>2</th>\n",
              "      <td>111.0</td>\n",
              "      <td>1963</td>\n",
              "      <td>13590000.0</td>\n",
              "      <td>10776000.0</td>\n",
              "      <td>7929.0</td>\n",
              "      <td>1149.64</td>\n",
              "      <td>24.25</td>\n",
              "      <td>18.16</td>\n",
              "      <td>30.38</td>\n",
              "    </tr>\n",
              "    <tr>\n",
              "      <th>3</th>\n",
              "      <td>111.0</td>\n",
              "      <td>1964</td>\n",
              "      <td>13499000.0</td>\n",
              "      <td>9853000.0</td>\n",
              "      <td>7299.0</td>\n",
              "      <td>1189.87</td>\n",
              "      <td>24.25</td>\n",
              "      <td>18.14</td>\n",
              "      <td>30.4</td>\n",
              "    </tr>\n",
              "    <tr>\n",
              "      <th>4</th>\n",
              "      <td>111.0</td>\n",
              "      <td>1965</td>\n",
              "      <td>13422000.0</td>\n",
              "      <td>12257000.0</td>\n",
              "      <td>9132.0</td>\n",
              "      <td>953.51</td>\n",
              "      <td>24.34</td>\n",
              "      <td>18.23</td>\n",
              "      <td>30.5</td>\n",
              "    </tr>\n",
              "  </tbody>\n",
              "</table>\n",
              "</div>\n",
              "      <button class=\"colab-df-convert\" onclick=\"convertToInteractive('df-6c0bc555-aa3f-4279-9b31-8bb067fde28d')\"\n",
              "              title=\"Convert this dataframe to an interactive table.\"\n",
              "              style=\"display:none;\">\n",
              "        \n",
              "  <svg xmlns=\"http://www.w3.org/2000/svg\" height=\"24px\"viewBox=\"0 0 24 24\"\n",
              "       width=\"24px\">\n",
              "    <path d=\"M0 0h24v24H0V0z\" fill=\"none\"/>\n",
              "    <path d=\"M18.56 5.44l.94 2.06.94-2.06 2.06-.94-2.06-.94-.94-2.06-.94 2.06-2.06.94zm-11 1L8.5 8.5l.94-2.06 2.06-.94-2.06-.94L8.5 2.5l-.94 2.06-2.06.94zm10 10l.94 2.06.94-2.06 2.06-.94-2.06-.94-.94-2.06-.94 2.06-2.06.94z\"/><path d=\"M17.41 7.96l-1.37-1.37c-.4-.4-.92-.59-1.43-.59-.52 0-1.04.2-1.43.59L10.3 9.45l-7.72 7.72c-.78.78-.78 2.05 0 2.83L4 21.41c.39.39.9.59 1.41.59.51 0 1.02-.2 1.41-.59l7.78-7.78 2.81-2.81c.8-.78.8-2.07 0-2.86zM5.41 20L4 18.59l7.72-7.72 1.47 1.35L5.41 20z\"/>\n",
              "  </svg>\n",
              "      </button>\n",
              "      \n",
              "  <style>\n",
              "    .colab-df-container {\n",
              "      display:flex;\n",
              "      flex-wrap:wrap;\n",
              "      gap: 12px;\n",
              "    }\n",
              "\n",
              "    .colab-df-convert {\n",
              "      background-color: #E8F0FE;\n",
              "      border: none;\n",
              "      border-radius: 50%;\n",
              "      cursor: pointer;\n",
              "      display: none;\n",
              "      fill: #1967D2;\n",
              "      height: 32px;\n",
              "      padding: 0 0 0 0;\n",
              "      width: 32px;\n",
              "    }\n",
              "\n",
              "    .colab-df-convert:hover {\n",
              "      background-color: #E2EBFA;\n",
              "      box-shadow: 0px 1px 2px rgba(60, 64, 67, 0.3), 0px 1px 3px 1px rgba(60, 64, 67, 0.15);\n",
              "      fill: #174EA6;\n",
              "    }\n",
              "\n",
              "    [theme=dark] .colab-df-convert {\n",
              "      background-color: #3B4455;\n",
              "      fill: #D2E3FC;\n",
              "    }\n",
              "\n",
              "    [theme=dark] .colab-df-convert:hover {\n",
              "      background-color: #434B5C;\n",
              "      box-shadow: 0px 1px 3px 1px rgba(0, 0, 0, 0.15);\n",
              "      filter: drop-shadow(0px 1px 2px rgba(0, 0, 0, 0.3));\n",
              "      fill: #FFFFFF;\n",
              "    }\n",
              "  </style>\n",
              "\n",
              "      <script>\n",
              "        const buttonEl =\n",
              "          document.querySelector('#df-6c0bc555-aa3f-4279-9b31-8bb067fde28d button.colab-df-convert');\n",
              "        buttonEl.style.display =\n",
              "          google.colab.kernel.accessAllowed ? 'block' : 'none';\n",
              "\n",
              "        async function convertToInteractive(key) {\n",
              "          const element = document.querySelector('#df-6c0bc555-aa3f-4279-9b31-8bb067fde28d');\n",
              "          const dataTable =\n",
              "            await google.colab.kernel.invokeFunction('convertToInteractive',\n",
              "                                                     [key], {});\n",
              "          if (!dataTable) return;\n",
              "\n",
              "          const docLinkHtml = 'Like what you see? Visit the ' +\n",
              "            '<a target=\"_blank\" href=https://colab.research.google.com/notebooks/data_table.ipynb>data table notebook</a>'\n",
              "            + ' to learn more about interactive tables.';\n",
              "          element.innerHTML = '';\n",
              "          dataTable['output_type'] = 'display_data';\n",
              "          await google.colab.output.renderOutput(dataTable, element);\n",
              "          const docLink = document.createElement('div');\n",
              "          docLink.innerHTML = docLinkHtml;\n",
              "          element.appendChild(docLink);\n",
              "        }\n",
              "      </script>\n",
              "    </div>\n",
              "  </div>\n",
              "  "
            ]
          },
          "metadata": {},
          "execution_count": 102
        }
      ]
    },
    {
      "cell_type": "code",
      "source": [
        "df.head()"
      ],
      "metadata": {
        "colab": {
          "base_uri": "https://localhost:8080/",
          "height": 267
        },
        "id": "ZT7aCJaUAu1K",
        "outputId": "64050a6a-6f39-471f-f158-a20768078680"
      },
      "execution_count": 103,
      "outputs": [
        {
          "output_type": "execute_result",
          "data": {
            "text/plain": [
              "   Item Code (CPC)  Year  Area harvested  Production  Yield  Precipitation  \\\n",
              "0            111.0  1961      12927000.0  10997000.0 8507.0        1286.98   \n",
              "1            111.0  1962      13570000.0  12072000.0 8896.0        1169.53   \n",
              "2            111.0  1963      13590000.0  10776000.0 7929.0        1149.64   \n",
              "3            111.0  1964      13499000.0   9853000.0 7299.0        1189.87   \n",
              "4            111.0  1965      13422000.0  12257000.0 9132.0         953.51   \n",
              "\n",
              "   Mean Temperature  Minimum Temperature  Maximum Temperature  \n",
              "0             24.05                18.14                30.01  \n",
              "1              24.1                18.03                30.22  \n",
              "2             24.25                18.16                30.38  \n",
              "3             24.25                18.14                 30.4  \n",
              "4             24.34                18.23                 30.5  "
            ],
            "text/html": [
              "\n",
              "  <div id=\"df-d1329e4e-a8f1-466c-96b3-96451a4115a1\">\n",
              "    <div class=\"colab-df-container\">\n",
              "      <div>\n",
              "<style scoped>\n",
              "    .dataframe tbody tr th:only-of-type {\n",
              "        vertical-align: middle;\n",
              "    }\n",
              "\n",
              "    .dataframe tbody tr th {\n",
              "        vertical-align: top;\n",
              "    }\n",
              "\n",
              "    .dataframe thead th {\n",
              "        text-align: right;\n",
              "    }\n",
              "</style>\n",
              "<table border=\"1\" class=\"dataframe\">\n",
              "  <thead>\n",
              "    <tr style=\"text-align: right;\">\n",
              "      <th></th>\n",
              "      <th>Item Code (CPC)</th>\n",
              "      <th>Year</th>\n",
              "      <th>Area harvested</th>\n",
              "      <th>Production</th>\n",
              "      <th>Yield</th>\n",
              "      <th>Precipitation</th>\n",
              "      <th>Mean Temperature</th>\n",
              "      <th>Minimum Temperature</th>\n",
              "      <th>Maximum Temperature</th>\n",
              "    </tr>\n",
              "  </thead>\n",
              "  <tbody>\n",
              "    <tr>\n",
              "      <th>0</th>\n",
              "      <td>111.0</td>\n",
              "      <td>1961</td>\n",
              "      <td>12927000.0</td>\n",
              "      <td>10997000.0</td>\n",
              "      <td>8507.0</td>\n",
              "      <td>1286.98</td>\n",
              "      <td>24.05</td>\n",
              "      <td>18.14</td>\n",
              "      <td>30.01</td>\n",
              "    </tr>\n",
              "    <tr>\n",
              "      <th>1</th>\n",
              "      <td>111.0</td>\n",
              "      <td>1962</td>\n",
              "      <td>13570000.0</td>\n",
              "      <td>12072000.0</td>\n",
              "      <td>8896.0</td>\n",
              "      <td>1169.53</td>\n",
              "      <td>24.1</td>\n",
              "      <td>18.03</td>\n",
              "      <td>30.22</td>\n",
              "    </tr>\n",
              "    <tr>\n",
              "      <th>2</th>\n",
              "      <td>111.0</td>\n",
              "      <td>1963</td>\n",
              "      <td>13590000.0</td>\n",
              "      <td>10776000.0</td>\n",
              "      <td>7929.0</td>\n",
              "      <td>1149.64</td>\n",
              "      <td>24.25</td>\n",
              "      <td>18.16</td>\n",
              "      <td>30.38</td>\n",
              "    </tr>\n",
              "    <tr>\n",
              "      <th>3</th>\n",
              "      <td>111.0</td>\n",
              "      <td>1964</td>\n",
              "      <td>13499000.0</td>\n",
              "      <td>9853000.0</td>\n",
              "      <td>7299.0</td>\n",
              "      <td>1189.87</td>\n",
              "      <td>24.25</td>\n",
              "      <td>18.14</td>\n",
              "      <td>30.4</td>\n",
              "    </tr>\n",
              "    <tr>\n",
              "      <th>4</th>\n",
              "      <td>111.0</td>\n",
              "      <td>1965</td>\n",
              "      <td>13422000.0</td>\n",
              "      <td>12257000.0</td>\n",
              "      <td>9132.0</td>\n",
              "      <td>953.51</td>\n",
              "      <td>24.34</td>\n",
              "      <td>18.23</td>\n",
              "      <td>30.5</td>\n",
              "    </tr>\n",
              "  </tbody>\n",
              "</table>\n",
              "</div>\n",
              "      <button class=\"colab-df-convert\" onclick=\"convertToInteractive('df-d1329e4e-a8f1-466c-96b3-96451a4115a1')\"\n",
              "              title=\"Convert this dataframe to an interactive table.\"\n",
              "              style=\"display:none;\">\n",
              "        \n",
              "  <svg xmlns=\"http://www.w3.org/2000/svg\" height=\"24px\"viewBox=\"0 0 24 24\"\n",
              "       width=\"24px\">\n",
              "    <path d=\"M0 0h24v24H0V0z\" fill=\"none\"/>\n",
              "    <path d=\"M18.56 5.44l.94 2.06.94-2.06 2.06-.94-2.06-.94-.94-2.06-.94 2.06-2.06.94zm-11 1L8.5 8.5l.94-2.06 2.06-.94-2.06-.94L8.5 2.5l-.94 2.06-2.06.94zm10 10l.94 2.06.94-2.06 2.06-.94-2.06-.94-.94-2.06-.94 2.06-2.06.94z\"/><path d=\"M17.41 7.96l-1.37-1.37c-.4-.4-.92-.59-1.43-.59-.52 0-1.04.2-1.43.59L10.3 9.45l-7.72 7.72c-.78.78-.78 2.05 0 2.83L4 21.41c.39.39.9.59 1.41.59.51 0 1.02-.2 1.41-.59l7.78-7.78 2.81-2.81c.8-.78.8-2.07 0-2.86zM5.41 20L4 18.59l7.72-7.72 1.47 1.35L5.41 20z\"/>\n",
              "  </svg>\n",
              "      </button>\n",
              "      \n",
              "  <style>\n",
              "    .colab-df-container {\n",
              "      display:flex;\n",
              "      flex-wrap:wrap;\n",
              "      gap: 12px;\n",
              "    }\n",
              "\n",
              "    .colab-df-convert {\n",
              "      background-color: #E8F0FE;\n",
              "      border: none;\n",
              "      border-radius: 50%;\n",
              "      cursor: pointer;\n",
              "      display: none;\n",
              "      fill: #1967D2;\n",
              "      height: 32px;\n",
              "      padding: 0 0 0 0;\n",
              "      width: 32px;\n",
              "    }\n",
              "\n",
              "    .colab-df-convert:hover {\n",
              "      background-color: #E2EBFA;\n",
              "      box-shadow: 0px 1px 2px rgba(60, 64, 67, 0.3), 0px 1px 3px 1px rgba(60, 64, 67, 0.15);\n",
              "      fill: #174EA6;\n",
              "    }\n",
              "\n",
              "    [theme=dark] .colab-df-convert {\n",
              "      background-color: #3B4455;\n",
              "      fill: #D2E3FC;\n",
              "    }\n",
              "\n",
              "    [theme=dark] .colab-df-convert:hover {\n",
              "      background-color: #434B5C;\n",
              "      box-shadow: 0px 1px 3px 1px rgba(0, 0, 0, 0.15);\n",
              "      filter: drop-shadow(0px 1px 2px rgba(0, 0, 0, 0.3));\n",
              "      fill: #FFFFFF;\n",
              "    }\n",
              "  </style>\n",
              "\n",
              "      <script>\n",
              "        const buttonEl =\n",
              "          document.querySelector('#df-d1329e4e-a8f1-466c-96b3-96451a4115a1 button.colab-df-convert');\n",
              "        buttonEl.style.display =\n",
              "          google.colab.kernel.accessAllowed ? 'block' : 'none';\n",
              "\n",
              "        async function convertToInteractive(key) {\n",
              "          const element = document.querySelector('#df-d1329e4e-a8f1-466c-96b3-96451a4115a1');\n",
              "          const dataTable =\n",
              "            await google.colab.kernel.invokeFunction('convertToInteractive',\n",
              "                                                     [key], {});\n",
              "          if (!dataTable) return;\n",
              "\n",
              "          const docLinkHtml = 'Like what you see? Visit the ' +\n",
              "            '<a target=\"_blank\" href=https://colab.research.google.com/notebooks/data_table.ipynb>data table notebook</a>'\n",
              "            + ' to learn more about interactive tables.';\n",
              "          element.innerHTML = '';\n",
              "          dataTable['output_type'] = 'display_data';\n",
              "          await google.colab.output.renderOutput(dataTable, element);\n",
              "          const docLink = document.createElement('div');\n",
              "          docLink.innerHTML = docLinkHtml;\n",
              "          element.appendChild(docLink);\n",
              "        }\n",
              "      </script>\n",
              "    </div>\n",
              "  </div>\n",
              "  "
            ]
          },
          "metadata": {},
          "execution_count": 103
        }
      ]
    },
    {
      "cell_type": "markdown",
      "source": [
        "# Label Encoding the Item Code(Differs for different crops)"
      ],
      "metadata": {
        "id": "V3uEXy_R_aXD"
      }
    },
    {
      "cell_type": "code",
      "source": [
        "from sklearn import preprocessing\n",
        "  \n",
        "# label_encoder object knows how to understand word labels.\n",
        "label_encoder = preprocessing.LabelEncoder()\n",
        "  \n",
        "# Encode labels in column 'Item Code (CPC)'.\n",
        "df['Item Code (Encoded)']= label_encoder.fit_transform(df['Item Code (CPC)'])\n",
        "  \n",
        "df['Item Code (Encoded)'].unique()"
      ],
      "metadata": {
        "colab": {
          "base_uri": "https://localhost:8080/"
        },
        "id": "GqGd8fmy_Z_J",
        "outputId": "e284fa57-e866-4452-f3f3-1be65cfeabed"
      },
      "execution_count": 104,
      "outputs": [
        {
          "output_type": "execute_result",
          "data": {
            "text/plain": [
              "array([ 0,  1,  2,  3,  4,  5,  8,  9, 10, 11, 12, 13, 14, 15, 16, 17, 18,\n",
              "       19, 20, 21, 22, 23, 24, 25, 26, 27, 28, 29, 30, 31, 32, 33, 34, 35,\n",
              "       36, 37, 38, 39, 40, 41, 42, 43, 44, 45, 46, 47,  6,  7, 48, 49, 50,\n",
              "       51, 52, 53, 54, 55, 56, 57, 58, 59, 60, 61, 62, 63, 64, 65, 66, 67,\n",
              "       68, 69, 70, 71, 72, 73, 74, 75, 76, 77, 78, 79])"
            ]
          },
          "metadata": {},
          "execution_count": 104
        }
      ]
    },
    {
      "cell_type": "code",
      "source": [
        "df.head()"
      ],
      "metadata": {
        "colab": {
          "base_uri": "https://localhost:8080/",
          "height": 285
        },
        "id": "py862Cub_yFW",
        "outputId": "d6cda9da-cc92-4dce-f68a-b3186d02a06d"
      },
      "execution_count": 105,
      "outputs": [
        {
          "output_type": "execute_result",
          "data": {
            "text/plain": [
              "   Item Code (CPC)  Year  Area harvested  Production  Yield  Precipitation  \\\n",
              "0            111.0  1961      12927000.0  10997000.0 8507.0        1286.98   \n",
              "1            111.0  1962      13570000.0  12072000.0 8896.0        1169.53   \n",
              "2            111.0  1963      13590000.0  10776000.0 7929.0        1149.64   \n",
              "3            111.0  1964      13499000.0   9853000.0 7299.0        1189.87   \n",
              "4            111.0  1965      13422000.0  12257000.0 9132.0         953.51   \n",
              "\n",
              "   Mean Temperature  Minimum Temperature  Maximum Temperature  \\\n",
              "0             24.05                18.14                30.01   \n",
              "1              24.1                18.03                30.22   \n",
              "2             24.25                18.16                30.38   \n",
              "3             24.25                18.14                 30.4   \n",
              "4             24.34                18.23                 30.5   \n",
              "\n",
              "   Item Code (Encoded)  \n",
              "0                    0  \n",
              "1                    0  \n",
              "2                    0  \n",
              "3                    0  \n",
              "4                    0  "
            ],
            "text/html": [
              "\n",
              "  <div id=\"df-09a6a00f-3033-44db-97cf-629d41aedb66\">\n",
              "    <div class=\"colab-df-container\">\n",
              "      <div>\n",
              "<style scoped>\n",
              "    .dataframe tbody tr th:only-of-type {\n",
              "        vertical-align: middle;\n",
              "    }\n",
              "\n",
              "    .dataframe tbody tr th {\n",
              "        vertical-align: top;\n",
              "    }\n",
              "\n",
              "    .dataframe thead th {\n",
              "        text-align: right;\n",
              "    }\n",
              "</style>\n",
              "<table border=\"1\" class=\"dataframe\">\n",
              "  <thead>\n",
              "    <tr style=\"text-align: right;\">\n",
              "      <th></th>\n",
              "      <th>Item Code (CPC)</th>\n",
              "      <th>Year</th>\n",
              "      <th>Area harvested</th>\n",
              "      <th>Production</th>\n",
              "      <th>Yield</th>\n",
              "      <th>Precipitation</th>\n",
              "      <th>Mean Temperature</th>\n",
              "      <th>Minimum Temperature</th>\n",
              "      <th>Maximum Temperature</th>\n",
              "      <th>Item Code (Encoded)</th>\n",
              "    </tr>\n",
              "  </thead>\n",
              "  <tbody>\n",
              "    <tr>\n",
              "      <th>0</th>\n",
              "      <td>111.0</td>\n",
              "      <td>1961</td>\n",
              "      <td>12927000.0</td>\n",
              "      <td>10997000.0</td>\n",
              "      <td>8507.0</td>\n",
              "      <td>1286.98</td>\n",
              "      <td>24.05</td>\n",
              "      <td>18.14</td>\n",
              "      <td>30.01</td>\n",
              "      <td>0</td>\n",
              "    </tr>\n",
              "    <tr>\n",
              "      <th>1</th>\n",
              "      <td>111.0</td>\n",
              "      <td>1962</td>\n",
              "      <td>13570000.0</td>\n",
              "      <td>12072000.0</td>\n",
              "      <td>8896.0</td>\n",
              "      <td>1169.53</td>\n",
              "      <td>24.1</td>\n",
              "      <td>18.03</td>\n",
              "      <td>30.22</td>\n",
              "      <td>0</td>\n",
              "    </tr>\n",
              "    <tr>\n",
              "      <th>2</th>\n",
              "      <td>111.0</td>\n",
              "      <td>1963</td>\n",
              "      <td>13590000.0</td>\n",
              "      <td>10776000.0</td>\n",
              "      <td>7929.0</td>\n",
              "      <td>1149.64</td>\n",
              "      <td>24.25</td>\n",
              "      <td>18.16</td>\n",
              "      <td>30.38</td>\n",
              "      <td>0</td>\n",
              "    </tr>\n",
              "    <tr>\n",
              "      <th>3</th>\n",
              "      <td>111.0</td>\n",
              "      <td>1964</td>\n",
              "      <td>13499000.0</td>\n",
              "      <td>9853000.0</td>\n",
              "      <td>7299.0</td>\n",
              "      <td>1189.87</td>\n",
              "      <td>24.25</td>\n",
              "      <td>18.14</td>\n",
              "      <td>30.4</td>\n",
              "      <td>0</td>\n",
              "    </tr>\n",
              "    <tr>\n",
              "      <th>4</th>\n",
              "      <td>111.0</td>\n",
              "      <td>1965</td>\n",
              "      <td>13422000.0</td>\n",
              "      <td>12257000.0</td>\n",
              "      <td>9132.0</td>\n",
              "      <td>953.51</td>\n",
              "      <td>24.34</td>\n",
              "      <td>18.23</td>\n",
              "      <td>30.5</td>\n",
              "      <td>0</td>\n",
              "    </tr>\n",
              "  </tbody>\n",
              "</table>\n",
              "</div>\n",
              "      <button class=\"colab-df-convert\" onclick=\"convertToInteractive('df-09a6a00f-3033-44db-97cf-629d41aedb66')\"\n",
              "              title=\"Convert this dataframe to an interactive table.\"\n",
              "              style=\"display:none;\">\n",
              "        \n",
              "  <svg xmlns=\"http://www.w3.org/2000/svg\" height=\"24px\"viewBox=\"0 0 24 24\"\n",
              "       width=\"24px\">\n",
              "    <path d=\"M0 0h24v24H0V0z\" fill=\"none\"/>\n",
              "    <path d=\"M18.56 5.44l.94 2.06.94-2.06 2.06-.94-2.06-.94-.94-2.06-.94 2.06-2.06.94zm-11 1L8.5 8.5l.94-2.06 2.06-.94-2.06-.94L8.5 2.5l-.94 2.06-2.06.94zm10 10l.94 2.06.94-2.06 2.06-.94-2.06-.94-.94-2.06-.94 2.06-2.06.94z\"/><path d=\"M17.41 7.96l-1.37-1.37c-.4-.4-.92-.59-1.43-.59-.52 0-1.04.2-1.43.59L10.3 9.45l-7.72 7.72c-.78.78-.78 2.05 0 2.83L4 21.41c.39.39.9.59 1.41.59.51 0 1.02-.2 1.41-.59l7.78-7.78 2.81-2.81c.8-.78.8-2.07 0-2.86zM5.41 20L4 18.59l7.72-7.72 1.47 1.35L5.41 20z\"/>\n",
              "  </svg>\n",
              "      </button>\n",
              "      \n",
              "  <style>\n",
              "    .colab-df-container {\n",
              "      display:flex;\n",
              "      flex-wrap:wrap;\n",
              "      gap: 12px;\n",
              "    }\n",
              "\n",
              "    .colab-df-convert {\n",
              "      background-color: #E8F0FE;\n",
              "      border: none;\n",
              "      border-radius: 50%;\n",
              "      cursor: pointer;\n",
              "      display: none;\n",
              "      fill: #1967D2;\n",
              "      height: 32px;\n",
              "      padding: 0 0 0 0;\n",
              "      width: 32px;\n",
              "    }\n",
              "\n",
              "    .colab-df-convert:hover {\n",
              "      background-color: #E2EBFA;\n",
              "      box-shadow: 0px 1px 2px rgba(60, 64, 67, 0.3), 0px 1px 3px 1px rgba(60, 64, 67, 0.15);\n",
              "      fill: #174EA6;\n",
              "    }\n",
              "\n",
              "    [theme=dark] .colab-df-convert {\n",
              "      background-color: #3B4455;\n",
              "      fill: #D2E3FC;\n",
              "    }\n",
              "\n",
              "    [theme=dark] .colab-df-convert:hover {\n",
              "      background-color: #434B5C;\n",
              "      box-shadow: 0px 1px 3px 1px rgba(0, 0, 0, 0.15);\n",
              "      filter: drop-shadow(0px 1px 2px rgba(0, 0, 0, 0.3));\n",
              "      fill: #FFFFFF;\n",
              "    }\n",
              "  </style>\n",
              "\n",
              "      <script>\n",
              "        const buttonEl =\n",
              "          document.querySelector('#df-09a6a00f-3033-44db-97cf-629d41aedb66 button.colab-df-convert');\n",
              "        buttonEl.style.display =\n",
              "          google.colab.kernel.accessAllowed ? 'block' : 'none';\n",
              "\n",
              "        async function convertToInteractive(key) {\n",
              "          const element = document.querySelector('#df-09a6a00f-3033-44db-97cf-629d41aedb66');\n",
              "          const dataTable =\n",
              "            await google.colab.kernel.invokeFunction('convertToInteractive',\n",
              "                                                     [key], {});\n",
              "          if (!dataTable) return;\n",
              "\n",
              "          const docLinkHtml = 'Like what you see? Visit the ' +\n",
              "            '<a target=\"_blank\" href=https://colab.research.google.com/notebooks/data_table.ipynb>data table notebook</a>'\n",
              "            + ' to learn more about interactive tables.';\n",
              "          element.innerHTML = '';\n",
              "          dataTable['output_type'] = 'display_data';\n",
              "          await google.colab.output.renderOutput(dataTable, element);\n",
              "          const docLink = document.createElement('div');\n",
              "          docLink.innerHTML = docLinkHtml;\n",
              "          element.appendChild(docLink);\n",
              "        }\n",
              "      </script>\n",
              "    </div>\n",
              "  </div>\n",
              "  "
            ]
          },
          "metadata": {},
          "execution_count": 105
        }
      ]
    },
    {
      "cell_type": "markdown",
      "source": [
        "# Data Analysis"
      ],
      "metadata": {
        "id": "qkN_Ap1RJy1e"
      }
    },
    {
      "cell_type": "code",
      "source": [
        "df.info()"
      ],
      "metadata": {
        "colab": {
          "base_uri": "https://localhost:8080/"
        },
        "id": "Z90ZdfAyJ1-z",
        "outputId": "6dc702ca-a76e-4da2-950a-2a5eca64764a"
      },
      "execution_count": 106,
      "outputs": [
        {
          "output_type": "stream",
          "name": "stdout",
          "text": [
            "<class 'pandas.core.frame.DataFrame'>\n",
            "Int64Index: 4718 entries, 0 to 4717\n",
            "Data columns (total 10 columns):\n",
            " #   Column               Non-Null Count  Dtype  \n",
            "---  ------               --------------  -----  \n",
            " 0   Item Code (CPC)      4718 non-null   float64\n",
            " 1   Year                 4718 non-null   int64  \n",
            " 2   Area harvested       4718 non-null   float64\n",
            " 3   Production           4718 non-null   float64\n",
            " 4   Yield                4718 non-null   float64\n",
            " 5   Precipitation        4718 non-null   float64\n",
            " 6   Mean Temperature     4718 non-null   float64\n",
            " 7   Minimum Temperature  4718 non-null   float64\n",
            " 8   Maximum Temperature  4718 non-null   float64\n",
            " 9   Item Code (Encoded)  4718 non-null   int64  \n",
            "dtypes: float64(8), int64(2)\n",
            "memory usage: 405.5 KB\n"
          ]
        }
      ]
    },
    {
      "cell_type": "markdown",
      "source": [
        "Null Values in Columns"
      ],
      "metadata": {
        "id": "xS0A4sLiKcBv"
      }
    },
    {
      "cell_type": "code",
      "source": [
        "print(df.isnull().sum())"
      ],
      "metadata": {
        "colab": {
          "base_uri": "https://localhost:8080/"
        },
        "id": "osQcOYfaJ86j",
        "outputId": "c3763c14-467b-4bda-ab33-7c5299e7f71b"
      },
      "execution_count": 107,
      "outputs": [
        {
          "output_type": "stream",
          "name": "stdout",
          "text": [
            "Item Code (CPC)        0\n",
            "Year                   0\n",
            "Area harvested         0\n",
            "Production             0\n",
            "Yield                  0\n",
            "Precipitation          0\n",
            "Mean Temperature       0\n",
            "Minimum Temperature    0\n",
            "Maximum Temperature    0\n",
            "Item Code (Encoded)    0\n",
            "dtype: int64\n"
          ]
        }
      ]
    },
    {
      "cell_type": "code",
      "source": [
        "df.describe()"
      ],
      "metadata": {
        "colab": {
          "base_uri": "https://localhost:8080/",
          "height": 382
        },
        "id": "sGW3CtlcKMfL",
        "outputId": "c8134c8d-478d-47af-b821-c9a5192ede5c"
      },
      "execution_count": 108,
      "outputs": [
        {
          "output_type": "execute_result",
          "data": {
            "text/plain": [
              "         Item Code (CPC)               Year    Area harvested  \\\n",
              "count             4718.0             4718.0            4718.0   \n",
              "mean  1316.3563798219586  1990.765154726579 2231011.480712166   \n",
              "std   449.23210351379134 17.229497507539712  5894296.12563013   \n",
              "min                111.0             1961.0             200.0   \n",
              "25%               1241.9             1976.0          60641.25   \n",
              "50%              1344.02             1991.0          308000.0   \n",
              "75%               1620.0             2006.0         1103350.0   \n",
              "max               1970.0             2020.0        45537400.0   \n",
              "\n",
              "              Production             Yield     Precipitation  \\\n",
              "count             4718.0            4718.0            4718.0   \n",
              "mean   7608293.338914795 65867.33976261127 1112.558969902501   \n",
              "std   30615487.820160855 92492.85094674396 97.88110556196311   \n",
              "min                300.0             382.0            874.32   \n",
              "25%            165080.75           7793.25           1034.04   \n",
              "50%             794850.0           28231.0           1114.26   \n",
              "75%            3755400.0          94921.25           1187.06   \n",
              "max          405416180.0          801984.0           1320.91   \n",
              "\n",
              "        Mean Temperature  Minimum Temperature  Maximum Temperature  \\\n",
              "count             4718.0               4718.0               4718.0   \n",
              "mean  24.602513777024164    18.62940652818991   30.623291649003814   \n",
              "std   0.3556392026242085   0.3854497848345317   0.3428157175743565   \n",
              "min                23.82                 17.8                 29.9   \n",
              "25%                24.32                 18.3                30.38   \n",
              "50%                24.62                18.66                30.64   \n",
              "75%                24.83                18.89                30.88   \n",
              "max                25.48                19.49                31.52   \n",
              "\n",
              "       Item Code (Encoded)  \n",
              "count               4718.0  \n",
              "mean     39.37049597286986  \n",
              "std       23.2474607066372  \n",
              "min                    0.0  \n",
              "25%                   19.0  \n",
              "50%                   39.0  \n",
              "75%                   60.0  \n",
              "max                   79.0  "
            ],
            "text/html": [
              "\n",
              "  <div id=\"df-c6b5ea62-e602-4458-b7f1-e20235cf7db3\">\n",
              "    <div class=\"colab-df-container\">\n",
              "      <div>\n",
              "<style scoped>\n",
              "    .dataframe tbody tr th:only-of-type {\n",
              "        vertical-align: middle;\n",
              "    }\n",
              "\n",
              "    .dataframe tbody tr th {\n",
              "        vertical-align: top;\n",
              "    }\n",
              "\n",
              "    .dataframe thead th {\n",
              "        text-align: right;\n",
              "    }\n",
              "</style>\n",
              "<table border=\"1\" class=\"dataframe\">\n",
              "  <thead>\n",
              "    <tr style=\"text-align: right;\">\n",
              "      <th></th>\n",
              "      <th>Item Code (CPC)</th>\n",
              "      <th>Year</th>\n",
              "      <th>Area harvested</th>\n",
              "      <th>Production</th>\n",
              "      <th>Yield</th>\n",
              "      <th>Precipitation</th>\n",
              "      <th>Mean Temperature</th>\n",
              "      <th>Minimum Temperature</th>\n",
              "      <th>Maximum Temperature</th>\n",
              "      <th>Item Code (Encoded)</th>\n",
              "    </tr>\n",
              "  </thead>\n",
              "  <tbody>\n",
              "    <tr>\n",
              "      <th>count</th>\n",
              "      <td>4718.0</td>\n",
              "      <td>4718.0</td>\n",
              "      <td>4718.0</td>\n",
              "      <td>4718.0</td>\n",
              "      <td>4718.0</td>\n",
              "      <td>4718.0</td>\n",
              "      <td>4718.0</td>\n",
              "      <td>4718.0</td>\n",
              "      <td>4718.0</td>\n",
              "      <td>4718.0</td>\n",
              "    </tr>\n",
              "    <tr>\n",
              "      <th>mean</th>\n",
              "      <td>1316.3563798219586</td>\n",
              "      <td>1990.765154726579</td>\n",
              "      <td>2231011.480712166</td>\n",
              "      <td>7608293.338914795</td>\n",
              "      <td>65867.33976261127</td>\n",
              "      <td>1112.558969902501</td>\n",
              "      <td>24.602513777024164</td>\n",
              "      <td>18.62940652818991</td>\n",
              "      <td>30.623291649003814</td>\n",
              "      <td>39.37049597286986</td>\n",
              "    </tr>\n",
              "    <tr>\n",
              "      <th>std</th>\n",
              "      <td>449.23210351379134</td>\n",
              "      <td>17.229497507539712</td>\n",
              "      <td>5894296.12563013</td>\n",
              "      <td>30615487.820160855</td>\n",
              "      <td>92492.85094674396</td>\n",
              "      <td>97.88110556196311</td>\n",
              "      <td>0.3556392026242085</td>\n",
              "      <td>0.3854497848345317</td>\n",
              "      <td>0.3428157175743565</td>\n",
              "      <td>23.2474607066372</td>\n",
              "    </tr>\n",
              "    <tr>\n",
              "      <th>min</th>\n",
              "      <td>111.0</td>\n",
              "      <td>1961.0</td>\n",
              "      <td>200.0</td>\n",
              "      <td>300.0</td>\n",
              "      <td>382.0</td>\n",
              "      <td>874.32</td>\n",
              "      <td>23.82</td>\n",
              "      <td>17.8</td>\n",
              "      <td>29.9</td>\n",
              "      <td>0.0</td>\n",
              "    </tr>\n",
              "    <tr>\n",
              "      <th>25%</th>\n",
              "      <td>1241.9</td>\n",
              "      <td>1976.0</td>\n",
              "      <td>60641.25</td>\n",
              "      <td>165080.75</td>\n",
              "      <td>7793.25</td>\n",
              "      <td>1034.04</td>\n",
              "      <td>24.32</td>\n",
              "      <td>18.3</td>\n",
              "      <td>30.38</td>\n",
              "      <td>19.0</td>\n",
              "    </tr>\n",
              "    <tr>\n",
              "      <th>50%</th>\n",
              "      <td>1344.02</td>\n",
              "      <td>1991.0</td>\n",
              "      <td>308000.0</td>\n",
              "      <td>794850.0</td>\n",
              "      <td>28231.0</td>\n",
              "      <td>1114.26</td>\n",
              "      <td>24.62</td>\n",
              "      <td>18.66</td>\n",
              "      <td>30.64</td>\n",
              "      <td>39.0</td>\n",
              "    </tr>\n",
              "    <tr>\n",
              "      <th>75%</th>\n",
              "      <td>1620.0</td>\n",
              "      <td>2006.0</td>\n",
              "      <td>1103350.0</td>\n",
              "      <td>3755400.0</td>\n",
              "      <td>94921.25</td>\n",
              "      <td>1187.06</td>\n",
              "      <td>24.83</td>\n",
              "      <td>18.89</td>\n",
              "      <td>30.88</td>\n",
              "      <td>60.0</td>\n",
              "    </tr>\n",
              "    <tr>\n",
              "      <th>max</th>\n",
              "      <td>1970.0</td>\n",
              "      <td>2020.0</td>\n",
              "      <td>45537400.0</td>\n",
              "      <td>405416180.0</td>\n",
              "      <td>801984.0</td>\n",
              "      <td>1320.91</td>\n",
              "      <td>25.48</td>\n",
              "      <td>19.49</td>\n",
              "      <td>31.52</td>\n",
              "      <td>79.0</td>\n",
              "    </tr>\n",
              "  </tbody>\n",
              "</table>\n",
              "</div>\n",
              "      <button class=\"colab-df-convert\" onclick=\"convertToInteractive('df-c6b5ea62-e602-4458-b7f1-e20235cf7db3')\"\n",
              "              title=\"Convert this dataframe to an interactive table.\"\n",
              "              style=\"display:none;\">\n",
              "        \n",
              "  <svg xmlns=\"http://www.w3.org/2000/svg\" height=\"24px\"viewBox=\"0 0 24 24\"\n",
              "       width=\"24px\">\n",
              "    <path d=\"M0 0h24v24H0V0z\" fill=\"none\"/>\n",
              "    <path d=\"M18.56 5.44l.94 2.06.94-2.06 2.06-.94-2.06-.94-.94-2.06-.94 2.06-2.06.94zm-11 1L8.5 8.5l.94-2.06 2.06-.94-2.06-.94L8.5 2.5l-.94 2.06-2.06.94zm10 10l.94 2.06.94-2.06 2.06-.94-2.06-.94-.94-2.06-.94 2.06-2.06.94z\"/><path d=\"M17.41 7.96l-1.37-1.37c-.4-.4-.92-.59-1.43-.59-.52 0-1.04.2-1.43.59L10.3 9.45l-7.72 7.72c-.78.78-.78 2.05 0 2.83L4 21.41c.39.39.9.59 1.41.59.51 0 1.02-.2 1.41-.59l7.78-7.78 2.81-2.81c.8-.78.8-2.07 0-2.86zM5.41 20L4 18.59l7.72-7.72 1.47 1.35L5.41 20z\"/>\n",
              "  </svg>\n",
              "      </button>\n",
              "      \n",
              "  <style>\n",
              "    .colab-df-container {\n",
              "      display:flex;\n",
              "      flex-wrap:wrap;\n",
              "      gap: 12px;\n",
              "    }\n",
              "\n",
              "    .colab-df-convert {\n",
              "      background-color: #E8F0FE;\n",
              "      border: none;\n",
              "      border-radius: 50%;\n",
              "      cursor: pointer;\n",
              "      display: none;\n",
              "      fill: #1967D2;\n",
              "      height: 32px;\n",
              "      padding: 0 0 0 0;\n",
              "      width: 32px;\n",
              "    }\n",
              "\n",
              "    .colab-df-convert:hover {\n",
              "      background-color: #E2EBFA;\n",
              "      box-shadow: 0px 1px 2px rgba(60, 64, 67, 0.3), 0px 1px 3px 1px rgba(60, 64, 67, 0.15);\n",
              "      fill: #174EA6;\n",
              "    }\n",
              "\n",
              "    [theme=dark] .colab-df-convert {\n",
              "      background-color: #3B4455;\n",
              "      fill: #D2E3FC;\n",
              "    }\n",
              "\n",
              "    [theme=dark] .colab-df-convert:hover {\n",
              "      background-color: #434B5C;\n",
              "      box-shadow: 0px 1px 3px 1px rgba(0, 0, 0, 0.15);\n",
              "      filter: drop-shadow(0px 1px 2px rgba(0, 0, 0, 0.3));\n",
              "      fill: #FFFFFF;\n",
              "    }\n",
              "  </style>\n",
              "\n",
              "      <script>\n",
              "        const buttonEl =\n",
              "          document.querySelector('#df-c6b5ea62-e602-4458-b7f1-e20235cf7db3 button.colab-df-convert');\n",
              "        buttonEl.style.display =\n",
              "          google.colab.kernel.accessAllowed ? 'block' : 'none';\n",
              "\n",
              "        async function convertToInteractive(key) {\n",
              "          const element = document.querySelector('#df-c6b5ea62-e602-4458-b7f1-e20235cf7db3');\n",
              "          const dataTable =\n",
              "            await google.colab.kernel.invokeFunction('convertToInteractive',\n",
              "                                                     [key], {});\n",
              "          if (!dataTable) return;\n",
              "\n",
              "          const docLinkHtml = 'Like what you see? Visit the ' +\n",
              "            '<a target=\"_blank\" href=https://colab.research.google.com/notebooks/data_table.ipynb>data table notebook</a>'\n",
              "            + ' to learn more about interactive tables.';\n",
              "          element.innerHTML = '';\n",
              "          dataTable['output_type'] = 'display_data';\n",
              "          await google.colab.output.renderOutput(dataTable, element);\n",
              "          const docLink = document.createElement('div');\n",
              "          docLink.innerHTML = docLinkHtml;\n",
              "          element.appendChild(docLink);\n",
              "        }\n",
              "      </script>\n",
              "    </div>\n",
              "  </div>\n",
              "  "
            ]
          },
          "metadata": {},
          "execution_count": 108
        }
      ]
    },
    {
      "cell_type": "markdown",
      "source": [
        "# Feature and Label"
      ],
      "metadata": {
        "id": "d4d9IRFSVL0x"
      }
    },
    {
      "cell_type": "code",
      "source": [
        "X=df.loc[:,['Item Code (Encoded)','Area harvested','Production','Precipitation','Mean Temperature',\t'Minimum Temperature','Maximum Temperature']]\n",
        "Y=df.loc[:,['Yield']]"
      ],
      "metadata": {
        "id": "ij2SVrJDT_QF"
      },
      "execution_count": 109,
      "outputs": []
    },
    {
      "cell_type": "markdown",
      "source": [
        "# Feature Importance"
      ],
      "metadata": {
        "id": "XushWUHATvgf"
      }
    },
    {
      "cell_type": "code",
      "source": [
        "from sklearn.feature_selection import SelectKBest,chi2\n",
        "bestfeatures = SelectKBest(score_func=chi2, k=7)\n",
        "fit = bestfeatures.fit(X,Y)"
      ],
      "metadata": {
        "id": "d36SHKv_Kgig"
      },
      "execution_count": 110,
      "outputs": []
    },
    {
      "cell_type": "code",
      "source": [
        "dfscores = pd.DataFrame(fit.scores_)\n",
        "dfcolumns = pd.DataFrame(X.columns)"
      ],
      "metadata": {
        "id": "vKxhimmjT1XY"
      },
      "execution_count": 111,
      "outputs": []
    },
    {
      "cell_type": "code",
      "source": [
        "featureScores = pd.concat([dfcolumns,dfscores],axis=1)\n",
        "featureScores.columns = ['Specs','Score']  \n",
        "print(featureScores.nlargest(5,'Score'))"
      ],
      "metadata": {
        "colab": {
          "base_uri": "https://localhost:8080/"
        },
        "id": "BUy1-R2hURwu",
        "outputId": "8959d4fb-13dc-4459-a180-cae59fdd4d06"
      },
      "execution_count": 112,
      "outputs": [
        {
          "output_type": "stream",
          "name": "stdout",
          "text": [
            "                 Specs              Score\n",
            "2           Production  580207624225.1035\n",
            "1       Area harvested   71943403314.0281\n",
            "0  Item Code (Encoded)  62427.58775452292\n",
            "3        Precipitation  35317.03818532293\n",
            "5  Minimum Temperature 34.873492713652126\n"
          ]
        }
      ]
    },
    {
      "cell_type": "markdown",
      "source": [
        "# Normalize/Standardize the Dataset"
      ],
      "metadata": {
        "id": "IzrJcWpwJNEt"
      }
    },
    {
      "cell_type": "code",
      "source": [
        "#norm = MinMaxScaler()\n",
        "norm =StandardScaler()\n",
        "\n",
        "# transform data\n",
        "df.iloc[:,1:] = norm.fit_transform(df.iloc[:,1:])"
      ],
      "metadata": {
        "id": "i5GMaj7qJM3P"
      },
      "execution_count": 113,
      "outputs": []
    },
    {
      "cell_type": "code",
      "source": [
        "df.head()"
      ],
      "metadata": {
        "colab": {
          "base_uri": "https://localhost:8080/",
          "height": 305
        },
        "id": "ET-bf3yPK4eY",
        "outputId": "cbda38fe-c4d4-4114-c0a8-0e39e2cc88dd"
      },
      "execution_count": 114,
      "outputs": [
        {
          "output_type": "execute_result",
          "data": {
            "text/plain": [
              "   Item Code (CPC)                Year     Area harvested          Production  \\\n",
              "0            111.0  -1.727752631214661  1.814826062596067 0.11069775740392183   \n",
              "1            111.0 -1.6697064813765132  1.923926138399717  0.1458144261246978   \n",
              "2            111.0 -1.6116603315383655 1.9273196088757247 0.10347842364830186   \n",
              "3            111.0 -1.5536141817002178 1.9118793182098894 0.07332708855130073   \n",
              "4            111.0   -1.49556803186207 1.8988144568772596 0.15185775981152902   \n",
              "\n",
              "                Yield       Precipitation    Mean Temperature  \\\n",
              "0 -0.6202254447224523  1.7821572066584537 -1.5537441768771438   \n",
              "1 -0.6160192684864758  0.5821048746372999 -1.4131373502704279   \n",
              "2 -0.6264752387183249  0.3788776214750981 -0.9913168704502899   \n",
              "3 -0.6332872979179783  0.7899300294547554 -0.9913168704502899   \n",
              "4 -0.6134674494847009 -1.6250922710690392 -0.7382245825582051   \n",
              "\n",
              "   Minimum Temperature  Maximum Temperature  Item Code (Encoded)  \n",
              "0  -1.2698370101188048    -1.78917308270866  -1.6937191336493012  \n",
              "1  -1.5552481419026156  -1.1765341400797868  -1.6937191336493012  \n",
              "2  -1.2179440770672036  -0.7097616123625439  -1.6937191336493012  \n",
              "3  -1.2698370101188048  -0.6514150463978898  -1.6937191336493012  \n",
              "4   -1.036318811386595  -0.3596822165746091  -1.6937191336493012  "
            ],
            "text/html": [
              "\n",
              "  <div id=\"df-be626e53-197f-42a6-82f5-b84a977df455\">\n",
              "    <div class=\"colab-df-container\">\n",
              "      <div>\n",
              "<style scoped>\n",
              "    .dataframe tbody tr th:only-of-type {\n",
              "        vertical-align: middle;\n",
              "    }\n",
              "\n",
              "    .dataframe tbody tr th {\n",
              "        vertical-align: top;\n",
              "    }\n",
              "\n",
              "    .dataframe thead th {\n",
              "        text-align: right;\n",
              "    }\n",
              "</style>\n",
              "<table border=\"1\" class=\"dataframe\">\n",
              "  <thead>\n",
              "    <tr style=\"text-align: right;\">\n",
              "      <th></th>\n",
              "      <th>Item Code (CPC)</th>\n",
              "      <th>Year</th>\n",
              "      <th>Area harvested</th>\n",
              "      <th>Production</th>\n",
              "      <th>Yield</th>\n",
              "      <th>Precipitation</th>\n",
              "      <th>Mean Temperature</th>\n",
              "      <th>Minimum Temperature</th>\n",
              "      <th>Maximum Temperature</th>\n",
              "      <th>Item Code (Encoded)</th>\n",
              "    </tr>\n",
              "  </thead>\n",
              "  <tbody>\n",
              "    <tr>\n",
              "      <th>0</th>\n",
              "      <td>111.0</td>\n",
              "      <td>-1.727752631214661</td>\n",
              "      <td>1.814826062596067</td>\n",
              "      <td>0.11069775740392183</td>\n",
              "      <td>-0.6202254447224523</td>\n",
              "      <td>1.7821572066584537</td>\n",
              "      <td>-1.5537441768771438</td>\n",
              "      <td>-1.2698370101188048</td>\n",
              "      <td>-1.78917308270866</td>\n",
              "      <td>-1.6937191336493012</td>\n",
              "    </tr>\n",
              "    <tr>\n",
              "      <th>1</th>\n",
              "      <td>111.0</td>\n",
              "      <td>-1.6697064813765132</td>\n",
              "      <td>1.923926138399717</td>\n",
              "      <td>0.1458144261246978</td>\n",
              "      <td>-0.6160192684864758</td>\n",
              "      <td>0.5821048746372999</td>\n",
              "      <td>-1.4131373502704279</td>\n",
              "      <td>-1.5552481419026156</td>\n",
              "      <td>-1.1765341400797868</td>\n",
              "      <td>-1.6937191336493012</td>\n",
              "    </tr>\n",
              "    <tr>\n",
              "      <th>2</th>\n",
              "      <td>111.0</td>\n",
              "      <td>-1.6116603315383655</td>\n",
              "      <td>1.9273196088757247</td>\n",
              "      <td>0.10347842364830186</td>\n",
              "      <td>-0.6264752387183249</td>\n",
              "      <td>0.3788776214750981</td>\n",
              "      <td>-0.9913168704502899</td>\n",
              "      <td>-1.2179440770672036</td>\n",
              "      <td>-0.7097616123625439</td>\n",
              "      <td>-1.6937191336493012</td>\n",
              "    </tr>\n",
              "    <tr>\n",
              "      <th>3</th>\n",
              "      <td>111.0</td>\n",
              "      <td>-1.5536141817002178</td>\n",
              "      <td>1.9118793182098894</td>\n",
              "      <td>0.07332708855130073</td>\n",
              "      <td>-0.6332872979179783</td>\n",
              "      <td>0.7899300294547554</td>\n",
              "      <td>-0.9913168704502899</td>\n",
              "      <td>-1.2698370101188048</td>\n",
              "      <td>-0.6514150463978898</td>\n",
              "      <td>-1.6937191336493012</td>\n",
              "    </tr>\n",
              "    <tr>\n",
              "      <th>4</th>\n",
              "      <td>111.0</td>\n",
              "      <td>-1.49556803186207</td>\n",
              "      <td>1.8988144568772596</td>\n",
              "      <td>0.15185775981152902</td>\n",
              "      <td>-0.6134674494847009</td>\n",
              "      <td>-1.6250922710690392</td>\n",
              "      <td>-0.7382245825582051</td>\n",
              "      <td>-1.036318811386595</td>\n",
              "      <td>-0.3596822165746091</td>\n",
              "      <td>-1.6937191336493012</td>\n",
              "    </tr>\n",
              "  </tbody>\n",
              "</table>\n",
              "</div>\n",
              "      <button class=\"colab-df-convert\" onclick=\"convertToInteractive('df-be626e53-197f-42a6-82f5-b84a977df455')\"\n",
              "              title=\"Convert this dataframe to an interactive table.\"\n",
              "              style=\"display:none;\">\n",
              "        \n",
              "  <svg xmlns=\"http://www.w3.org/2000/svg\" height=\"24px\"viewBox=\"0 0 24 24\"\n",
              "       width=\"24px\">\n",
              "    <path d=\"M0 0h24v24H0V0z\" fill=\"none\"/>\n",
              "    <path d=\"M18.56 5.44l.94 2.06.94-2.06 2.06-.94-2.06-.94-.94-2.06-.94 2.06-2.06.94zm-11 1L8.5 8.5l.94-2.06 2.06-.94-2.06-.94L8.5 2.5l-.94 2.06-2.06.94zm10 10l.94 2.06.94-2.06 2.06-.94-2.06-.94-.94-2.06-.94 2.06-2.06.94z\"/><path d=\"M17.41 7.96l-1.37-1.37c-.4-.4-.92-.59-1.43-.59-.52 0-1.04.2-1.43.59L10.3 9.45l-7.72 7.72c-.78.78-.78 2.05 0 2.83L4 21.41c.39.39.9.59 1.41.59.51 0 1.02-.2 1.41-.59l7.78-7.78 2.81-2.81c.8-.78.8-2.07 0-2.86zM5.41 20L4 18.59l7.72-7.72 1.47 1.35L5.41 20z\"/>\n",
              "  </svg>\n",
              "      </button>\n",
              "      \n",
              "  <style>\n",
              "    .colab-df-container {\n",
              "      display:flex;\n",
              "      flex-wrap:wrap;\n",
              "      gap: 12px;\n",
              "    }\n",
              "\n",
              "    .colab-df-convert {\n",
              "      background-color: #E8F0FE;\n",
              "      border: none;\n",
              "      border-radius: 50%;\n",
              "      cursor: pointer;\n",
              "      display: none;\n",
              "      fill: #1967D2;\n",
              "      height: 32px;\n",
              "      padding: 0 0 0 0;\n",
              "      width: 32px;\n",
              "    }\n",
              "\n",
              "    .colab-df-convert:hover {\n",
              "      background-color: #E2EBFA;\n",
              "      box-shadow: 0px 1px 2px rgba(60, 64, 67, 0.3), 0px 1px 3px 1px rgba(60, 64, 67, 0.15);\n",
              "      fill: #174EA6;\n",
              "    }\n",
              "\n",
              "    [theme=dark] .colab-df-convert {\n",
              "      background-color: #3B4455;\n",
              "      fill: #D2E3FC;\n",
              "    }\n",
              "\n",
              "    [theme=dark] .colab-df-convert:hover {\n",
              "      background-color: #434B5C;\n",
              "      box-shadow: 0px 1px 3px 1px rgba(0, 0, 0, 0.15);\n",
              "      filter: drop-shadow(0px 1px 2px rgba(0, 0, 0, 0.3));\n",
              "      fill: #FFFFFF;\n",
              "    }\n",
              "  </style>\n",
              "\n",
              "      <script>\n",
              "        const buttonEl =\n",
              "          document.querySelector('#df-be626e53-197f-42a6-82f5-b84a977df455 button.colab-df-convert');\n",
              "        buttonEl.style.display =\n",
              "          google.colab.kernel.accessAllowed ? 'block' : 'none';\n",
              "\n",
              "        async function convertToInteractive(key) {\n",
              "          const element = document.querySelector('#df-be626e53-197f-42a6-82f5-b84a977df455');\n",
              "          const dataTable =\n",
              "            await google.colab.kernel.invokeFunction('convertToInteractive',\n",
              "                                                     [key], {});\n",
              "          if (!dataTable) return;\n",
              "\n",
              "          const docLinkHtml = 'Like what you see? Visit the ' +\n",
              "            '<a target=\"_blank\" href=https://colab.research.google.com/notebooks/data_table.ipynb>data table notebook</a>'\n",
              "            + ' to learn more about interactive tables.';\n",
              "          element.innerHTML = '';\n",
              "          dataTable['output_type'] = 'display_data';\n",
              "          await google.colab.output.renderOutput(dataTable, element);\n",
              "          const docLink = document.createElement('div');\n",
              "          docLink.innerHTML = docLinkHtml;\n",
              "          element.appendChild(docLink);\n",
              "        }\n",
              "      </script>\n",
              "    </div>\n",
              "  </div>\n",
              "  "
            ]
          },
          "metadata": {},
          "execution_count": 114
        }
      ]
    },
    {
      "cell_type": "markdown",
      "source": [
        "# Correlation Matrix (Heatmap)"
      ],
      "metadata": {
        "id": "fk_u4YxiEwA4"
      }
    },
    {
      "cell_type": "code",
      "source": [
        "import seaborn as sb\n",
        "plt.figure(figsize = (16,5))\n",
        "\n",
        "#ax = sb.heatmap(df1.iloc[:, 1:6:], annot=True, linewidths=.5)\n",
        "corr = df.corr()\n",
        "ax= sb.heatmap(corr, cmap=\"BrBG\",annot=True, linewidths=.5)"
      ],
      "metadata": {
        "colab": {
          "base_uri": "https://localhost:8080/",
          "height": 429
        },
        "id": "2og6suuqEsHn",
        "outputId": "91f208ec-9b21-4c40-d2a4-a741b223ba29"
      },
      "execution_count": 115,
      "outputs": [
        {
          "output_type": "display_data",
          "data": {
            "text/plain": [
              "<Figure size 1152x360 with 2 Axes>"
            ],
            "image/png": "[encoded data removed]"
          },
          "metadata": {
            "needs_background": "light"
          }
        }
      ]
    },
    {
      "cell_type": "code",
      "source": [
        "# Using only the Features with High Importance and less Redundance\n",
        "\n",
        "X=X[['Area harvested','Production','Precipitation','Minimum Temperature']]"
      ],
      "metadata": {
        "id": "wXcAUV4SvnsO"
      },
      "execution_count": 116,
      "outputs": []
    },
    {
      "cell_type": "markdown",
      "source": [
        "# Train test split"
      ],
      "metadata": {
        "id": "xVQdO40VB00q"
      }
    },
    {
      "cell_type": "code",
      "source": [
        "from sklearn.model_selection import train_test_split\n",
        "\n",
        "X_train, X_test, y_train, y_test = train_test_split(X, Y, test_size=0.33, random_state=42)"
      ],
      "metadata": {
        "id": "16yCpbG784fo"
      },
      "execution_count": 117,
      "outputs": []
    },
    {
      "cell_type": "markdown",
      "source": [
        "We use Mean Squared Error and R2 score to compare and evaluate our models.\n",
        "\n",
        "**R2 Score:**\n",
        "The r2 score varies between 0 and 100%. It is closely related to the MSE.\n",
        "\n",
        "It is  (total variance explained by model) / total variance. So if it is 100%, the two variables are perfectly correlated, i.e., with no variance at all. A low value would show a low level of correlation, meaning a regression model that is not valid, but not in all cases.\n",
        "\n",
        "**Mean Squared Error:**\n",
        "Mean square error (MSE) is the average of the square of the errors. The larger the number the larger the error. Error in this case means the difference between the observed values y1, y2, y3, … and the predicted ones pred(y1), pred(y2), pred(y3), … We square each difference (pred(yn) – yn)) ** 2."
      ],
      "metadata": {
        "id": "bEfMIneYHdJX"
      }
    },
    {
      "cell_type": "markdown",
      "source": [
        "# Linear Regression"
      ],
      "metadata": {
        "id": "9QNdgzy3B6Iw"
      }
    },
    {
      "cell_type": "code",
      "source": [
        "from sklearn.linear_model import LinearRegression\n",
        "\n",
        "regr1 = LinearRegression()\n",
        "\n",
        "regr1.fit(X_train, y_train)\n",
        "\n",
        "print(regr1.score(X_test, y_test))"
      ],
      "metadata": {
        "colab": {
          "base_uri": "https://localhost:8080/"
        },
        "id": "xkyqVmNG-Ckz",
        "outputId": "3480330b-135c-4b35-aaf9-72f2dae9f7f2"
      },
      "execution_count": 118,
      "outputs": [
        {
          "output_type": "stream",
          "name": "stdout",
          "text": [
            "0.5191615539423922\n"
          ]
        }
      ]
    },
    {
      "cell_type": "code",
      "source": [
        "y_pred1=regr1.predict(X_test)"
      ],
      "metadata": {
        "id": "P9PMdpRLFMXw"
      },
      "execution_count": 119,
      "outputs": []
    },
    {
      "cell_type": "code",
      "source": [
        "from sklearn.metrics import r2_score, mean_squared_error,accuracy_score\n",
        "\n",
        "print('Coefficient of Determination (R2 Score) =',r2_score(y_test, y_pred1))\n",
        "\n",
        "print('Mean Squared Error = ',mean_squared_error(y_test, y_pred1))"
      ],
      "metadata": {
        "colab": {
          "base_uri": "https://localhost:8080/"
        },
        "id": "CIyQFv_5FBJw",
        "outputId": "8b7be101-a004-4f01-f46e-2e24e9c823ea"
      },
      "execution_count": 120,
      "outputs": [
        {
          "output_type": "stream",
          "name": "stdout",
          "text": [
            "Coefficient of Determination (R2 Score) = 0.5191615539423922\n",
            "Mean Squared Error =  4408763690.649902\n"
          ]
        }
      ]
    },
    {
      "cell_type": "markdown",
      "source": [
        "# Bayesian Ridge regressor"
      ],
      "metadata": {
        "id": "UWmIO9TXCCma"
      }
    },
    {
      "cell_type": "code",
      "source": [
        "from sklearn.linear_model import BayesianRidge\n",
        "\n",
        "regr2 = BayesianRidge().fit(X_train, y_train)\n",
        "\n",
        "regr2.score(X_test, y_test)"
      ],
      "metadata": {
        "colab": {
          "base_uri": "https://localhost:8080/"
        },
        "id": "RIohf-gWA1OB",
        "outputId": "adbb0966-e22c-4f39-b8db-33f5426e585a"
      },
      "execution_count": 121,
      "outputs": [
        {
          "output_type": "stream",
          "name": "stderr",
          "text": [
            "/usr/local/lib/python3.7/dist-packages/sklearn/utils/validation.py:993: DataConversionWarning: A column-vector y was passed when a 1d array was expected. Please change the shape of y to (n_samples, ), for example using ravel().\n",
            "  y = column_or_1d(y, warn=True)\n"
          ]
        },
        {
          "output_type": "execute_result",
          "data": {
            "text/plain": [
              "0.5154728882541151"
            ]
          },
          "metadata": {},
          "execution_count": 121
        }
      ]
    },
    {
      "cell_type": "code",
      "source": [
        "y_pred2=regr2.predict(X_test)\n",
        "\n",
        "print('Coefficient of Determination (R2 Score)=',r2_score(y_test, y_pred2))\n",
        "\n",
        "print('Mean Squared Error= ',mean_squared_error(y_test, y_pred2))"
      ],
      "metadata": {
        "colab": {
          "base_uri": "https://localhost:8080/"
        },
        "id": "X7GYwNkpFber",
        "outputId": "0bc1aff4-4681-45fc-b890-99a6a9623cb1"
      },
      "execution_count": 122,
      "outputs": [
        {
          "output_type": "stream",
          "name": "stdout",
          "text": [
            "Coefficient of Determination (R2 Score)= 0.5154728882541151\n",
            "Mean Squared Error=  4442584728.644594\n"
          ]
        }
      ]
    },
    {
      "cell_type": "markdown",
      "source": [
        "# Decision Tree Regressor"
      ],
      "metadata": {
        "id": "hkUiND2LOM-D"
      }
    },
    {
      "cell_type": "code",
      "source": [
        "from sklearn.tree import DecisionTreeRegressor\n",
        "\n",
        "regr3 = DecisionTreeRegressor(max_depth=2).fit(X_train, y_train)\n",
        "\n",
        "regr3.score(X_test, y_test)"
      ],
      "metadata": {
        "colab": {
          "base_uri": "https://localhost:8080/"
        },
        "id": "9wt8vHkMOPlY",
        "outputId": "b82abb81-7120-4ef5-e45e-33dcb4ad34b1"
      },
      "execution_count": 123,
      "outputs": [
        {
          "output_type": "execute_result",
          "data": {
            "text/plain": [
              "0.36654305662693265"
            ]
          },
          "metadata": {},
          "execution_count": 123
        }
      ]
    },
    {
      "cell_type": "code",
      "source": [
        "y_pred3=regr3.predict(X_test)\n",
        "\n",
        "print('Coefficient of Determination (R2 Score)=',r2_score(y_test, y_pred3))\n",
        "\n",
        "print('Mean Squared Error= ',mean_squared_error(y_test, y_pred3))"
      ],
      "metadata": {
        "colab": {
          "base_uri": "https://localhost:8080/"
        },
        "id": "sAGqu102OzDY",
        "outputId": "87c9362a-cac4-47c1-e3a2-5a8de3a02eb0"
      },
      "execution_count": 124,
      "outputs": [
        {
          "output_type": "stream",
          "name": "stdout",
          "text": [
            "Coefficient of Determination (R2 Score)= 0.36654305662693265\n",
            "Mean Squared Error=  5808108720.155581\n"
          ]
        }
      ]
    },
    {
      "cell_type": "markdown",
      "source": [
        "# Lasso Regression"
      ],
      "metadata": {
        "id": "b7B11iS8O4ga"
      }
    },
    {
      "cell_type": "code",
      "source": [
        "from sklearn import linear_model\n",
        "\n",
        "regr4 = linear_model.Lasso(alpha=0.1).fit(X_train, y_train)\n",
        "\n",
        "regr4.score(X_test, y_test)"
      ],
      "metadata": {
        "colab": {
          "base_uri": "https://localhost:8080/"
        },
        "id": "T8V-_n03O86v",
        "outputId": "09bc727f-19a0-49e4-acb5-da09de41e188"
      },
      "execution_count": 125,
      "outputs": [
        {
          "output_type": "execute_result",
          "data": {
            "text/plain": [
              "0.5191612235135079"
            ]
          },
          "metadata": {},
          "execution_count": 125
        }
      ]
    },
    {
      "cell_type": "code",
      "source": [
        "y_pred4=regr4.predict(X_test)\n",
        "\n",
        "print('Coefficient of Determination (R2 Score)=',r2_score(y_test, y_pred4))\n",
        "\n",
        "print('Mean Squared Error= ',mean_squared_error(y_test, y_pred4))"
      ],
      "metadata": {
        "colab": {
          "base_uri": "https://localhost:8080/"
        },
        "id": "a4rDmczSPKUm",
        "outputId": "f4a65f4d-3f5c-46c2-b8d4-8a6d96208da4"
      },
      "execution_count": 126,
      "outputs": [
        {
          "output_type": "stream",
          "name": "stdout",
          "text": [
            "Coefficient of Determination (R2 Score)= 0.5191612235135079\n",
            "Mean Squared Error=  4408766720.322092\n"
          ]
        }
      ]
    },
    {
      "cell_type": "markdown",
      "source": [
        "# Random Forest Regressor"
      ],
      "metadata": {
        "id": "rAGqx8l4PT2C"
      }
    },
    {
      "cell_type": "code",
      "source": [
        "from sklearn.ensemble import RandomForestRegressor\n",
        "\n",
        "regr5 = RandomForestRegressor(max_depth=3).fit(X_train, y_train)\n",
        "\n",
        "regr5.score(X_test, y_test)"
      ],
      "metadata": {
        "colab": {
          "base_uri": "https://localhost:8080/"
        },
        "id": "0i2qs2gkPQWj",
        "outputId": "9ec031fc-1b12-42b9-c6eb-2966808eff55"
      },
      "execution_count": 127,
      "outputs": [
        {
          "output_type": "stream",
          "name": "stderr",
          "text": [
            "/usr/local/lib/python3.7/dist-packages/ipykernel_launcher.py:3: DataConversionWarning: A column-vector y was passed when a 1d array was expected. Please change the shape of y to (n_samples,), for example using ravel().\n",
            "  This is separate from the ipykernel package so we can avoid doing imports until\n"
          ]
        },
        {
          "output_type": "execute_result",
          "data": {
            "text/plain": [
              "0.5932759295585954"
            ]
          },
          "metadata": {},
          "execution_count": 127
        }
      ]
    },
    {
      "cell_type": "code",
      "source": [
        "y_pred5=regr5.predict(X_test)\n",
        "\n",
        "print('Coefficient of Determination (R2 Score)=',r2_score(y_test, y_pred5))\n",
        "\n",
        "print('Mean Squared Error= ',mean_squared_error(y_test, y_pred5))"
      ],
      "metadata": {
        "colab": {
          "base_uri": "https://localhost:8080/"
        },
        "id": "dpEvIt-NPgoG",
        "outputId": "192e8321-e0a9-4883-a02b-15aaf7936dc7"
      },
      "execution_count": 128,
      "outputs": [
        {
          "output_type": "stream",
          "name": "stdout",
          "text": [
            "Coefficient of Determination (R2 Score)= 0.5932759295585954\n",
            "Mean Squared Error=  3729215765.8719454\n"
          ]
        }
      ]
    },
    {
      "cell_type": "markdown",
      "source": [
        "# Polynomial Regression"
      ],
      "metadata": {
        "id": "vchPNK4BTIHF"
      }
    },
    {
      "cell_type": "code",
      "source": [
        "from sklearn.preprocessing import PolynomialFeatures\n",
        "\n",
        "poly_reg=PolynomialFeatures(degree=2)\n",
        "\n",
        "X_poly=poly_reg.fit_transform(X_train)\n",
        "\n",
        "regr6=LinearRegression().fit(X_poly,y_train)\n"
      ],
      "metadata": {
        "id": "FNdAHJXtTLiV"
      },
      "execution_count": 129,
      "outputs": []
    },
    {
      "cell_type": "code",
      "source": [
        "X_test_poly=poly_reg.fit_transform(X_test)\n",
        "\n",
        "regr6.score(X_test_poly, y_test)"
      ],
      "metadata": {
        "colab": {
          "base_uri": "https://localhost:8080/"
        },
        "id": "EbKhrS1KVpPv",
        "outputId": "0ac014ef-29d5-472d-ffc5-bb10c25db1cd"
      },
      "execution_count": 130,
      "outputs": [
        {
          "output_type": "execute_result",
          "data": {
            "text/plain": [
              "0.6024162546543175"
            ]
          },
          "metadata": {},
          "execution_count": 130
        }
      ]
    },
    {
      "cell_type": "code",
      "source": [
        "y_pred6=regr6.predict(X_test_poly)\n",
        "\n",
        "print('Coefficient of Determination (R2 Score)=',r2_score(y_test, y_pred6))\n",
        "\n",
        "print('Mean Squared Error= ',mean_squared_error(y_test, y_pred6))"
      ],
      "metadata": {
        "colab": {
          "base_uri": "https://localhost:8080/"
        },
        "id": "U3tMFCK8TZxm",
        "outputId": "92607863-5d28-43d9-c693-ef479c33cdee"
      },
      "execution_count": 131,
      "outputs": [
        {
          "output_type": "stream",
          "name": "stdout",
          "text": [
            "Coefficient of Determination (R2 Score)= 0.6024162546543175\n",
            "Mean Squared Error=  3645408961.8753953\n"
          ]
        }
      ]
    },
    {
      "cell_type": "markdown",
      "source": [
        "# K nearest neighbors"
      ],
      "metadata": {
        "id": "llyNTqalFubj"
      }
    },
    {
      "cell_type": "code",
      "source": [
        "from sklearn import neighbors\n",
        "from math import sqrt\n",
        "\n",
        "mse_val = [] \n",
        "r2_val=[]\n",
        "\n",
        "# To find the Optimum K value for KNN Algorithm we use different K values on the model and obsereve the errors to find the best\n",
        "for K in range(20):\n",
        "    K = K+1\n",
        "    regr7 = neighbors.KNeighborsRegressor(n_neighbors = K)\n",
        "\n",
        "    regr7.fit(X_train, y_train)  #fit the model\n",
        "    y_pred7=regr7.predict(X_test) #make prediction on test set\n",
        "    #error = mean_squared_error(y_test,y_pred9) #calculate rmse\n",
        "    mse_val.append(mean_squared_error(y_test,y_pred7)) #store mse values\n",
        "    r2_val.append(r2_score(y_test, y_pred7))\n",
        "    print('MSE value for k= ' , K , 'is:', mean_squared_error(y_test,y_pred7))\n",
        "    print('R2 score value for k= ' , K , 'is:', r2_score(y_test, y_pred7))\n",
        "    print('\\n')"
      ],
      "metadata": {
        "colab": {
          "base_uri": "https://localhost:8080/"
        },
        "id": "wQy---QxFrs-",
        "outputId": "13fde84c-37de-45e0-dcae-ec85d4caad5c"
      },
      "execution_count": 132,
      "outputs": [
        {
          "output_type": "stream",
          "name": "stdout",
          "text": [
            "MSE value for k=  1 is: 318997309.1779062\n",
            "R2 score value for k=  1 is: 0.9652088020124635\n",
            "\n",
            "\n",
            "MSE value for k=  2 is: 374814557.8142261\n",
            "R2 score value for k=  2 is: 0.9591211364035266\n",
            "\n",
            "\n",
            "MSE value for k=  3 is: 405621224.9627489\n",
            "R2 score value for k=  3 is: 0.9557612307702705\n",
            "\n",
            "\n",
            "MSE value for k=  4 is: 455244870.51589596\n",
            "R2 score value for k=  4 is: 0.9503490657531042\n",
            "\n",
            "\n",
            "MSE value for k=  5 is: 518099197.0847784\n",
            "R2 score value for k=  5 is: 0.9434939066118975\n",
            "\n",
            "\n",
            "MSE value for k=  6 is: 570174658.1305217\n",
            "R2 score value for k=  6 is: 0.9378143362098654\n",
            "\n",
            "\n",
            "MSE value for k=  7 is: 626710997.8142031\n",
            "R2 score value for k=  7 is: 0.9316482434848369\n",
            "\n",
            "\n",
            "MSE value for k=  8 is: 678946389.7455543\n",
            "R2 score value for k=  8 is: 0.925951230342865\n",
            "\n",
            "\n",
            "MSE value for k=  9 is: 726066828.6236907\n",
            "R2 score value for k=  9 is: 0.9208120756506397\n",
            "\n",
            "\n",
            "MSE value for k=  10 is: 755169291.9505907\n",
            "R2 score value for k=  10 is: 0.9176380377061174\n",
            "\n",
            "\n",
            "MSE value for k=  11 is: 796898505.5969203\n",
            "R2 score value for k=  11 is: 0.9130868728778775\n",
            "\n",
            "\n",
            "MSE value for k=  12 is: 838824205.5731285\n",
            "R2 score value for k=  12 is: 0.9085142784180765\n",
            "\n",
            "\n",
            "MSE value for k=  13 is: 891462965.7394208\n",
            "R2 score value for k=  13 is: 0.9027732722275116\n",
            "\n",
            "\n",
            "MSE value for k=  14 is: 942571746.9911131\n",
            "R2 score value for k=  14 is: 0.8971991320192076\n",
            "\n",
            "\n",
            "MSE value for k=  15 is: 996114474.9270592\n",
            "R2 score value for k=  15 is: 0.891359535273978\n",
            "\n",
            "\n",
            "MSE value for k=  16 is: 1056950894.4142231\n",
            "R2 score value for k=  16 is: 0.8847244576280713\n",
            "\n",
            "\n",
            "MSE value for k=  17 is: 1122685983.159583\n",
            "R2 score value for k=  17 is: 0.8775551103594\n",
            "\n",
            "\n",
            "MSE value for k=  18 is: 1185559460.4170218\n",
            "R2 score value for k=  18 is: 0.8706978625629666\n",
            "\n",
            "\n",
            "MSE value for k=  19 is: 1242472968.2908676\n",
            "R2 score value for k=  19 is: 0.864490634277226\n",
            "\n",
            "\n",
            "MSE value for k=  20 is: 1298009098.9678051\n",
            "R2 score value for k=  20 is: 0.8584336285839101\n",
            "\n",
            "\n"
          ]
        }
      ]
    },
    {
      "cell_type": "code",
      "source": [
        "max(r2_val),min(mse_val)"
      ],
      "metadata": {
        "colab": {
          "base_uri": "https://localhost:8080/"
        },
        "id": "TuvTg113GX_R",
        "outputId": "f433a459-7489-4cc3-abd3-1225d3d88417"
      },
      "execution_count": 133,
      "outputs": [
        {
          "output_type": "execute_result",
          "data": {
            "text/plain": [
              "(0.9652088020124635, 318997309.1779062)"
            ]
          },
          "metadata": {},
          "execution_count": 133
        }
      ]
    },
    {
      "cell_type": "markdown",
      "source": [
        "# ANN"
      ],
      "metadata": {
        "id": "VzmRP-LUefC-"
      }
    },
    {
      "cell_type": "code",
      "source": [
        "import keras\n",
        "\n",
        "from keras.losses import MeanSquaredError\n",
        "from keras.optimizers import Adam\n",
        "\n",
        "learning_rate = 0.01\n",
        "\n",
        "ann = tf.keras.models.Sequential()\n",
        "\n",
        "ann.add(tf.keras.layers.Dense(units=16,activation=\"relu\"))\n",
        "\n",
        "#Adding Second Hidden Layer\n",
        "ann.add(tf.keras.layers.Dense(units=8,activation=\"relu\"))\n",
        "\n",
        "#Adding third Hidden Layer\n",
        "ann.add(tf.keras.layers.Dense(units=2,activation=\"relu\"))  #kernel_initializer='normal', activation='linear'\n",
        "\n",
        "#Adding Output Layer\n",
        "ann.add(tf.keras.layers.Dense(units=1,kernel_initializer='normal', activation='linear'))\n",
        "\n",
        "msle =  MeanSquaredError()\n",
        "\n",
        "ann.compile(\n",
        "    loss=msle, \n",
        "    optimizer=Adam(learning_rate=learning_rate), \n",
        "    metrics=[msle]\n",
        ")"
      ],
      "metadata": {
        "id": "E_kLz29fjvEz"
      },
      "execution_count": 134,
      "outputs": []
    },
    {
      "cell_type": "code",
      "source": [
        "history = ann.fit(\n",
        "    X_train, y_train, \n",
        "    epochs=100, \n",
        "    batch_size=64,\n",
        "    validation_split=0.2\n",
        ")"
      ],
      "metadata": {
        "colab": {
          "base_uri": "https://localhost:8080/"
        },
        "id": "U7Wy3vENepQK",
        "outputId": "1bc5228b-2b99-4d2c-8c59-511e54bb53ef"
      },
      "execution_count": 135,
      "outputs": [
        {
          "output_type": "stream",
          "name": "stdout",
          "text": [
            "Epoch 1/100\n",
            "40/40 [==============================] - 1s 9ms/step - loss: 10789874688.0000 - mean_squared_error: 10890635264.0000 - val_loss: 7844660224.0000 - val_mean_squared_error: 7841008640.0000\n",
            "Epoch 2/100\n",
            "40/40 [==============================] - 0s 4ms/step - loss: 8251267072.0000 - mean_squared_error: 8217254912.0000 - val_loss: 9917744128.0000 - val_mean_squared_error: 9866037248.0000\n",
            "Epoch 3/100\n",
            "40/40 [==============================] - 0s 4ms/step - loss: 10377972736.0000 - mean_squared_error: 10357252096.0000 - val_loss: 7768430080.0000 - val_mean_squared_error: 7740983808.0000\n",
            "Epoch 4/100\n",
            "40/40 [==============================] - 0s 3ms/step - loss: 7740884992.0000 - mean_squared_error: 7697009152.0000 - val_loss: 6624812544.0000 - val_mean_squared_error: 6611902464.0000\n",
            "Epoch 5/100\n",
            "40/40 [==============================] - 0s 3ms/step - loss: 7575554048.0000 - mean_squared_error: 7649223680.0000 - val_loss: 6290376192.0000 - val_mean_squared_error: 6281854464.0000\n",
            "Epoch 6/100\n",
            "40/40 [==============================] - 0s 3ms/step - loss: 7621381120.0000 - mean_squared_error: 7575179264.0000 - val_loss: 7000207360.0000 - val_mean_squared_error: 6981701632.0000\n",
            "Epoch 7/100\n",
            "40/40 [==============================] - 0s 3ms/step - loss: 7222326784.0000 - mean_squared_error: 7208515072.0000 - val_loss: 6265615360.0000 - val_mean_squared_error: 6257183744.0000\n",
            "Epoch 8/100\n",
            "40/40 [==============================] - 0s 4ms/step - loss: 7189046272.0000 - mean_squared_error: 7187959808.0000 - val_loss: 7623409152.0000 - val_mean_squared_error: 7597289472.0000\n",
            "Epoch 9/100\n",
            "40/40 [==============================] - 0s 3ms/step - loss: 8212143616.0000 - mean_squared_error: 8228011008.0000 - val_loss: 6491109376.0000 - val_mean_squared_error: 6478651904.0000\n",
            "Epoch 10/100\n",
            "40/40 [==============================] - 0s 3ms/step - loss: 7495252992.0000 - mean_squared_error: 7537688576.0000 - val_loss: 6701418496.0000 - val_mean_squared_error: 6689830400.0000\n",
            "Epoch 11/100\n",
            "40/40 [==============================] - 0s 3ms/step - loss: 7460474880.0000 - mean_squared_error: 7420589568.0000 - val_loss: 6456997888.0000 - val_mean_squared_error: 6444754944.0000\n",
            "Epoch 12/100\n",
            "40/40 [==============================] - 0s 4ms/step - loss: 7228233216.0000 - mean_squared_error: 7186187264.0000 - val_loss: 6194520064.0000 - val_mean_squared_error: 6186803200.0000\n",
            "Epoch 13/100\n",
            "40/40 [==============================] - 0s 4ms/step - loss: 8208214016.0000 - mean_squared_error: 8190127104.0000 - val_loss: 7279718400.0000 - val_mean_squared_error: 7262643200.0000\n",
            "Epoch 14/100\n",
            "40/40 [==============================] - 0s 3ms/step - loss: 7849367040.0000 - mean_squared_error: 7850723840.0000 - val_loss: 7257617920.0000 - val_mean_squared_error: 7235111424.0000\n",
            "Epoch 15/100\n",
            "40/40 [==============================] - 0s 4ms/step - loss: 7704754176.0000 - mean_squared_error: 7638357504.0000 - val_loss: 6266232320.0000 - val_mean_squared_error: 6257975296.0000\n",
            "Epoch 16/100\n",
            "40/40 [==============================] - 0s 3ms/step - loss: 7210520576.0000 - mean_squared_error: 7212085248.0000 - val_loss: 7183868928.0000 - val_mean_squared_error: 7162023936.0000\n",
            "Epoch 17/100\n",
            "40/40 [==============================] - 0s 3ms/step - loss: 7356686336.0000 - mean_squared_error: 7295576576.0000 - val_loss: 6114910208.0000 - val_mean_squared_error: 6107364352.0000\n",
            "Epoch 18/100\n",
            "40/40 [==============================] - 0s 3ms/step - loss: 7555207680.0000 - mean_squared_error: 7573600768.0000 - val_loss: 6618159616.0000 - val_mean_squared_error: 6606885376.0000\n",
            "Epoch 19/100\n",
            "40/40 [==============================] - 0s 3ms/step - loss: 7923101696.0000 - mean_squared_error: 7948114944.0000 - val_loss: 6101729792.0000 - val_mean_squared_error: 6093672448.0000\n",
            "Epoch 20/100\n",
            "40/40 [==============================] - 0s 4ms/step - loss: 7083682304.0000 - mean_squared_error: 7177244672.0000 - val_loss: 6339542016.0000 - val_mean_squared_error: 6330511872.0000\n",
            "Epoch 21/100\n",
            "40/40 [==============================] - 0s 3ms/step - loss: 7180168704.0000 - mean_squared_error: 7220571136.0000 - val_loss: 6420528128.0000 - val_mean_squared_error: 6410698240.0000\n",
            "Epoch 22/100\n",
            "40/40 [==============================] - 0s 3ms/step - loss: 7104582656.0000 - mean_squared_error: 7094560256.0000 - val_loss: 6084621312.0000 - val_mean_squared_error: 6076178432.0000\n",
            "Epoch 23/100\n",
            "40/40 [==============================] - 0s 3ms/step - loss: 6921540608.0000 - mean_squared_error: 6904580608.0000 - val_loss: 6182758400.0000 - val_mean_squared_error: 6171909632.0000\n",
            "Epoch 24/100\n",
            "40/40 [==============================] - 0s 4ms/step - loss: 7023911424.0000 - mean_squared_error: 7020916736.0000 - val_loss: 6205285376.0000 - val_mean_squared_error: 6196618752.0000\n",
            "Epoch 25/100\n",
            "40/40 [==============================] - 0s 3ms/step - loss: 7073061376.0000 - mean_squared_error: 7021272064.0000 - val_loss: 7411362304.0000 - val_mean_squared_error: 7385392640.0000\n",
            "Epoch 26/100\n",
            "40/40 [==============================] - 0s 3ms/step - loss: 8099899392.0000 - mean_squared_error: 8049364992.0000 - val_loss: 5949494784.0000 - val_mean_squared_error: 5941257216.0000\n",
            "Epoch 27/100\n",
            "40/40 [==============================] - 0s 3ms/step - loss: 6807307264.0000 - mean_squared_error: 6809787392.0000 - val_loss: 5806901760.0000 - val_mean_squared_error: 5799510016.0000\n",
            "Epoch 28/100\n",
            "40/40 [==============================] - 0s 3ms/step - loss: 6803648000.0000 - mean_squared_error: 6807318528.0000 - val_loss: 5716349952.0000 - val_mean_squared_error: 5708461056.0000\n",
            "Epoch 29/100\n",
            "40/40 [==============================] - 0s 3ms/step - loss: 6942338560.0000 - mean_squared_error: 6950962176.0000 - val_loss: 6246453760.0000 - val_mean_squared_error: 6239407104.0000\n",
            "Epoch 30/100\n",
            "40/40 [==============================] - 0s 3ms/step - loss: 7749486080.0000 - mean_squared_error: 7859774464.0000 - val_loss: 6667757056.0000 - val_mean_squared_error: 6649705984.0000\n",
            "Epoch 31/100\n",
            "40/40 [==============================] - 0s 3ms/step - loss: 7308255232.0000 - mean_squared_error: 7261572096.0000 - val_loss: 7202734080.0000 - val_mean_squared_error: 7184608256.0000\n",
            "Epoch 32/100\n",
            "40/40 [==============================] - 0s 3ms/step - loss: 7304354816.0000 - mean_squared_error: 7285703680.0000 - val_loss: 5821757952.0000 - val_mean_squared_error: 5815301120.0000\n",
            "Epoch 33/100\n",
            "40/40 [==============================] - 0s 3ms/step - loss: 6671389184.0000 - mean_squared_error: 6753376768.0000 - val_loss: 5728872960.0000 - val_mean_squared_error: 5722739712.0000\n",
            "Epoch 34/100\n",
            "40/40 [==============================] - 0s 3ms/step - loss: 6846960128.0000 - mean_squared_error: 6893641728.0000 - val_loss: 6153278464.0000 - val_mean_squared_error: 6143708672.0000\n",
            "Epoch 35/100\n",
            "40/40 [==============================] - 0s 3ms/step - loss: 6792826368.0000 - mean_squared_error: 6818103296.0000 - val_loss: 5765587456.0000 - val_mean_squared_error: 5758901760.0000\n",
            "Epoch 36/100\n",
            "40/40 [==============================] - 0s 3ms/step - loss: 6570506240.0000 - mean_squared_error: 6585300480.0000 - val_loss: 5802841088.0000 - val_mean_squared_error: 5792457728.0000\n",
            "Epoch 37/100\n",
            "40/40 [==============================] - 0s 5ms/step - loss: 6670315520.0000 - mean_squared_error: 6672642048.0000 - val_loss: 5676843008.0000 - val_mean_squared_error: 5667314688.0000\n",
            "Epoch 38/100\n",
            "40/40 [==============================] - 0s 4ms/step - loss: 6664962048.0000 - mean_squared_error: 6710534656.0000 - val_loss: 5399157248.0000 - val_mean_squared_error: 5393421312.0000\n",
            "Epoch 39/100\n",
            "40/40 [==============================] - 0s 5ms/step - loss: 7546820608.0000 - mean_squared_error: 7591400448.0000 - val_loss: 6069680128.0000 - val_mean_squared_error: 6060819456.0000\n",
            "Epoch 40/100\n",
            "40/40 [==============================] - 0s 3ms/step - loss: 8374750208.0000 - mean_squared_error: 8391135232.0000 - val_loss: 6742246912.0000 - val_mean_squared_error: 6720842752.0000\n",
            "Epoch 41/100\n",
            "40/40 [==============================] - 0s 3ms/step - loss: 7587850240.0000 - mean_squared_error: 7564604416.0000 - val_loss: 5749531648.0000 - val_mean_squared_error: 5739299328.0000\n",
            "Epoch 42/100\n",
            "40/40 [==============================] - 0s 3ms/step - loss: 6623231488.0000 - mean_squared_error: 6657202688.0000 - val_loss: 5476425728.0000 - val_mean_squared_error: 5470770688.0000\n",
            "Epoch 43/100\n",
            "40/40 [==============================] - 0s 3ms/step - loss: 6323493888.0000 - mean_squared_error: 6258678272.0000 - val_loss: 5988924416.0000 - val_mean_squared_error: 5977945600.0000\n",
            "Epoch 44/100\n",
            "40/40 [==============================] - 0s 3ms/step - loss: 6268471808.0000 - mean_squared_error: 6270160384.0000 - val_loss: 5412741632.0000 - val_mean_squared_error: 5406365184.0000\n",
            "Epoch 45/100\n",
            "40/40 [==============================] - 0s 4ms/step - loss: 6230936064.0000 - mean_squared_error: 6248102912.0000 - val_loss: 5176987136.0000 - val_mean_squared_error: 5168719872.0000\n",
            "Epoch 46/100\n",
            "40/40 [==============================] - 0s 4ms/step - loss: 6398516224.0000 - mean_squared_error: 6368911360.0000 - val_loss: 5516115456.0000 - val_mean_squared_error: 5506504192.0000\n",
            "Epoch 47/100\n",
            "40/40 [==============================] - 0s 3ms/step - loss: 9301522432.0000 - mean_squared_error: 9227438080.0000 - val_loss: 11742798848.0000 - val_mean_squared_error: 11676476416.0000\n",
            "Epoch 48/100\n",
            "40/40 [==============================] - 0s 4ms/step - loss: 18530998272.0000 - mean_squared_error: 18920828928.0000 - val_loss: 16855024640.0000 - val_mean_squared_error: 16752392192.0000\n",
            "Epoch 49/100\n",
            "40/40 [==============================] - 0s 3ms/step - loss: 13678338048.0000 - mean_squared_error: 13654882304.0000 - val_loss: 12836331520.0000 - val_mean_squared_error: 12769158144.0000\n",
            "Epoch 50/100\n",
            "40/40 [==============================] - 0s 4ms/step - loss: 13020316672.0000 - mean_squared_error: 12913981440.0000 - val_loss: 12582284288.0000 - val_mean_squared_error: 12515039232.0000\n",
            "Epoch 51/100\n",
            "40/40 [==============================] - 0s 4ms/step - loss: 12833739776.0000 - mean_squared_error: 12778891264.0000 - val_loss: 12480680960.0000 - val_mean_squared_error: 12413294592.0000\n",
            "Epoch 52/100\n",
            "40/40 [==============================] - 0s 3ms/step - loss: 12731855872.0000 - mean_squared_error: 12672812032.0000 - val_loss: 12419178496.0000 - val_mean_squared_error: 12351715328.0000\n",
            "Epoch 53/100\n",
            "40/40 [==============================] - 0s 3ms/step - loss: 12662317056.0000 - mean_squared_error: 12653303808.0000 - val_loss: 12380611584.0000 - val_mean_squared_error: 12313139200.0000\n",
            "Epoch 54/100\n",
            "40/40 [==============================] - 0s 5ms/step - loss: 12612086784.0000 - mean_squared_error: 12618278912.0000 - val_loss: 12352897024.0000 - val_mean_squared_error: 12285463552.0000\n",
            "Epoch 55/100\n",
            "40/40 [==============================] - 0s 4ms/step - loss: 12573102080.0000 - mean_squared_error: 12544751616.0000 - val_loss: 12332484608.0000 - val_mean_squared_error: 12265115648.0000\n",
            "Epoch 56/100\n",
            "40/40 [==============================] - 0s 4ms/step - loss: 12543242240.0000 - mean_squared_error: 12479281152.0000 - val_loss: 12315849728.0000 - val_mean_squared_error: 12248530944.0000\n",
            "Epoch 57/100\n",
            "40/40 [==============================] - 0s 3ms/step - loss: 12519675904.0000 - mean_squared_error: 12468987904.0000 - val_loss: 12302497792.0000 - val_mean_squared_error: 12235212800.0000\n",
            "Epoch 58/100\n",
            "40/40 [==============================] - 0s 3ms/step - loss: 12500672512.0000 - mean_squared_error: 12377435136.0000 - val_loss: 12292359168.0000 - val_mean_squared_error: 12225098752.0000\n",
            "Epoch 59/100\n",
            "40/40 [==============================] - 0s 3ms/step - loss: 12486643712.0000 - mean_squared_error: 12596727808.0000 - val_loss: 12284948480.0000 - val_mean_squared_error: 12217704448.0000\n",
            "Epoch 60/100\n",
            "40/40 [==============================] - 0s 3ms/step - loss: 12476126208.0000 - mean_squared_error: 12415469568.0000 - val_loss: 12278601728.0000 - val_mean_squared_error: 12211371008.0000\n",
            "Epoch 61/100\n",
            "40/40 [==============================] - 0s 3ms/step - loss: 12469029888.0000 - mean_squared_error: 12377568256.0000 - val_loss: 12276032512.0000 - val_mean_squared_error: 12208795648.0000\n",
            "Epoch 62/100\n",
            "40/40 [==============================] - 0s 3ms/step - loss: 12466595840.0000 - mean_squared_error: 12355262464.0000 - val_loss: 12275201024.0000 - val_mean_squared_error: 12207956992.0000\n",
            "Epoch 63/100\n",
            "40/40 [==============================] - 0s 4ms/step - loss: 12465530880.0000 - mean_squared_error: 12414031872.0000 - val_loss: 12274862080.0000 - val_mean_squared_error: 12207613952.0000\n",
            "Epoch 64/100\n",
            "40/40 [==============================] - 0s 3ms/step - loss: 12465358848.0000 - mean_squared_error: 12379658240.0000 - val_loss: 12274805760.0000 - val_mean_squared_error: 12207556608.0000\n",
            "Epoch 65/100\n",
            "40/40 [==============================] - 0s 3ms/step - loss: 12465304576.0000 - mean_squared_error: 12400052224.0000 - val_loss: 12274749440.0000 - val_mean_squared_error: 12207500288.0000\n",
            "Epoch 66/100\n",
            "40/40 [==============================] - 0s 4ms/step - loss: 12465246208.0000 - mean_squared_error: 12386935808.0000 - val_loss: 12274695168.0000 - val_mean_squared_error: 12207446016.0000\n",
            "Epoch 67/100\n",
            "40/40 [==============================] - 0s 3ms/step - loss: 12465190912.0000 - mean_squared_error: 12627943424.0000 - val_loss: 12274638848.0000 - val_mean_squared_error: 12207389696.0000\n",
            "Epoch 68/100\n",
            "40/40 [==============================] - 0s 3ms/step - loss: 12465136640.0000 - mean_squared_error: 12608008192.0000 - val_loss: 12274582528.0000 - val_mean_squared_error: 12207333376.0000\n",
            "Epoch 69/100\n",
            "40/40 [==============================] - 0s 4ms/step - loss: 12465080320.0000 - mean_squared_error: 12368121856.0000 - val_loss: 12274527232.0000 - val_mean_squared_error: 12207278080.0000\n",
            "Epoch 70/100\n",
            "40/40 [==============================] - 0s 3ms/step - loss: 12465022976.0000 - mean_squared_error: 12578189312.0000 - val_loss: 12274472960.0000 - val_mean_squared_error: 12207224832.0000\n",
            "Epoch 71/100\n",
            "40/40 [==============================] - 0s 4ms/step - loss: 12464970752.0000 - mean_squared_error: 12442671104.0000 - val_loss: 12274417664.0000 - val_mean_squared_error: 12207169536.0000\n",
            "Epoch 72/100\n",
            "40/40 [==============================] - 0s 4ms/step - loss: 12464914432.0000 - mean_squared_error: 12400949248.0000 - val_loss: 12274364416.0000 - val_mean_squared_error: 12207115264.0000\n",
            "Epoch 73/100\n",
            "40/40 [==============================] - 0s 3ms/step - loss: 12464859136.0000 - mean_squared_error: 12530124800.0000 - val_loss: 12274311168.0000 - val_mean_squared_error: 12207062016.0000\n",
            "Epoch 74/100\n",
            "40/40 [==============================] - 0s 3ms/step - loss: 12464804864.0000 - mean_squared_error: 12431526912.0000 - val_loss: 12274255872.0000 - val_mean_squared_error: 12207007744.0000\n",
            "Epoch 75/100\n",
            "40/40 [==============================] - 0s 3ms/step - loss: 12464752640.0000 - mean_squared_error: 12342638592.0000 - val_loss: 12274199552.0000 - val_mean_squared_error: 12206952448.0000\n",
            "Epoch 76/100\n",
            "40/40 [==============================] - 0s 3ms/step - loss: 12464698368.0000 - mean_squared_error: 12417718272.0000 - val_loss: 12274145280.0000 - val_mean_squared_error: 12206897152.0000\n",
            "Epoch 77/100\n",
            "40/40 [==============================] - 0s 4ms/step - loss: 12464643072.0000 - mean_squared_error: 12564521984.0000 - val_loss: 12274091008.0000 - val_mean_squared_error: 12206843904.0000\n",
            "Epoch 78/100\n",
            "40/40 [==============================] - 0s 4ms/step - loss: 12464589824.0000 - mean_squared_error: 12367813632.0000 - val_loss: 12274037760.0000 - val_mean_squared_error: 12206790656.0000\n",
            "Epoch 79/100\n",
            "40/40 [==============================] - 0s 3ms/step - loss: 12464534528.0000 - mean_squared_error: 12379559936.0000 - val_loss: 12273985536.0000 - val_mean_squared_error: 12206737408.0000\n",
            "Epoch 80/100\n",
            "40/40 [==============================] - 0s 4ms/step - loss: 12464484352.0000 - mean_squared_error: 12362357760.0000 - val_loss: 12273931264.0000 - val_mean_squared_error: 12206684160.0000\n",
            "Epoch 81/100\n",
            "40/40 [==============================] - 0s 5ms/step - loss: 12464428032.0000 - mean_squared_error: 12363511808.0000 - val_loss: 12273876992.0000 - val_mean_squared_error: 12206629888.0000\n",
            "Epoch 82/100\n",
            "40/40 [==============================] - 0s 4ms/step - loss: 12464377856.0000 - mean_squared_error: 12389294080.0000 - val_loss: 12273825792.0000 - val_mean_squared_error: 12206577664.0000\n",
            "Epoch 83/100\n",
            "40/40 [==============================] - 0s 6ms/step - loss: 12464323584.0000 - mean_squared_error: 12414214144.0000 - val_loss: 12273770496.0000 - val_mean_squared_error: 12206524416.0000\n",
            "Epoch 84/100\n",
            "40/40 [==============================] - 0s 6ms/step - loss: 12464268288.0000 - mean_squared_error: 12521240576.0000 - val_loss: 12273718272.0000 - val_mean_squared_error: 12206471168.0000\n",
            "Epoch 85/100\n",
            "40/40 [==============================] - 0s 6ms/step - loss: 12464218112.0000 - mean_squared_error: 12464672768.0000 - val_loss: 12273667072.0000 - val_mean_squared_error: 12206418944.0000\n",
            "Epoch 86/100\n",
            "40/40 [==============================] - 0s 6ms/step - loss: 12464162816.0000 - mean_squared_error: 12445530112.0000 - val_loss: 12273611776.0000 - val_mean_squared_error: 12206364672.0000\n",
            "Epoch 87/100\n",
            "40/40 [==============================] - 0s 6ms/step - loss: 12464110592.0000 - mean_squared_error: 12411953152.0000 - val_loss: 12273558528.0000 - val_mean_squared_error: 12206312448.0000\n",
            "Epoch 88/100\n",
            "40/40 [==============================] - 0s 5ms/step - loss: 12464058368.0000 - mean_squared_error: 12496447488.0000 - val_loss: 12273506304.0000 - val_mean_squared_error: 12206258176.0000\n",
            "Epoch 89/100\n",
            "40/40 [==============================] - 0s 5ms/step - loss: 12464005120.0000 - mean_squared_error: 12507326464.0000 - val_loss: 12273454080.0000 - val_mean_squared_error: 12206206976.0000\n",
            "Epoch 90/100\n",
            "40/40 [==============================] - 0s 5ms/step - loss: 12463952896.0000 - mean_squared_error: 12398821376.0000 - val_loss: 12273400832.0000 - val_mean_squared_error: 12206154752.0000\n",
            "Epoch 91/100\n",
            "40/40 [==============================] - 0s 5ms/step - loss: 12463900672.0000 - mean_squared_error: 12555081728.0000 - val_loss: 12273349632.0000 - val_mean_squared_error: 12206102528.0000\n",
            "Epoch 92/100\n",
            "40/40 [==============================] - 0s 5ms/step - loss: 12463847424.0000 - mean_squared_error: 12394507264.0000 - val_loss: 12273294336.0000 - val_mean_squared_error: 12206049280.0000\n",
            "Epoch 93/100\n",
            "40/40 [==============================] - 0s 5ms/step - loss: 12463796224.0000 - mean_squared_error: 12480053248.0000 - val_loss: 12273244160.0000 - val_mean_squared_error: 12205998080.0000\n",
            "Epoch 94/100\n",
            "40/40 [==============================] - 0s 4ms/step - loss: 12463744000.0000 - mean_squared_error: 12566861824.0000 - val_loss: 12273192960.0000 - val_mean_squared_error: 12205946880.0000\n",
            "Epoch 95/100\n",
            "40/40 [==============================] - 0s 6ms/step - loss: 12463690752.0000 - mean_squared_error: 12416260096.0000 - val_loss: 12273139712.0000 - val_mean_squared_error: 12205893632.0000\n",
            "Epoch 96/100\n",
            "40/40 [==============================] - 0s 6ms/step - loss: 12463638528.0000 - mean_squared_error: 12569085952.0000 - val_loss: 12273086464.0000 - val_mean_squared_error: 12205840384.0000\n",
            "Epoch 97/100\n",
            "40/40 [==============================] - 0s 7ms/step - loss: 12463588352.0000 - mean_squared_error: 12571515904.0000 - val_loss: 12273035264.0000 - val_mean_squared_error: 12205790208.0000\n",
            "Epoch 98/100\n",
            "40/40 [==============================] - 0s 5ms/step - loss: 12463536128.0000 - mean_squared_error: 12394079232.0000 - val_loss: 12272982016.0000 - val_mean_squared_error: 12205736960.0000\n",
            "Epoch 99/100\n",
            "40/40 [==============================] - 0s 5ms/step - loss: 12463481856.0000 - mean_squared_error: 12367886336.0000 - val_loss: 12272929792.0000 - val_mean_squared_error: 12205684736.0000\n",
            "Epoch 100/100\n",
            "40/40 [==============================] - 0s 4ms/step - loss: 12463428608.0000 - mean_squared_error: 12579170304.0000 - val_loss: 12272878592.0000 - val_mean_squared_error: 12205633536.0000\n"
          ]
        }
      ]
    },
    {
      "cell_type": "code",
      "source": [
        "y_pred8=ann.predict(X_test)\n",
        "\n",
        "print('Coefficient of Determination (R2 Score)=',r2_score(y_test, y_pred8))\n",
        "\n",
        "print('Mean Squared Error= ',mean_squared_error(y_test, y_pred8))"
      ],
      "metadata": {
        "colab": {
          "base_uri": "https://localhost:8080/"
        },
        "id": "rWFts9P1euCB",
        "outputId": "5601cd02-fb17-46bd-bffe-cbca2a40a070"
      },
      "execution_count": 136,
      "outputs": [
        {
          "output_type": "stream",
          "name": "stdout",
          "text": [
            "49/49 [==============================] - 0s 1ms/step\n",
            "Coefficient of Determination (R2 Score)= -0.507512352180933\n",
            "Mean Squared Error=  13822242742.846851\n"
          ]
        }
      ]
    },
    {
      "cell_type": "markdown",
      "source": [
        "# Model Comparison"
      ],
      "metadata": {
        "id": "9jrNmNl2G5m_"
      }
    },
    {
      "cell_type": "code",
      "source": [
        "comp=pd.DataFrame({'Models':['Linear Regression','Bayesian Ridge regressor', \n",
        "                             'Decision Tree Regressor','Lasso Regression',\n",
        "                             'Random Forest Regressor','Polynomial Regression', \n",
        "                             'K Nearest Neighbor', 'Artificial Neural Network'],\n",
        "                   \n",
        "                   'Coefficient of Determination (R2 Score) ':[r2_score(y_test, y_pred1)*100,\n",
        "                                                               r2_score(y_test, y_pred2)*100,\n",
        "                                                               r2_score(y_test, y_pred3)*100,\n",
        "                                                               r2_score(y_test, y_pred4)*100,\n",
        "                                                               r2_score(y_test, y_pred5)*100,\n",
        "                                                               r2_score(y_test, y_pred6)*100,\n",
        "                                                               #r2_score(y_test, y_pred7)*100,\n",
        "                                                               max(r2_val)*100,\n",
        "                                                               r2_score(y_test, y_pred8)*100\n",
        "                                                               ],\n",
        "                   'Mean Squared Error':[mean_squared_error(y_test, y_pred1),\n",
        "                                         mean_squared_error(y_test, y_pred2),\n",
        "                                         mean_squared_error(y_test, y_pred3),\n",
        "                                         mean_squared_error(y_test, y_pred4),\n",
        "                                         mean_squared_error(y_test, y_pred5),\n",
        "                                         mean_squared_error(y_test, y_pred6),\n",
        "                                         #mean_squared_error(y_test, y_pred7),\n",
        "                                         min(mse_val),\n",
        "                                         mean_squared_error(y_test, y_pred8)\n",
        "                                          ] } )"
      ],
      "metadata": {
        "id": "QExVhLjWG5S1"
      },
      "execution_count": 137,
      "outputs": []
    },
    {
      "cell_type": "code",
      "source": [
        "comp\n",
        "comp.style.format(\"{:.1f}\")\n",
        "pd.set_option('display.float_format', str)"
      ],
      "metadata": {
        "id": "-24IX3QtHj6B"
      },
      "execution_count": 138,
      "outputs": []
    },
    {
      "cell_type": "code",
      "source": [
        "comp"
      ],
      "metadata": {
        "colab": {
          "base_uri": "https://localhost:8080/",
          "height": 300
        },
        "id": "mTlDladBlR_N",
        "outputId": "516e4bd8-f382-4d49-fc8c-74f3cc1d2f1c"
      },
      "execution_count": 139,
      "outputs": [
        {
          "output_type": "execute_result",
          "data": {
            "text/plain": [
              "                      Models  Coefficient of Determination (R2 Score)   \\\n",
              "0          Linear Regression                         51.91615539423922   \n",
              "1   Bayesian Ridge regressor                        51.547288825411506   \n",
              "2    Decision Tree Regressor                         36.65430566269327   \n",
              "3           Lasso Regression                         51.91612235135079   \n",
              "4    Random Forest Regressor                        59.327592955859544   \n",
              "5      Polynomial Regression                        60.241625465431746   \n",
              "6         K Nearest Neighbor                         96.52088020124636   \n",
              "7  Artificial Neural Network                       -50.751235218093306   \n",
              "\n",
              "   Mean Squared Error  \n",
              "0   4408763690.649902  \n",
              "1   4442584728.644594  \n",
              "2   5808108720.155581  \n",
              "3   4408766720.322092  \n",
              "4  3729215765.8719454  \n",
              "5  3645408961.8753953  \n",
              "6   318997309.1779062  \n",
              "7  13822242742.846851  "
            ],
            "text/html": [
              "\n",
              "  <div id=\"df-3f6e510d-341b-46f7-bc38-da23a6455cc2\">\n",
              "    <div class=\"colab-df-container\">\n",
              "      <div>\n",
              "<style scoped>\n",
              "    .dataframe tbody tr th:only-of-type {\n",
              "        vertical-align: middle;\n",
              "    }\n",
              "\n",
              "    .dataframe tbody tr th {\n",
              "        vertical-align: top;\n",
              "    }\n",
              "\n",
              "    .dataframe thead th {\n",
              "        text-align: right;\n",
              "    }\n",
              "</style>\n",
              "<table border=\"1\" class=\"dataframe\">\n",
              "  <thead>\n",
              "    <tr style=\"text-align: right;\">\n",
              "      <th></th>\n",
              "      <th>Models</th>\n",
              "      <th>Coefficient of Determination (R2 Score)</th>\n",
              "      <th>Mean Squared Error</th>\n",
              "    </tr>\n",
              "  </thead>\n",
              "  <tbody>\n",
              "    <tr>\n",
              "      <th>0</th>\n",
              "      <td>Linear Regression</td>\n",
              "      <td>51.91615539423922</td>\n",
              "      <td>4408763690.649902</td>\n",
              "    </tr>\n",
              "    <tr>\n",
              "      <th>1</th>\n",
              "      <td>Bayesian Ridge regressor</td>\n",
              "      <td>51.547288825411506</td>\n",
              "      <td>4442584728.644594</td>\n",
              "    </tr>\n",
              "    <tr>\n",
              "      <th>2</th>\n",
              "      <td>Decision Tree Regressor</td>\n",
              "      <td>36.65430566269327</td>\n",
              "      <td>5808108720.155581</td>\n",
              "    </tr>\n",
              "    <tr>\n",
              "      <th>3</th>\n",
              "      <td>Lasso Regression</td>\n",
              "      <td>51.91612235135079</td>\n",
              "      <td>4408766720.322092</td>\n",
              "    </tr>\n",
              "    <tr>\n",
              "      <th>4</th>\n",
              "      <td>Random Forest Regressor</td>\n",
              "      <td>59.327592955859544</td>\n",
              "      <td>3729215765.8719454</td>\n",
              "    </tr>\n",
              "    <tr>\n",
              "      <th>5</th>\n",
              "      <td>Polynomial Regression</td>\n",
              "      <td>60.241625465431746</td>\n",
              "      <td>3645408961.8753953</td>\n",
              "    </tr>\n",
              "    <tr>\n",
              "      <th>6</th>\n",
              "      <td>K Nearest Neighbor</td>\n",
              "      <td>96.52088020124636</td>\n",
              "      <td>318997309.1779062</td>\n",
              "    </tr>\n",
              "    <tr>\n",
              "      <th>7</th>\n",
              "      <td>Artificial Neural Network</td>\n",
              "      <td>-50.751235218093306</td>\n",
              "      <td>13822242742.846851</td>\n",
              "    </tr>\n",
              "  </tbody>\n",
              "</table>\n",
              "</div>\n",
              "      <button class=\"colab-df-convert\" onclick=\"convertToInteractive('df-3f6e510d-341b-46f7-bc38-da23a6455cc2')\"\n",
              "              title=\"Convert this dataframe to an interactive table.\"\n",
              "              style=\"display:none;\">\n",
              "        \n",
              "  <svg xmlns=\"http://www.w3.org/2000/svg\" height=\"24px\"viewBox=\"0 0 24 24\"\n",
              "       width=\"24px\">\n",
              "    <path d=\"M0 0h24v24H0V0z\" fill=\"none\"/>\n",
              "    <path d=\"M18.56 5.44l.94 2.06.94-2.06 2.06-.94-2.06-.94-.94-2.06-.94 2.06-2.06.94zm-11 1L8.5 8.5l.94-2.06 2.06-.94-2.06-.94L8.5 2.5l-.94 2.06-2.06.94zm10 10l.94 2.06.94-2.06 2.06-.94-2.06-.94-.94-2.06-.94 2.06-2.06.94z\"/><path d=\"M17.41 7.96l-1.37-1.37c-.4-.4-.92-.59-1.43-.59-.52 0-1.04.2-1.43.59L10.3 9.45l-7.72 7.72c-.78.78-.78 2.05 0 2.83L4 21.41c.39.39.9.59 1.41.59.51 0 1.02-.2 1.41-.59l7.78-7.78 2.81-2.81c.8-.78.8-2.07 0-2.86zM5.41 20L4 18.59l7.72-7.72 1.47 1.35L5.41 20z\"/>\n",
              "  </svg>\n",
              "      </button>\n",
              "      \n",
              "  <style>\n",
              "    .colab-df-container {\n",
              "      display:flex;\n",
              "      flex-wrap:wrap;\n",
              "      gap: 12px;\n",
              "    }\n",
              "\n",
              "    .colab-df-convert {\n",
              "      background-color: #E8F0FE;\n",
              "      border: none;\n",
              "      border-radius: 50%;\n",
              "      cursor: pointer;\n",
              "      display: none;\n",
              "      fill: #1967D2;\n",
              "      height: 32px;\n",
              "      padding: 0 0 0 0;\n",
              "      width: 32px;\n",
              "    }\n",
              "\n",
              "    .colab-df-convert:hover {\n",
              "      background-color: #E2EBFA;\n",
              "      box-shadow: 0px 1px 2px rgba(60, 64, 67, 0.3), 0px 1px 3px 1px rgba(60, 64, 67, 0.15);\n",
              "      fill: #174EA6;\n",
              "    }\n",
              "\n",
              "    [theme=dark] .colab-df-convert {\n",
              "      background-color: #3B4455;\n",
              "      fill: #D2E3FC;\n",
              "    }\n",
              "\n",
              "    [theme=dark] .colab-df-convert:hover {\n",
              "      background-color: #434B5C;\n",
              "      box-shadow: 0px 1px 3px 1px rgba(0, 0, 0, 0.15);\n",
              "      filter: drop-shadow(0px 1px 2px rgba(0, 0, 0, 0.3));\n",
              "      fill: #FFFFFF;\n",
              "    }\n",
              "  </style>\n",
              "\n",
              "      <script>\n",
              "        const buttonEl =\n",
              "          document.querySelector('#df-3f6e510d-341b-46f7-bc38-da23a6455cc2 button.colab-df-convert');\n",
              "        buttonEl.style.display =\n",
              "          google.colab.kernel.accessAllowed ? 'block' : 'none';\n",
              "\n",
              "        async function convertToInteractive(key) {\n",
              "          const element = document.querySelector('#df-3f6e510d-341b-46f7-bc38-da23a6455cc2');\n",
              "          const dataTable =\n",
              "            await google.colab.kernel.invokeFunction('convertToInteractive',\n",
              "                                                     [key], {});\n",
              "          if (!dataTable) return;\n",
              "\n",
              "          const docLinkHtml = 'Like what you see? Visit the ' +\n",
              "            '<a target=\"_blank\" href=https://colab.research.google.com/notebooks/data_table.ipynb>data table notebook</a>'\n",
              "            + ' to learn more about interactive tables.';\n",
              "          element.innerHTML = '';\n",
              "          dataTable['output_type'] = 'display_data';\n",
              "          await google.colab.output.renderOutput(dataTable, element);\n",
              "          const docLink = document.createElement('div');\n",
              "          docLink.innerHTML = docLinkHtml;\n",
              "          element.appendChild(docLink);\n",
              "        }\n",
              "      </script>\n",
              "    </div>\n",
              "  </div>\n",
              "  "
            ]
          },
          "metadata": {},
          "execution_count": 139
        }
      ]
    },
    {
      "cell_type": "markdown",
      "source": [
        "# Best Model "
      ],
      "metadata": {
        "id": "TAO12cCVjLB9"
      }
    },
    {
      "cell_type": "code",
      "source": [
        "r2_df =comp.loc[comp.iloc[:,1] == comp.iloc[:,1].max()]"
      ],
      "metadata": {
        "id": "4NwnhTdhgv3x"
      },
      "execution_count": 140,
      "outputs": []
    },
    {
      "cell_type": "code",
      "source": [
        "r2_df"
      ],
      "metadata": {
        "colab": {
          "base_uri": "https://localhost:8080/",
          "height": 81
        },
        "id": "cnAcpk5ahapX",
        "outputId": "655f569c-8925-419f-c5d6-722217e1f08a"
      },
      "execution_count": 141,
      "outputs": [
        {
          "output_type": "execute_result",
          "data": {
            "text/plain": [
              "               Models  Coefficient of Determination (R2 Score)   \\\n",
              "6  K Nearest Neighbor                         96.52088020124636   \n",
              "\n",
              "   Mean Squared Error  \n",
              "6   318997309.1779062  "
            ],
            "text/html": [
              "\n",
              "  <div id=\"df-441e2457-f91f-40f6-98aa-4b0df2271ee0\">\n",
              "    <div class=\"colab-df-container\">\n",
              "      <div>\n",
              "<style scoped>\n",
              "    .dataframe tbody tr th:only-of-type {\n",
              "        vertical-align: middle;\n",
              "    }\n",
              "\n",
              "    .dataframe tbody tr th {\n",
              "        vertical-align: top;\n",
              "    }\n",
              "\n",
              "    .dataframe thead th {\n",
              "        text-align: right;\n",
              "    }\n",
              "</style>\n",
              "<table border=\"1\" class=\"dataframe\">\n",
              "  <thead>\n",
              "    <tr style=\"text-align: right;\">\n",
              "      <th></th>\n",
              "      <th>Models</th>\n",
              "      <th>Coefficient of Determination (R2 Score)</th>\n",
              "      <th>Mean Squared Error</th>\n",
              "    </tr>\n",
              "  </thead>\n",
              "  <tbody>\n",
              "    <tr>\n",
              "      <th>6</th>\n",
              "      <td>K Nearest Neighbor</td>\n",
              "      <td>96.52088020124636</td>\n",
              "      <td>318997309.1779062</td>\n",
              "    </tr>\n",
              "  </tbody>\n",
              "</table>\n",
              "</div>\n",
              "      <button class=\"colab-df-convert\" onclick=\"convertToInteractive('df-441e2457-f91f-40f6-98aa-4b0df2271ee0')\"\n",
              "              title=\"Convert this dataframe to an interactive table.\"\n",
              "              style=\"display:none;\">\n",
              "        \n",
              "  <svg xmlns=\"http://www.w3.org/2000/svg\" height=\"24px\"viewBox=\"0 0 24 24\"\n",
              "       width=\"24px\">\n",
              "    <path d=\"M0 0h24v24H0V0z\" fill=\"none\"/>\n",
              "    <path d=\"M18.56 5.44l.94 2.06.94-2.06 2.06-.94-2.06-.94-.94-2.06-.94 2.06-2.06.94zm-11 1L8.5 8.5l.94-2.06 2.06-.94-2.06-.94L8.5 2.5l-.94 2.06-2.06.94zm10 10l.94 2.06.94-2.06 2.06-.94-2.06-.94-.94-2.06-.94 2.06-2.06.94z\"/><path d=\"M17.41 7.96l-1.37-1.37c-.4-.4-.92-.59-1.43-.59-.52 0-1.04.2-1.43.59L10.3 9.45l-7.72 7.72c-.78.78-.78 2.05 0 2.83L4 21.41c.39.39.9.59 1.41.59.51 0 1.02-.2 1.41-.59l7.78-7.78 2.81-2.81c.8-.78.8-2.07 0-2.86zM5.41 20L4 18.59l7.72-7.72 1.47 1.35L5.41 20z\"/>\n",
              "  </svg>\n",
              "      </button>\n",
              "      \n",
              "  <style>\n",
              "    .colab-df-container {\n",
              "      display:flex;\n",
              "      flex-wrap:wrap;\n",
              "      gap: 12px;\n",
              "    }\n",
              "\n",
              "    .colab-df-convert {\n",
              "      background-color: #E8F0FE;\n",
              "      border: none;\n",
              "      border-radius: 50%;\n",
              "      cursor: pointer;\n",
              "      display: none;\n",
              "      fill: #1967D2;\n",
              "      height: 32px;\n",
              "      padding: 0 0 0 0;\n",
              "      width: 32px;\n",
              "    }\n",
              "\n",
              "    .colab-df-convert:hover {\n",
              "      background-color: #E2EBFA;\n",
              "      box-shadow: 0px 1px 2px rgba(60, 64, 67, 0.3), 0px 1px 3px 1px rgba(60, 64, 67, 0.15);\n",
              "      fill: #174EA6;\n",
              "    }\n",
              "\n",
              "    [theme=dark] .colab-df-convert {\n",
              "      background-color: #3B4455;\n",
              "      fill: #D2E3FC;\n",
              "    }\n",
              "\n",
              "    [theme=dark] .colab-df-convert:hover {\n",
              "      background-color: #434B5C;\n",
              "      box-shadow: 0px 1px 3px 1px rgba(0, 0, 0, 0.15);\n",
              "      filter: drop-shadow(0px 1px 2px rgba(0, 0, 0, 0.3));\n",
              "      fill: #FFFFFF;\n",
              "    }\n",
              "  </style>\n",
              "\n",
              "      <script>\n",
              "        const buttonEl =\n",
              "          document.querySelector('#df-441e2457-f91f-40f6-98aa-4b0df2271ee0 button.colab-df-convert');\n",
              "        buttonEl.style.display =\n",
              "          google.colab.kernel.accessAllowed ? 'block' : 'none';\n",
              "\n",
              "        async function convertToInteractive(key) {\n",
              "          const element = document.querySelector('#df-441e2457-f91f-40f6-98aa-4b0df2271ee0');\n",
              "          const dataTable =\n",
              "            await google.colab.kernel.invokeFunction('convertToInteractive',\n",
              "                                                     [key], {});\n",
              "          if (!dataTable) return;\n",
              "\n",
              "          const docLinkHtml = 'Like what you see? Visit the ' +\n",
              "            '<a target=\"_blank\" href=https://colab.research.google.com/notebooks/data_table.ipynb>data table notebook</a>'\n",
              "            + ' to learn more about interactive tables.';\n",
              "          element.innerHTML = '';\n",
              "          dataTable['output_type'] = 'display_data';\n",
              "          await google.colab.output.renderOutput(dataTable, element);\n",
              "          const docLink = document.createElement('div');\n",
              "          docLink.innerHTML = docLinkHtml;\n",
              "          element.appendChild(docLink);\n",
              "        }\n",
              "      </script>\n",
              "    </div>\n",
              "  </div>\n",
              "  "
            ]
          },
          "metadata": {},
          "execution_count": 141
        }
      ]
    },
    {
      "cell_type": "code",
      "source": [
        "mse_df=comp.loc[comp.iloc[:,2] == comp.iloc[:,2].min()]"
      ],
      "metadata": {
        "id": "F67F3qgiis8V"
      },
      "execution_count": 142,
      "outputs": []
    },
    {
      "cell_type": "code",
      "source": [
        "mse_df"
      ],
      "metadata": {
        "colab": {
          "base_uri": "https://localhost:8080/",
          "height": 81
        },
        "id": "iEd6iLvpjB6U",
        "outputId": "e4e38143-7519-493f-b9a3-5872ebc82a89"
      },
      "execution_count": 143,
      "outputs": [
        {
          "output_type": "execute_result",
          "data": {
            "text/plain": [
              "               Models  Coefficient of Determination (R2 Score)   \\\n",
              "6  K Nearest Neighbor                         96.52088020124636   \n",
              "\n",
              "   Mean Squared Error  \n",
              "6   318997309.1779062  "
            ],
            "text/html": [
              "\n",
              "  <div id=\"df-abc4629c-0eef-4804-8960-2a4e30ab6009\">\n",
              "    <div class=\"colab-df-container\">\n",
              "      <div>\n",
              "<style scoped>\n",
              "    .dataframe tbody tr th:only-of-type {\n",
              "        vertical-align: middle;\n",
              "    }\n",
              "\n",
              "    .dataframe tbody tr th {\n",
              "        vertical-align: top;\n",
              "    }\n",
              "\n",
              "    .dataframe thead th {\n",
              "        text-align: right;\n",
              "    }\n",
              "</style>\n",
              "<table border=\"1\" class=\"dataframe\">\n",
              "  <thead>\n",
              "    <tr style=\"text-align: right;\">\n",
              "      <th></th>\n",
              "      <th>Models</th>\n",
              "      <th>Coefficient of Determination (R2 Score)</th>\n",
              "      <th>Mean Squared Error</th>\n",
              "    </tr>\n",
              "  </thead>\n",
              "  <tbody>\n",
              "    <tr>\n",
              "      <th>6</th>\n",
              "      <td>K Nearest Neighbor</td>\n",
              "      <td>96.52088020124636</td>\n",
              "      <td>318997309.1779062</td>\n",
              "    </tr>\n",
              "  </tbody>\n",
              "</table>\n",
              "</div>\n",
              "      <button class=\"colab-df-convert\" onclick=\"convertToInteractive('df-abc4629c-0eef-4804-8960-2a4e30ab6009')\"\n",
              "              title=\"Convert this dataframe to an interactive table.\"\n",
              "              style=\"display:none;\">\n",
              "        \n",
              "  <svg xmlns=\"http://www.w3.org/2000/svg\" height=\"24px\"viewBox=\"0 0 24 24\"\n",
              "       width=\"24px\">\n",
              "    <path d=\"M0 0h24v24H0V0z\" fill=\"none\"/>\n",
              "    <path d=\"M18.56 5.44l.94 2.06.94-2.06 2.06-.94-2.06-.94-.94-2.06-.94 2.06-2.06.94zm-11 1L8.5 8.5l.94-2.06 2.06-.94-2.06-.94L8.5 2.5l-.94 2.06-2.06.94zm10 10l.94 2.06.94-2.06 2.06-.94-2.06-.94-.94-2.06-.94 2.06-2.06.94z\"/><path d=\"M17.41 7.96l-1.37-1.37c-.4-.4-.92-.59-1.43-.59-.52 0-1.04.2-1.43.59L10.3 9.45l-7.72 7.72c-.78.78-.78 2.05 0 2.83L4 21.41c.39.39.9.59 1.41.59.51 0 1.02-.2 1.41-.59l7.78-7.78 2.81-2.81c.8-.78.8-2.07 0-2.86zM5.41 20L4 18.59l7.72-7.72 1.47 1.35L5.41 20z\"/>\n",
              "  </svg>\n",
              "      </button>\n",
              "      \n",
              "  <style>\n",
              "    .colab-df-container {\n",
              "      display:flex;\n",
              "      flex-wrap:wrap;\n",
              "      gap: 12px;\n",
              "    }\n",
              "\n",
              "    .colab-df-convert {\n",
              "      background-color: #E8F0FE;\n",
              "      border: none;\n",
              "      border-radius: 50%;\n",
              "      cursor: pointer;\n",
              "      display: none;\n",
              "      fill: #1967D2;\n",
              "      height: 32px;\n",
              "      padding: 0 0 0 0;\n",
              "      width: 32px;\n",
              "    }\n",
              "\n",
              "    .colab-df-convert:hover {\n",
              "      background-color: #E2EBFA;\n",
              "      box-shadow: 0px 1px 2px rgba(60, 64, 67, 0.3), 0px 1px 3px 1px rgba(60, 64, 67, 0.15);\n",
              "      fill: #174EA6;\n",
              "    }\n",
              "\n",
              "    [theme=dark] .colab-df-convert {\n",
              "      background-color: #3B4455;\n",
              "      fill: #D2E3FC;\n",
              "    }\n",
              "\n",
              "    [theme=dark] .colab-df-convert:hover {\n",
              "      background-color: #434B5C;\n",
              "      box-shadow: 0px 1px 3px 1px rgba(0, 0, 0, 0.15);\n",
              "      filter: drop-shadow(0px 1px 2px rgba(0, 0, 0, 0.3));\n",
              "      fill: #FFFFFF;\n",
              "    }\n",
              "  </style>\n",
              "\n",
              "      <script>\n",
              "        const buttonEl =\n",
              "          document.querySelector('#df-abc4629c-0eef-4804-8960-2a4e30ab6009 button.colab-df-convert');\n",
              "        buttonEl.style.display =\n",
              "          google.colab.kernel.accessAllowed ? 'block' : 'none';\n",
              "\n",
              "        async function convertToInteractive(key) {\n",
              "          const element = document.querySelector('#df-abc4629c-0eef-4804-8960-2a4e30ab6009');\n",
              "          const dataTable =\n",
              "            await google.colab.kernel.invokeFunction('convertToInteractive',\n",
              "                                                     [key], {});\n",
              "          if (!dataTable) return;\n",
              "\n",
              "          const docLinkHtml = 'Like what you see? Visit the ' +\n",
              "            '<a target=\"_blank\" href=https://colab.research.google.com/notebooks/data_table.ipynb>data table notebook</a>'\n",
              "            + ' to learn more about interactive tables.';\n",
              "          element.innerHTML = '';\n",
              "          dataTable['output_type'] = 'display_data';\n",
              "          await google.colab.output.renderOutput(dataTable, element);\n",
              "          const docLink = document.createElement('div');\n",
              "          docLink.innerHTML = docLinkHtml;\n",
              "          element.appendChild(docLink);\n",
              "        }\n",
              "      </script>\n",
              "    </div>\n",
              "  </div>\n",
              "  "
            ]
          },
          "metadata": {},
          "execution_count": 143
        }
      ]
    },
    {
      "cell_type": "markdown",
      "source": [
        "**KNN is the best model with least Mean Squared Error and Maximum R2 score**"
      ],
      "metadata": {
        "id": "DZQxa9hSjvaY"
      }
    }
  ]
}